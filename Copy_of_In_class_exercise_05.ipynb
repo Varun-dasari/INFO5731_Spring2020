{
  "nbformat": 4,
  "nbformat_minor": 0,
  "metadata": {
    "colab": {
      "name": "Copy of In_class_exercise_05.ipynb",
      "provenance": [],
      "collapsed_sections": [],
      "include_colab_link": true
    },
    "kernelspec": {
      "name": "python3",
      "display_name": "Python 3"
    }
  },
  "cells": [
    {
      "cell_type": "markdown",
      "metadata": {
        "id": "view-in-github",
        "colab_type": "text"
      },
      "source": [
        "<a href=\"https://colab.research.google.com/github/Varun-dasari/INFO5731_Spring2020/blob/master/Copy_of_In_class_exercise_05.ipynb\" target=\"_parent\"><img src=\"https://colab.research.google.com/assets/colab-badge.svg\" alt=\"Open In Colab\"/></a>"
      ]
    },
    {
      "cell_type": "markdown",
      "metadata": {
        "id": "z7TahL04sVvR",
        "colab_type": "text"
      },
      "source": [
        "# **The fifth in-class-exercise**"
      ]
    },
    {
      "cell_type": "markdown",
      "metadata": {
        "id": "ejyZITr8sjnh",
        "colab_type": "text"
      },
      "source": [
        "## **1. Rule-based information extraction**\n",
        "\n",
        "Use any keywords related to data science, natural language processing, machine learning to search from google scholar, get the **titles** of 100 articles (either by web scraping or manually) about this topic, define a set of patterns to extract the research questions/problems, methods/algorithms/models, datasets, applications, or any other important information about this topic. "
      ]
    },
    {
      "cell_type": "code",
      "metadata": {
        "id": "XvR_O9D8sOUY",
        "colab_type": "code",
        "colab": {
          "base_uri": "https://localhost:8080/",
          "height": 54
        },
        "outputId": "fc578504-0a14-4ca4-c321-d580ebff83c9"
      },
      "source": [
        "import csv\n",
        "import pandas as pd \n",
        "with open(\"titles.txt\", \"r\", newline = \"\", encoding = 'utf-8') as file:\n",
        "  t = file.read()\n",
        "t  "
      ],
      "execution_count": 71,
      "outputs": [
        {
          "output_type": "execute_result",
          "data": {
            "text/plain": [
              "'\\r\\nAutonomous vehicles can be fooled to ‘see’ nonexistent obstacles\\r\\nPredicting the coronavirus outbreak: How AI connects the dots to warn about disease threats\\r\\nFriday essay: a real life experiment illuminates the future of books and reading\\r\\nAI algorithms intended to root out welfare fraud often end up punishing the poor instead\\r\\nDesigning artificial brains can help us learn more about real ones\\r\\nThe robot wears Prada: what happens when AI starts giving out fashion tips?\\r\\nAI could be a force for good – but we’re currently heading for a darker future\\r\\nHow an AI trained to read scientific papers could predict future discoveries\\r\\nDetecting deepfakes by looking closely reveals a way to protect against them\\r\\nAI develops human-like number sense – taking us a step closer to building machines with general intelligence\\r\\nHow Uber and other digital platforms could trick us using behavioral science – unless we act fast\\r\\nHow machine learning can help fight illegal wildlife trade on social media\\r\\nAlgorithms are maximising profits for online retailers by colluding to keep prices high\\r\\nWorried about AI taking over the world? You may be making some rather unscientific assumptions\\r\\nWhen AI meets your shopping experience it knows what you buy – and what you ought to buy\\r\\nFacial biometrics: how smartphones can recognise us\\r\\nAI more accurate than animal testing for spotting toxic chemicals\\r\\nHow man and machine can work together to diagnose diseases in medical scans\\r\\nThe internet is terrible at answering most tough questions. Our ‘wisdom of the crowd’ tool can help\\r\\nData mining: why the EU’s proposed copyright measures get it wrong\\r\\nVoice control: why AI must resist our bad habit of stereotyping human speech\\r\\nAI can book a restaurant or a hair appointment, but don’t expect a full conversation\\r\\nHow artificial intelligence can detect – and create – fake news\\r\\nAI will be used by humanitarian organisations – this could deepen neocolonial tendencies\\r\\nArtificial intelligence: between scientific, ethical and commercial issues\\r\\nHow Cambridge Analytica’s Facebook targeting model really worked – according to the person who built it\\r\\nEvolutionary computation has been promising self-programming machines for 60 years – so where are they?\\r\\nNo, artificial intelligence won’t steal your children’s jobs – it will make them more creative and productive\\r\\nAI is learning from our encounters with nature – and that’s a concern\\r\\nGoogle’s artificial intelligence finds two new exoplanets missed by human eyes\\r\\nDeepMind: can we ever trust a machine to diagnose cancer?\\r\\nGoogle’s new Go-playing AI learns fast, and even thrashed its former self\\r\\nAre self-driving cars the future of mobility for disabled people?\\r\\nWhy Google wants to think more like you and less like a machin\\r\\nThere’s a technology that could stop Facebook Live being used to stream murders – but it has a cost\\r\\n‘Machine folk’ music composed by AI shows technology’s creative side\\r\\nHow understanding animals can help us make the most of artificial intelligenc\\r\\nA brain scan to tell if you’re depressed – and what treatment is needed\\r\\nArtificial intelligence: here’s what you need to know to understand how machines learn\\r\\nWhy artificial intelligence has not revolutionised healthcare… yet\\r\\nWhy watching Westworld’s robots should make us question ourselves\\r\\nHas auto-translation software finally stopped being so useless?\\r\\nWhat if intelligent machines could learn from each other?\\r\\nCan big data studies know your thoughts and predict who will win an election?\\r\\nAI can excel at medical diagnosis, but the harder task is to win hearts and minds first\\r\\nHow science can help us make AI less creepy and more trustworthy\\r\\nWhy football, not chess, is the true final frontier for robotic artificial intelligence\\r\\nHow computing power can help us look deep within our bodies, and even the Earth\\r\\nBig data has not revolutionised medicine – we need big theory alongside it\\r\\nGoogle’s Go victory shows AI thinking can be unpredictable, and that’s a concern\\r\\nBeyond today’s crowdsourced science to tomorrow’s citizen science cyborgs\\r\\nComputer’s Go victory reminds us that we need to question our reliance on AI\\r\\nWhat AI can tell us about the U.S. Supreme Court\\r\\nGoogle’s Go triumph is a milestone for artificial intelligence research\\r\\nDigital diagnosis: intelligent machines do a better job than humans\\r\\nWhat powers Facebook and Google’s AI – and how computers could mimic brains\\r\\nMachine learning and big data know it wasn’t you who just swiped your credit card\\r\\nGoogle’s release of TensorFlow could be a game-changer in the future of AI\\r\\nDoes ‘Twitter Moments’ herald the comeback of human beings?\\r\\nStatistics and data science degrees: Overhyped or the real deal?\\r\\nBig Data analyses depend on starting with clean data points\\r\\nData science could help Californians battle future wildfires\\r\\nWhy we’re training the next generation of lawyers in big data\\r\\nThe next big discovery in astronomy? Scientists probably found it years ago – but they don’t know it yet\\r\\nHalf of Earth’s satellites restrict use of climate data\\r\\nData science can help us fight human trafficking\\r\\nIt’s OK to feed wild birds – here are some tips for doing it the right way\\r\\nHow Twitter gives scientists a window into human happiness and health\\r\\nAn armed robber’s Supreme Court case could affect all Americans’ digital privacy for decades to come\\r\\nHow computers broke science – and what we can do to fix it\\r\\nNatural language processing and affective computing\\r\\nHow an AI trained to read scientific papers could predict future discoveries\\r\\nBig data’s ‘streetlight effect’: where and how we look affects what we see\\r\\nHow computers help biologists crack life’s secrets\\r\\nMachine learning and big data know it wasn’t you who just swiped your credit card\\r\\nWe use big data to sentence criminals. But can the algorithms really tell us what we need to know?\\r\\nAlphabet’s new plan to track 10,000 people could take wearables to the next level\\r\\nHow big data and algorithms are slashing the cost of fixing Flint’s water crisis\\r\\nBig data algorithms can discriminate, and it’s not clear what to do about it\\r\\nExpanding citizen science models to enhance open innovation\\r\\nNew opening at The Conversation: data and applied math editor\\r\\nHow much is your data worth to tech companies? Lawmakers want to tell you, but it’s not that easy to calculate\\r\\nBeyond today’s crowdsourced science to tomorrow’s citizen science cyborgs\\r\\nWhat Netflix can teach us about treating cancer\\r\\nImproving patient care by bridging the divide between doctors and data scientists\\r\\nSmall increases in radon track natural gas development with fracking in Pennsylvania\\r\\nData insecurity leads to economic injustice – and hits the pocketbooks of the poor most\\r\\nThink you’re reading the news for free? New research shows you’re likely paying with your privacy\\r\\nIs Google’s eagerness to answer questions promoting more falsehood online?\\r\\nAI will be used by humanitarian organisations – this could deepen neocolonial tendencies\\r\\nWhat Amazon’s decision to retrain a third of its employees means for the future of work\\r\\nRobots won’t steal our jobs if we put workers at center of AI revolution\\r\\nBig data algorithms can discriminate, and it’s not clear what to do about it\\r\\nMisinformation and biases infect social media, both intentionally and accidentally\\r\\nThe factories of the past are turning into the data centers of the future\\r\\nPeople prefer robots to explain themselves – and a brief summary doesn’t cut it\\r\\nWhen AI meets your shopping experience it knows what you buy – and what you ought to buy\\r\\nFaster, more accurate diagnoses: Healthcare applications of AI research\\r\\nComputer science can only help – not hurt – art historians\\r\\nArtificial intelligence can now emulate human behaviors – soon it will be dangerously good\\r\\n'"
            ]
          },
          "metadata": {
            "tags": []
          },
          "execution_count": 71
        }
      ]
    },
    {
      "cell_type": "code",
      "metadata": {
        "id": "-EABQFBwTZr7",
        "colab_type": "code",
        "colab": {
          "base_uri": "https://localhost:8080/",
          "height": 363
        },
        "outputId": "25d45e3e-006d-449d-eb30-b27c578b60e1"
      },
      "source": [
        "#!pip install display\n",
        "import pandas as pd\n",
        "import nltk\n",
        "import string\n",
        "import csv\n",
        "import re\n",
        "import spacy\n",
        "import numpy as np\n",
        "import math\n",
        "from tqdm import tqdm\n",
        "from spacy.tokens import span\n",
        "from spacy import display\n",
        "from spacy.matcher import Matcher\n",
        "\n",
        "pd.set_option('display.max_colwidth', 200)\n",
        "n = spacy.load(\"en_core_web_sm\")"
      ],
      "execution_count": 67,
      "outputs": [
        {
          "output_type": "error",
          "ename": "ImportError",
          "evalue": "ignored",
          "traceback": [
            "\u001b[0;31m---------------------------------------------------------------------------\u001b[0m",
            "\u001b[0;31mImportError\u001b[0m                               Traceback (most recent call last)",
            "\u001b[0;32m<ipython-input-67-b0ed9c09083b>\u001b[0m in \u001b[0;36m<module>\u001b[0;34m()\u001b[0m\n\u001b[1;32m      9\u001b[0m \u001b[0;32mfrom\u001b[0m \u001b[0mtqdm\u001b[0m \u001b[0;32mimport\u001b[0m \u001b[0mtqdm\u001b[0m\u001b[0;34m\u001b[0m\u001b[0;34m\u001b[0m\u001b[0m\n\u001b[1;32m     10\u001b[0m \u001b[0;32mfrom\u001b[0m \u001b[0mspacy\u001b[0m\u001b[0;34m.\u001b[0m\u001b[0mtokens\u001b[0m \u001b[0;32mimport\u001b[0m \u001b[0mspan\u001b[0m\u001b[0;34m\u001b[0m\u001b[0;34m\u001b[0m\u001b[0m\n\u001b[0;32m---> 11\u001b[0;31m \u001b[0;32mfrom\u001b[0m \u001b[0mspacy\u001b[0m \u001b[0;32mimport\u001b[0m \u001b[0mdisplay\u001b[0m\u001b[0;34m\u001b[0m\u001b[0;34m\u001b[0m\u001b[0m\n\u001b[0m\u001b[1;32m     12\u001b[0m \u001b[0;32mfrom\u001b[0m \u001b[0mspacy\u001b[0m\u001b[0;34m.\u001b[0m\u001b[0mmatcher\u001b[0m \u001b[0;32mimport\u001b[0m \u001b[0mMatcher\u001b[0m\u001b[0;34m\u001b[0m\u001b[0;34m\u001b[0m\u001b[0m\n\u001b[1;32m     13\u001b[0m \u001b[0;34m\u001b[0m\u001b[0m\n",
            "\u001b[0;31mImportError\u001b[0m: cannot import name 'display'",
            "",
            "\u001b[0;31m---------------------------------------------------------------------------\u001b[0;32m\nNOTE: If your import is failing due to a missing package, you can\nmanually install dependencies using either !pip or !apt.\n\nTo view examples of installing some common dependencies, click the\n\"Open Examples\" button below.\n\u001b[0;31m---------------------------------------------------------------------------\u001b[0m\n"
          ]
        }
      ]
    },
    {
      "cell_type": "code",
      "metadata": {
        "id": "eSFFCKk3V1GA",
        "colab_type": "code",
        "colab": {
          "base_uri": "https://localhost:8080/",
          "height": 229
        },
        "outputId": "07c8af27-b66a-49ae-fe7c-9e12e6d2592b"
      },
      "source": [
        "d = n('') #Need to insert one of the titles !\n",
        "for token in d:\n",
        "  print(token.text, \"-->\", token.dep_,\"-->\", token.pos_)\n",
        "p = [{}, {'lower':'knowledge', 'OP':'?'},{'lower':'graph','OP':'?'},{}, {'lower':'via'}, {'POS':'PROPN', 'OP':'+'},{}, {'POS':'Noun','OP':'*'}]\n",
        "matcher = Matcher(n.vocab)\n",
        "matcher.add(\"matching_1\", None, p)\n",
        "matches = matcher(d)\n",
        "span1 = d[matches[0][1]:matches[1][2]]\n",
        "span2 = d[matches[0][1]:matches[1][2]]\n",
        "if len(span1) >= len(span2) :\n",
        "  print(span1.text)\n",
        "print(span2.text)    "
      ],
      "execution_count": 68,
      "outputs": [
        {
          "output_type": "error",
          "ename": "NameError",
          "evalue": "ignored",
          "traceback": [
            "\u001b[0;31m---------------------------------------------------------------------------\u001b[0m",
            "\u001b[0;31mNameError\u001b[0m                                 Traceback (most recent call last)",
            "\u001b[0;32m<ipython-input-68-ece2cb3bbbf9>\u001b[0m in \u001b[0;36m<module>\u001b[0;34m()\u001b[0m\n\u001b[0;32m----> 1\u001b[0;31m \u001b[0md\u001b[0m \u001b[0;34m=\u001b[0m \u001b[0mn\u001b[0m\u001b[0;34m(\u001b[0m\u001b[0;34m'Training very deep networks via Mask R-CNN'\u001b[0m\u001b[0;34m)\u001b[0m\u001b[0;34m\u001b[0m\u001b[0;34m\u001b[0m\u001b[0m\n\u001b[0m\u001b[1;32m      2\u001b[0m \u001b[0;32mfor\u001b[0m \u001b[0mtoken\u001b[0m \u001b[0;32min\u001b[0m \u001b[0md\u001b[0m\u001b[0;34m:\u001b[0m\u001b[0;34m\u001b[0m\u001b[0;34m\u001b[0m\u001b[0m\n\u001b[1;32m      3\u001b[0m   \u001b[0mprint\u001b[0m\u001b[0;34m(\u001b[0m\u001b[0mtoken\u001b[0m\u001b[0;34m.\u001b[0m\u001b[0mtext\u001b[0m\u001b[0;34m,\u001b[0m \u001b[0;34m\"-->\"\u001b[0m\u001b[0;34m,\u001b[0m \u001b[0mtoken\u001b[0m\u001b[0;34m.\u001b[0m\u001b[0mdep_\u001b[0m\u001b[0;34m,\u001b[0m\u001b[0;34m\"-->\"\u001b[0m\u001b[0;34m,\u001b[0m \u001b[0mtoken\u001b[0m\u001b[0;34m.\u001b[0m\u001b[0mpos_\u001b[0m\u001b[0;34m)\u001b[0m\u001b[0;34m\u001b[0m\u001b[0;34m\u001b[0m\u001b[0m\n\u001b[1;32m      4\u001b[0m \u001b[0mp\u001b[0m \u001b[0;34m=\u001b[0m \u001b[0;34m[\u001b[0m\u001b[0;34m{\u001b[0m\u001b[0;34m}\u001b[0m\u001b[0;34m,\u001b[0m \u001b[0;34m{\u001b[0m\u001b[0;34m'lower'\u001b[0m\u001b[0;34m:\u001b[0m\u001b[0;34m'knowledge'\u001b[0m\u001b[0;34m,\u001b[0m \u001b[0;34m'OP'\u001b[0m\u001b[0;34m:\u001b[0m\u001b[0;34m'?'\u001b[0m\u001b[0;34m}\u001b[0m\u001b[0;34m,\u001b[0m\u001b[0;34m{\u001b[0m\u001b[0;34m'lower'\u001b[0m\u001b[0;34m:\u001b[0m\u001b[0;34m'graph'\u001b[0m\u001b[0;34m,\u001b[0m\u001b[0;34m'OP'\u001b[0m\u001b[0;34m:\u001b[0m\u001b[0;34m'?'\u001b[0m\u001b[0;34m}\u001b[0m\u001b[0;34m,\u001b[0m\u001b[0;34m{\u001b[0m\u001b[0;34m}\u001b[0m\u001b[0;34m,\u001b[0m \u001b[0;34m{\u001b[0m\u001b[0;34m'lower'\u001b[0m\u001b[0;34m:\u001b[0m\u001b[0;34m'via'\u001b[0m\u001b[0;34m}\u001b[0m\u001b[0;34m,\u001b[0m \u001b[0;34m{\u001b[0m\u001b[0;34m'POS'\u001b[0m\u001b[0;34m:\u001b[0m\u001b[0;34m'PROPN'\u001b[0m\u001b[0;34m,\u001b[0m \u001b[0;34m'OP'\u001b[0m\u001b[0;34m:\u001b[0m\u001b[0;34m'+'\u001b[0m\u001b[0;34m}\u001b[0m\u001b[0;34m,\u001b[0m\u001b[0;34m{\u001b[0m\u001b[0;34m}\u001b[0m\u001b[0;34m,\u001b[0m \u001b[0;34m{\u001b[0m\u001b[0;34m'POS'\u001b[0m\u001b[0;34m:\u001b[0m\u001b[0;34m'Noun'\u001b[0m\u001b[0;34m,\u001b[0m\u001b[0;34m'OP'\u001b[0m\u001b[0;34m:\u001b[0m\u001b[0;34m'*'\u001b[0m\u001b[0;34m}\u001b[0m\u001b[0;34m]\u001b[0m\u001b[0;34m\u001b[0m\u001b[0;34m\u001b[0m\u001b[0m\n\u001b[1;32m      5\u001b[0m \u001b[0mmatcher\u001b[0m \u001b[0;34m=\u001b[0m \u001b[0mMatcher\u001b[0m\u001b[0;34m(\u001b[0m\u001b[0mn\u001b[0m\u001b[0;34m.\u001b[0m\u001b[0mvocab\u001b[0m\u001b[0;34m)\u001b[0m\u001b[0;34m\u001b[0m\u001b[0;34m\u001b[0m\u001b[0m\n",
            "\u001b[0;31mNameError\u001b[0m: name 'n' is not defined"
          ]
        }
      ]
    },
    {
      "cell_type": "code",
      "metadata": {
        "id": "A4fPlPTgZtnC",
        "colab_type": "code",
        "colab": {
          "base_uri": "https://localhost:8080/",
          "height": 229
        },
        "outputId": "fe037e00-a648-4a0e-ecb8-b95e842bcaa8"
      },
      "source": [
        "d = n(t)\n",
        "def find_pattern(pattern):\n",
        "  matcher = Matcher(n.vocab)\n",
        "  matcher = add(\"matching_1\", None, pattern)\n",
        "  matches = matcher(d)\n",
        "  if (len(matches)>0):\n",
        "    span = d[matches[0][1]:matches[0][2]]\n",
        "    print(span.text)\n",
        "\n",
        "p1 = [{'POS':'NOUN'}, {'LOWER':'and'}, {'LOWER':'the', 'OP':\"?\"}, {'POS':'NOUN'}]\n",
        "p2 = [{'POS':'NOUN'}, {'LOWER':'using'}, {'POS':'ADJ', 'OP':\"*\"}, {'POS':'NOUN'}]\n",
        "p3 = [{'POS':'NOUN'}, {'LOWER':'with'}, {'POS':'ADJ', 'OP':\"*\"}, {'POS':'NOUN'}]\n",
        "p4 = [{'POS':'NOUN','OP':\"+\"}, {'POS':'VERB','OP':\"*\"}, {'LOWER':'for'}, {'POS':'ADJ','OP':\"*\"},{'POS':'NOUN'}, {'POS':'NOUN','OP':\"?\"}]\n",
        "p5 = [{},{},{},{'lower':'for'}, {'POS':'PROPN','OP':'+'}]\n",
        "\n",
        "print(\"and:\")\n",
        "find_pattern(p1)\n",
        "print(\"using:\")\n",
        "find_pattern(p2)\n",
        "print(\"with:\")\n",
        "find_pattern(p3)\n",
        "print(\"for:\")\n",
        "find_pattern(p4)\n",
        "print('for:')\n",
        "find_pattern(p5)\n"
      ],
      "execution_count": 70,
      "outputs": [
        {
          "output_type": "error",
          "ename": "NameError",
          "evalue": "ignored",
          "traceback": [
            "\u001b[0;31m---------------------------------------------------------------------------\u001b[0m",
            "\u001b[0;31mNameError\u001b[0m                                 Traceback (most recent call last)",
            "\u001b[0;32m<ipython-input-70-e92ccc164bfc>\u001b[0m in \u001b[0;36m<module>\u001b[0;34m()\u001b[0m\n\u001b[0;32m----> 1\u001b[0;31m \u001b[0md\u001b[0m \u001b[0;34m=\u001b[0m \u001b[0mn\u001b[0m\u001b[0;34m(\u001b[0m\u001b[0mt\u001b[0m\u001b[0;34m)\u001b[0m\u001b[0;34m\u001b[0m\u001b[0;34m\u001b[0m\u001b[0m\n\u001b[0m\u001b[1;32m      2\u001b[0m \u001b[0;32mdef\u001b[0m \u001b[0mfind_pattern\u001b[0m\u001b[0;34m(\u001b[0m\u001b[0mpattern\u001b[0m\u001b[0;34m)\u001b[0m\u001b[0;34m:\u001b[0m\u001b[0;34m\u001b[0m\u001b[0;34m\u001b[0m\u001b[0m\n\u001b[1;32m      3\u001b[0m   \u001b[0mmatcher\u001b[0m \u001b[0;34m=\u001b[0m \u001b[0mMatcher\u001b[0m\u001b[0;34m(\u001b[0m\u001b[0mn\u001b[0m\u001b[0;34m.\u001b[0m\u001b[0mvocab\u001b[0m\u001b[0;34m)\u001b[0m\u001b[0;34m\u001b[0m\u001b[0;34m\u001b[0m\u001b[0m\n\u001b[1;32m      4\u001b[0m   \u001b[0mmatcher\u001b[0m \u001b[0;34m=\u001b[0m \u001b[0madd\u001b[0m\u001b[0;34m(\u001b[0m\u001b[0;34m\"matching_1\"\u001b[0m\u001b[0;34m,\u001b[0m \u001b[0;32mNone\u001b[0m\u001b[0;34m,\u001b[0m \u001b[0mpattern\u001b[0m\u001b[0;34m)\u001b[0m\u001b[0;34m\u001b[0m\u001b[0;34m\u001b[0m\u001b[0m\n\u001b[1;32m      5\u001b[0m   \u001b[0mmatches\u001b[0m \u001b[0;34m=\u001b[0m \u001b[0mmatcher\u001b[0m\u001b[0;34m(\u001b[0m\u001b[0md\u001b[0m\u001b[0;34m)\u001b[0m\u001b[0;34m\u001b[0m\u001b[0;34m\u001b[0m\u001b[0m\n",
            "\u001b[0;31mNameError\u001b[0m: name 'n' is not defined"
          ]
        }
      ]
    },
    {
      "cell_type": "markdown",
      "metadata": {
        "id": "Dq_7VGmrsum4",
        "colab_type": "text"
      },
      "source": [
        "## **2. Domain-specific information extraction**\n",
        "\n",
        "For the legal case used in the data cleaning exercise: [01-05-1 Adams v Tanner.txt](https://raw.githubusercontent.com/unt-iialab/INFO5731_Spring2020/master/In_class_exercise/01-05-1%20%20Adams%20v%20Tanner.txt), use [legalNLP](https://lexpredict-lexnlp.readthedocs.io/en/latest/modules/extract/extract.html#nlp-based-extraction-methods) to extract the following inforation from the text (if the information is not exist, just print None):\n",
        "\n",
        "(1) acts, e.g., “section 1 of the Advancing Hope Act, 1986”\n",
        "\n",
        "(2) amounts, e.g., “ten pounds” or “5.8 megawatts”\n",
        "\n",
        "(3) citations, e.g., “10 U.S. 100” or “1998 S. Ct. 1”\n",
        "\n",
        "(4) companies, e.g., “Lexpredict LLC”\n",
        "\n",
        "(5) conditions, e.g., “subject to …” or “unless and until …”\n",
        "\n",
        "(6) constraints, e.g., “no more than”\n",
        "\n",
        "(7) copyright, e.g., “(C) Copyright 2000 Acme”\n",
        "\n",
        "(8) courts, e.g., “Supreme Court of New York”\n",
        "\n",
        "(9) CUSIP, e.g., “392690QT3”\n",
        "\n",
        "(10) dates, e.g., “June 1, 2017” or “2018-01-01”\n",
        "\n",
        "(11) definitions, e.g., “Term shall mean …”\n",
        "\n",
        "(12) distances, e.g., “fifteen miles”\n",
        "\n",
        "(13) durations, e.g., “ten years” or “thirty days”\n",
        "\n",
        "(14) geographic and geopolitical entities, e.g., “New York” or “Norway”\n",
        "\n",
        "(15) money and currency usages, e.g., “$5” or “10 Euro”\n",
        "\n",
        "(16) percents and rates, e.g., “10%” or “50 bps”\n",
        "\n",
        "(17) PII, e.g., “212-212-2121” or “999-999-9999”\n",
        "\n",
        "(18) ratios, e.g.,” 3:1” or “four to three”\n",
        "\n",
        "(19) regulations, e.g., “32 CFR 170”\n",
        "\n",
        "(20) trademarks, e.g., “MyApp (TM)”\n",
        "\n",
        "(21) URLs, e.g., “http://acme.com/”\n",
        "\n",
        "(22) addresses, e.g., “1999 Mount Read Blvd, Rochester, NY, USA, 14615”\n",
        "\n",
        "(23) persons, e.g., “John Doe"
      ]
    },
    {
      "cell_type": "code",
      "metadata": {
        "id": "z1axJQT2frOe",
        "colab_type": "code",
        "outputId": "d937da6e-de2b-437f-9cf6-38cad4a5a5ec",
        "colab": {
          "base_uri": "https://localhost:8080/",
          "height": 608
        }
      },
      "source": [
        "pip install lexnlp"
      ],
      "execution_count": 0,
      "outputs": [
        {
          "output_type": "stream",
          "text": [
            "Requirement already satisfied: lexnlp in /usr/local/lib/python3.6/dist-packages (1.4.0)\n",
            "Requirement already satisfied: requests==2.22.0 in /usr/local/lib/python3.6/dist-packages (from lexnlp) (2.22.0)\n",
            "Requirement already satisfied: us==1.0.0 in /usr/local/lib/python3.6/dist-packages (from lexnlp) (1.0.0)\n",
            "Requirement already satisfied: reporters-db==1.0.12.1 in /usr/local/lib/python3.6/dist-packages (from lexnlp) (1.0.12.1)\n",
            "Requirement already satisfied: typing==3.6.2 in /usr/local/lib/python3.6/dist-packages (from lexnlp) (3.6.2)\n",
            "Requirement already satisfied: Unidecode==0.4.21 in /usr/local/lib/python3.6/dist-packages (from lexnlp) (0.4.21)\n",
            "Requirement already satisfied: scipy==1.0.0 in /usr/local/lib/python3.6/dist-packages (from lexnlp) (1.0.0)\n",
            "Requirement already satisfied: scikit-learn==0.21.3 in /usr/local/lib/python3.6/dist-packages (from lexnlp) (0.21.3)\n",
            "Requirement already satisfied: gensim==3.4.0 in /usr/local/lib/python3.6/dist-packages (from lexnlp) (3.4.0)\n",
            "Requirement already satisfied: nltk==3.4.5 in /usr/local/lib/python3.6/dist-packages (from lexnlp) (3.4.5)\n",
            "Requirement already satisfied: datefinder-lexpredict==0.6.2 in /usr/local/lib/python3.6/dist-packages (from lexnlp) (0.6.2)\n",
            "Requirement already satisfied: dateparser==0.7.0 in /usr/local/lib/python3.6/dist-packages (from lexnlp) (0.7.0)\n",
            "Requirement already satisfied: regex==2017.9.23 in /usr/local/lib/python3.6/dist-packages (from lexnlp) (2017.9.23)\n",
            "Requirement already satisfied: pandas==0.23.4 in /usr/local/lib/python3.6/dist-packages (from lexnlp) (0.23.4)\n",
            "Requirement already satisfied: num2words==0.5.7 in /usr/local/lib/python3.6/dist-packages (from lexnlp) (0.5.7)\n",
            "Requirement already satisfied: pycountry==18.5.26 in /usr/local/lib/python3.6/dist-packages (from lexnlp) (18.5.26)\n",
            "Requirement already satisfied: chardet<3.1.0,>=3.0.2 in /usr/local/lib/python3.6/dist-packages (from requests==2.22.0->lexnlp) (3.0.4)\n",
            "Requirement already satisfied: idna<2.9,>=2.5 in /usr/local/lib/python3.6/dist-packages (from requests==2.22.0->lexnlp) (2.8)\n",
            "Requirement already satisfied: urllib3!=1.25.0,!=1.25.1,<1.26,>=1.21.1 in /usr/local/lib/python3.6/dist-packages (from requests==2.22.0->lexnlp) (1.24.3)\n",
            "Requirement already satisfied: certifi>=2017.4.17 in /usr/local/lib/python3.6/dist-packages (from requests==2.22.0->lexnlp) (2019.11.28)\n",
            "Requirement already satisfied: jellyfish==0.5.6 in /usr/local/lib/python3.6/dist-packages (from us==1.0.0->lexnlp) (0.5.6)\n",
            "Requirement already satisfied: six in /usr/local/lib/python3.6/dist-packages (from reporters-db==1.0.12.1->lexnlp) (1.12.0)\n",
            "Requirement already satisfied: numpy>=1.8.2 in /usr/local/lib/python3.6/dist-packages (from scipy==1.0.0->lexnlp) (1.17.5)\n",
            "Requirement already satisfied: joblib>=0.11 in /usr/local/lib/python3.6/dist-packages (from scikit-learn==0.21.3->lexnlp) (0.14.1)\n",
            "Requirement already satisfied: smart-open>=1.2.1 in /usr/local/lib/python3.6/dist-packages (from gensim==3.4.0->lexnlp) (1.9.0)\n",
            "Requirement already satisfied: pytz in /usr/local/lib/python3.6/dist-packages (from datefinder-lexpredict==0.6.2->lexnlp) (2018.9)\n",
            "Requirement already satisfied: python-dateutil>=2.4.2 in /usr/local/lib/python3.6/dist-packages (from datefinder-lexpredict==0.6.2->lexnlp) (2.6.1)\n",
            "Requirement already satisfied: tzlocal in /usr/local/lib/python3.6/dist-packages (from dateparser==0.7.0->lexnlp) (1.5.1)\n",
            "Requirement already satisfied: boto3 in /usr/local/lib/python3.6/dist-packages (from smart-open>=1.2.1->gensim==3.4.0->lexnlp) (1.11.15)\n",
            "Requirement already satisfied: boto>=2.32 in /usr/local/lib/python3.6/dist-packages (from smart-open>=1.2.1->gensim==3.4.0->lexnlp) (2.49.0)\n",
            "Requirement already satisfied: botocore<1.15.0,>=1.14.15 in /usr/local/lib/python3.6/dist-packages (from boto3->smart-open>=1.2.1->gensim==3.4.0->lexnlp) (1.14.15)\n",
            "Requirement already satisfied: s3transfer<0.4.0,>=0.3.0 in /usr/local/lib/python3.6/dist-packages (from boto3->smart-open>=1.2.1->gensim==3.4.0->lexnlp) (0.3.3)\n",
            "Requirement already satisfied: jmespath<1.0.0,>=0.7.1 in /usr/local/lib/python3.6/dist-packages (from boto3->smart-open>=1.2.1->gensim==3.4.0->lexnlp) (0.9.4)\n",
            "Requirement already satisfied: docutils<0.16,>=0.10 in /usr/local/lib/python3.6/dist-packages (from botocore<1.15.0,>=1.14.15->boto3->smart-open>=1.2.1->gensim==3.4.0->lexnlp) (0.15.2)\n"
          ],
          "name": "stdout"
        }
      ]
    },
    {
      "cell_type": "code",
      "metadata": {
        "id": "qc7NtJrLx5tS",
        "colab_type": "code",
        "outputId": "6c49e9b3-8989-431b-880d-9d9711cf22a4",
        "colab": {
          "base_uri": "https://localhost:8080/",
          "height": 134
        }
      },
      "source": [
        "import nltk\n",
        "nltk.download('punkt')\n",
        "nltk.download('averaged_percerptron_tagger')\n",
        "nltk.download('wordnet')"
      ],
      "execution_count": 0,
      "outputs": [
        {
          "output_type": "stream",
          "text": [
            "[nltk_data] Downloading package punkt to /root/nltk_data...\n",
            "[nltk_data]   Package punkt is already up-to-date!\n",
            "[nltk_data] Error loading averaged_percerptron_tagger: Package\n",
            "[nltk_data]     'averaged_percerptron_tagger' not found in index\n",
            "[nltk_data] Downloading package wordnet to /root/nltk_data...\n",
            "[nltk_data]   Package wordnet is already up-to-date!\n"
          ],
          "name": "stderr"
        },
        {
          "output_type": "execute_result",
          "data": {
            "text/plain": [
              "True"
            ]
          },
          "metadata": {
            "tags": []
          },
          "execution_count": 33
        }
      ]
    },
    {
      "cell_type": "code",
      "metadata": {
        "id": "TDRPjjwaiOT4",
        "colab_type": "code",
        "outputId": "0727613d-4565-47f5-f9b3-91b52bea72cb",
        "colab": {
          "base_uri": "https://localhost:8080/",
          "height": 54
        }
      },
      "source": [
        "#t1 = open('https://raw.githubusercontent.com/unt-iialab/INFO5731_Spring2020/master/In_class_exercise/01-05-1%20%20Adams%20v%20Tanner.txt').read()\n",
        "t1 = open('Temppp.txt').read()\n",
        "t1"
      ],
      "execution_count": 0,
      "outputs": [
        {
          "output_type": "execute_result",
          "data": {
            "text/plain": [
              "'\\n5 Ala. 740\\nSupreme Court of Alabama.\\nADAMS\\nv.\\nTANNER AND HORTON.\\nJune Term, 1843.\\nSynopsis\\nWRIT of Error to the Circuit Court of Sumter.\\n \\n\\n\\nWest Headnotes (2)\\n\\n\\n[1]\\nChattel Mortgages\\nCrops\\nA growing crop has such an existence as to be the subject-matter of a mortgage or other contract which passes an interest to vest in possession, either immediately or at a future time.\\n4 Cases that cite this headnote\\n\\n[2]\\nCreditors’ Remedies\\nLien and Priority\\nUnder St.1821, prohibiting a levy on a crop until it has been gathered, no lien attaches in favor of a fi. fa. on a growing crop, nor does such lien attach until after the crop has been gathered.\\n5 Cases that cite this headnote\\n\\n**1 This was a trial of the right of property under the statute. In November, 1840, an execution issued from the circuit court of Sumter, at the suit of the plaintiff in error, requiring the sheriff of that county, to make of the goods, &c., of Allen Harrison and others, the sum of thirty-seven hundred and seventy-seven 80-100 dollars, besides costs. This execution was levied on thirty bales of cotton, as the property of Allen Harrison, which was claimed, and a bond given to try the right. An issue was made up to try the question of the liability of the cotton to the plaintiff’s execution, and submitted to a jury. On the trial, a bill of exceptions was sealed at the instance of the plaintiff. The plaintiff proved that he recovered his judgment in October, 1839; that an execution *741 was issued thereon on the 7th Nov. thereafter, and that alias and pluries fieri facias’, issued regularly up to the time levy was made; that the cotton levied on was growed on the plantation of Harrison, and cultivated by the hands in his service. It was proved by the claimants, by the production of a written contract, that Harrison, on the twenty-second of May, 1840, in consideration that the claimants were involved, as indorsers for Burton & Harrison of Sumter county, and were then exposed to an execution, amounting to upwards of fourteen thousand dollars, bargained and sold to the claimants all his growing crop of cotton &c., consisting of one hundred and twenty acres, &c. Allen Harrison promised and obliged himself to give up his crop to the use of the claimants at any time to save them from suffering as his indorsers; if the crop matured and was gathered he undertook to deliver the cotton in Gainesville. The claimants came from Tennessee, (where they resided) about the first of September, 1840, bringing with them three or four white laborers, and took possession of the crop and slaves, and with the latter, and white laborers, gathered the cotton, prepared it for market, and when levied on, it was in a ware-house in Gainesville. The plaintiff then proved by Harrison, that the claimants took possession of the crop, while he was absent, and disposed of it without his consent. It was admitted, that the contract was made in good faith.\\nThe court charged the jury, that the plaintiff had no lien by virtue of his judgment, and execution on the growing crop; that Harrison had a right to convey it, without being in any manner restrained by them; that the writing adduced, was a sale of the crop, but if it was not, and the lien of the fieri facias would have attached upon it, when gathered, yet if the claimants obtained possession on the first of September, and controlled the gathering of the crop, then no lien attached, and it was not subject to the levy.\\nAttorneys and Law Firms\\nR. H. SMITH, for the plaintiff, in error, made the following points.--1. The crop of Harrison, must, in May, 1840, have been in an immature state, and it is insisted, was not the subject of a sale. 2. By the common law, a growing crop could be levied on and sold, [1 Salk. Rep. 361; 1 Bos. & P. Rep. 307; 6 East’s Rep. 604, note 1; 2 Johns. Rep. 418, 422; 7 Mass. Rep. 34,] and our statue, [[[Aik. Dig. § 41, p. 167,] which forbids the levy of an *742 execution on a growing crop, is to receive a strict construction. It merely inhibits the levy, but the lien attaches, and a levy and sale may be made after the crop matures, and is gathered. 3. The contract does not purport to convey the growing crop, but is a mere executory agreement, requiring some act to be done by Harrison, in order to invest the claimants with the right of property. [Chit. on Con. 112, 207; 3 Johns. Rep. 338, 424; 5 Wend. Rep. 26; 13 Johns. Rep. 235; 8 Dowl. Rep, 693;] and until this act was done, the crop, no matter by who gathered, because liable to be seized for Harrison’s debts. A court of chancery would not compel a specific performance of the contract at the claimant’s instance. 4. The charge of the court is also objectionable in deciding disputed facts.\\nW. M. MURPHY, with whom was W. G. JONES, for the defendant--cited the act of 1821, [Aik. Dig. 167,] which declares it to be lawful to levy an execution on a planted crop, until it is gathered, and contended that no lien attached in favor of the plaintiff. This being the case, the defendant in execution was not restrained from making the contract which he did with the claimants.\\n**2 The lien of an execution is destroyed by an injunction, because it takes away the right to levy it. In short, whenever the right to levy an execution is but temporarily suspended, or withdrawn, the lien is during that time lost. [[[[Whipple v. Foot, 2 Johns. Rep. 216; 3 Wash. C. C. Rep. 66; 4 How. Rep. 130.]\\nIt is admitted that the contract between the defendant in execution, and the claimants, was in good faith, if so, the severance and removal of the cotton gave the latter a good title against all creditors of the former.\\nOpinion\\n\\nCOLLIER, C. J.\\n\\nThere can be no doubt that a growing crop has such an existence as to be the subject matter of a sale, mortgage, or other contract which possess an interest to vest in possession, either immediately or at some future time. This proposition has frequently been assumed as unquestionable; the point of inquiry generally being, whether under a statute of frauds, such as the 29 Chas. 2, it is a mere chattel, and transferrable by parol without writing. [Chitty on Con. 241-2, 332; Whipple v. Foot, 2 Johns. Rep. 422; Stewart v. Doughty, 9 Johns. Rep. 112; *743 Austin v. Sawyer, 9 Cow. Rep. 39. See also Ravesies v. Lee & Alston, at last term.] The contract set out in the bill of exceptions, we are inclined to think evidences rather a mortgage than an absolute sale. It recites that the claimants are involved as indorsers of a mercantile firm, of which the defendant was a partner; that an execution for upwards of fourteen thousand dollars against their estate, is in the sheriff’s hands, and that a conveyance is made of the crop of cotton, corn and oats, which the grantor agrees to give up at any time to the use of the claimants, so as to prevent injury to them as indorsers. The defendant in execution might at any time have divested the interest which the contract vested in the claimants, by discharging their liability as his indorsers, or a judgment creditor might have satisfied the lien, and when the crop was gathered, have levied on, and sold it under a fieri facias.\\nWe will then consider the writing under which the claimants assert a right, as a mortgage with a power to take possession any time during the year, unless they should be relieved from their engagements as indorsers. It is not pretended that their liability has been satisfied, and it is admitted that the parties have acted with good faith, so that it is a dry question of law, whether the right of the plaintiff, or the claimants shall prevail. Assuming for the present that the execution of the plaintiffs did not operate a lien upon the planted crop previous to the contract of May, 1840, we will inquire whether the defendant in execution had such an interest as could be levied on and sold.\\nThe claimants had previous to the levy of the execution taken possession of the crop, prepared the cotton for market, and removed it to a ware-house. This possession, it is insisted, was a trespass, because it was acquired in the absence of the defendant in execution, and without his consent then given. Conceding the truth of the facts stated in the bill of exceptions, and we think it will not follow, that the possession of the claimants is a nullity, and that the case must be considered as if they had never interfered with the crop. The contract contains an express undertaking to give up the crop at any time the claimants might require it for their indemnity, and if they took possession of it in the absence of the grantor, (though without his consent,) if he subsequently acquiesced in it, the inference would be, if necessary, that their acts were approved by him. Taking this to be clear *744 law, and it will be seen, that the defendant in execution at the time of the levy had nothing more than a mere equitable right to redeem the cotton by paying the debts indorsed by the claimants. He had no possession coupled with this equity, but only a naked equity, which it has been held cannot be reached by an ordinary execution. [Perkins and Elliott v. Mayfield, 5 Porter’s Rep. 182.]\\n**3 This brings us back to the question, whether the execution of the plaintiff was a lien on the growing crop, so as to defeat the mortgage to the claimants. It has been frequently mooted whether, at common law, corn, &c., before it is gathered, can be seized under a fieri facias. Mr. Dane, in remarking upon this point, says, “The American editor of Bacon’s Abridgment, says, ‘Wheat growing in the ground is a chattel, and subject to be taken in execution; and the sheriff may suffer it to grow till harvest, and then cut and sell it; or may perhaps sell it growing, and the purchaser will then be entitled to enter, for the purpose of cutting and carrying it away.” [He cites Whipple v. Foot, ut supra, also Poole’s case, Salk. 368; 1 Bos. & P. 397; 6 East, 604, n.] But Whipple v. Foot seems to be the only case that supports his position, that unripe wheat or corn may be taken in execution; and the same editor states that nothing can be taken in execution which cannot be sold. This position, says the learned commentator, is no doubt law. But it is unnecessary to consider how this matter stands at common law. The first section of the act of 1821, “To prevent sheriffs and other officers from levying executions in certain cases, enacts, that “It shall not be lawful for any sheriff or other officer, to levy a writ of fieri facias or other execution on the planted crop of a debtor, or person against whom an execution may issue, until the crop is gathered.” [Aik. Dig. 167.] Now here is an express inhibition to levy an execution on a crop while it remains on, or in the ground, and until it is severed from the soil to which it owes its growth. In respect to property thus situated, will the lien of an execution attach eo instanti upon its being placed in the hands of an officer? If so, the act cited, will only have the effect of keeping the right to levy it in abeyance until the crop is gathered. The lien of an execution does, not only operate so as to prevent the debtor from disposing of the property on which it attaches, but gives to the creditor the right to have it sold to satisfy his *745 judgment. The lien and the right to levy are intimately connected, and if the latter be taken away, or suspended, the effect, at common law, is the destruction of the former. This principle is fully established by Mansony and Hurtell v. The President, &c. of the Bank of the United States, and its assignees, and the citations contained in the opinion of the court in that case, as also in my opinion in Wood v. Gary, et al., both decided at the last term. That it was competent for the legislature to have made it unlawful to levy an execution on particular property, until its condition was changed, and still to give it a continuing lien, cannot be doubted; but there is nothing in the act in question to indicate that such is its intention. If the object was merely to suspend the sale, until the crop was gathered, it would have been very easy to have said so in explicit terms, but declaring as the statute does, in totidem verbis, that the execution shall not be levied, the legislature must be supposed to have meant what they have expressed. The act was induced by the doubts which existed as to what was the common law, and was intended to remove those doubts by declaring what should be the law in future. It does not create a lien or authorize a levy in a case in which the law, as it then existed, was silent. The idea that the lien attached upon the planted crop as soon as the execution was delivered to the sheriff, though the right to levy it was postponed until a severance took place, is attempted to be deduced from the last words of the section cited, viz: “until the crop is gathered.” These words cannot, upon any just principles of construction be regarded so potent as to give to an execution a retrospective effect. They do not refer to the lien, if they did they would postpone it until the crop was gathered; but it is the levy they relate to and postpone until that event takes place.\\n**4 The right to levy an execution on a planted crop, then, being expressly taken away by the statute, the lien which is connected with and consequent upon that right, never attaches until severance. This being the case, the right of the defendant in execution to make the contract which he did, is unquestionable, and the title of the claimants, coupled as it was with the possession, was paramount to any lien which the execution could exert.\\nThe circuit judge may have mistaken the law in supposing that the contract was a sale, but if he did, an error in that respect was very immaterial, for whether a sale or mortgage, as we have *746 seen, under the facts of the case, the defendant in execution has no interest that could be seised and sold under execution. There is no assumption of any material fact in the charge; but the possession of the claimant, the time when acquired, the gathering of the crop, &c., are all referred to the determination of the jury; who are instructed, if they find them according to the evidence adduced, that no lien ever attached in favor of the plaintiff. The bona fides of the contract was conceded, so that no charge was necessary on that point, and it could not with propriety enter into the inquiry of the jury.\\nIt results from what has been said, that the judgment of the circuit court is affirmed.\\n\\nDISSENTING OPINION.\\n\\nORMOND, J.\\n**4 The statute which presents the question before the court is, that “it shall not be lawful for any sheriff or other officer to levy a writ of fieei facias or other execution, on the planted crop of a debtor, or person against whom an execution may issue, until the crop is gathered.” [Clay’s Dig. 210, § 46.]\\nI shall not enter upon the enquiry, whether, at common law, an execution could be levied upon a growing crop, though I apprehend, it would not be difficult to maintain the affirmative of the proposition. It is sufficient for my purpose, that the statute supposes such to have been the law, as it doubtless was the practice.\\nThis act must be considered in connection with the other acts upon the same subject. The policy of the State, as indicated by these statutes, is undeniably that all the property of a debtor, real and personal, to which he has a legal title, shall be subject to sale by execution, and it appears to me that it would be difficult to assign a reason for the exemption of this species of property from the claims of judgment creditors, and for giving to the defendant in execution the right to dispose of it. It appears to me, with all deference, that the argument that because the sheriff was prohibited from levying on a ““planted crop,” that therefore the execution had lost its lien, and the debtor had the right to sell it, is a non sequitur. The mischief which the statute designed to remedy was, the sacrifice which would be necessarily made by the sale of an immature crop: the statute enables the debtor to retain it until it matures, and by severing it from the soil to put it *747 in a condition to bring its value--the lien in the mean time continuing in the plaintiff in execution.\\n**5 If further confirmation of the correctness of this view were necessary, it will be found, I think, in the language employed by the legislature. The sheriff is forbidden to levy on a “planted crop” until the crop is gathered. Now, if the view taken by the majority of the court, is correct, the right secured to the plaintiff in execution, of levying on the crop after it is gathered, may be frustrated, as it was in this case, by a sale by the defendant in execution, whilst the crop is in an immature state. The construction which has been put upon the statute, involves the singular anomaly, that the legislature, for the protection of the debtor, has forbidden the plaintiff in execution to sell the property of his debtor, because it is not in a condition to bring its value, and yet permits the debtor, voluntarily, by a sale, to submit to the same sacrifice, for his own benefit. It is, in effect, a gift to the defendant in execution, of the growing crop, provided he does not gather it himself, but disposes of it in its then condition. This, I feel a thorough conviction, was not the intention of the legislature; but that it was to secure him from loss, by prohibiting a levy and sale of the crop, until it was gathered, when the temporary suspension of the right to sell, ceased.\\nAll Citations\\n5 Ala. 740, 1843 WL 284\\nEnd of Document\\n© 2019 Thomson Reuters. No claim to original U.S. Government Works.\\nCiting References (9)\\nTreatment\\nTitle\\nDate\\nType\\nDepth\\nHeadnote(s)\\nCited by\\n1.  Booker v. Jones’s Adm’x\\n55 Ala. 266, 271 , Ala.\\nTrover for Conversion of Cotton, with Counts in Case. APPEAL from the Circuit Court of Hale. Tried before the Hon. M. J. SAFFOLD.\\nDec Term 1876\\nCase\\n—\\nCited by\\n2.  Lehman, Durr & Co. v. Marshall\\n47 Ala. 362, 376 , Ala.\\n[TROVER FOR CONVERSION OF COTTON.] APPEAL from the City Court of Montgomery. Tried before Hon. JOHN D. CUNNINGHAM.\\nJan Term 1872\\nCase\\n—\\nCited by\\n3.  Bibb v. Janney\\n45 Ala. 329, 334 , Ala.\\n[GARNISHMENT; WAGES; WAIVER OF EXEMPTION.] APPEAL from City Court of Montgomery. Tried before Hon. JOHN D. CUNNINGHAM.\\nJan Term 1871\\nCase\\n—\\nCited by\\n4.  McKenzie v. Lampley\\n31 Ala. 526, 527 , Ala.\\n[TRIAL OF RIGHT OF PROPERTY IN COTTON.] APPEAL from the Circuit Court of Barbour. Tried before the Hon. S. D. HALE.\\nJan Term 1858\\nCase\\n—\\nCited by\\n5.  Evans v. Lamar\\n21 Ala. 333, 335+ , Ala.\\nERROR to the Circuit Court of Autauga. Tried before the Hon. A. B. MOORE.\\nJun Term 1852\\nCase\\n—\\nCited by\\n 6.  Dewey v. Bowman\\n8 Cal. 145, 147 , Cal.\\nThe judgment of the Court below, against Jacob S. Cohen, should be reversed, for the following reasons: Because the finding of the Court was, so far as Cohen was concerned,...\\nJul Term 1857\\nCase\\n—\\nMentioned by\\n7.  Rees v. Coats\\n65 Ala. 256, 258 , Ala.\\nTrover for Conversion of Three Bales of Cotton. APPEAL from the Circuit Court of Etowah. Tried before the Hon. WM. L. WHITLOCK.\\nNov Term 1880\\nCase\\n—\\nMentioned by\\n8.  Edwards v. Thompson\\n4 S.W. 913, 914 , Tenn.\\nAppeal from circuit court, Weakley county.\\nMay 1887\\nCase\\n—\\n—\\n9.  Growing crops as subject to levy and seizure under attachment or execution\\n103 A.L.R. 464\\nGenerally, at common law, growing crops raised by annual planting, while still attached to the soil, are regarded as personal chattels, subject to levy and seizure under attachment...\\n1936\\nALR\\n—\\n—\\nTable of Authorities (3)\\nTreatment\\nReferenced Title\\nType\\nDepth\\nQuoted\\nPage Number\\nMentioned\\n1.  Austin v. Sawyer\\n9 Cow. 39, N.Y.Sup., 1828\\nParol evidence is not admissible to contradict, or substantially vary, a written contract. And where A. quit-claimed land to W., on which a crop of wheat was growing, reserving the...\\nCase\\n2\\nCited\\n 2.  Perkins v. Mayfield\\n5 Port. 182, Ala., 1837\\nOn writ of error to the Circuit Court of Tuskaloosa.\\nCase\\n2+\\nMentioned\\n3.  Stewart v. Doughty\\n9 Johns. 108, N.Y.Sup., 1812\\nA. let to B. a farm for six years, and A. agreed “to render, yield and pay to A. the one half of all the wheat, rye, corn and other grain, raised on the farm in each year, in the...\\nCase\\n2\\nFilings\\nThere are no Filings for this citation.\\nNegative Treatment\\nThere are no Negative Treatment results for this citation.\\nHistory\\nThere are no History results for this citation.'"
            ]
          },
          "metadata": {
            "tags": []
          },
          "execution_count": 34
        }
      ]
    },
    {
      "cell_type": "code",
      "metadata": {
        "id": "C1whRI3Fjla1",
        "colab_type": "code",
        "outputId": "5872c784-7cc5-47bc-df2f-bcee55b3b5ef",
        "colab": {
          "base_uri": "https://localhost:8080/",
          "height": 34
        }
      },
      "source": [
        "import lexnlp.extract.en.acts\n",
        "print(lexnlp.extract.en.acts.get_act_list(t1))"
      ],
      "execution_count": 0,
      "outputs": [
        {
          "output_type": "stream",
          "text": [
            "[]\n"
          ],
          "name": "stdout"
        }
      ]
    },
    {
      "cell_type": "code",
      "metadata": {
        "id": "9tedAaG2lrXa",
        "colab_type": "code",
        "outputId": "ccddd98d-ce5e-4631-86e6-dfb12c0b6bfa",
        "colab": {
          "base_uri": "https://localhost:8080/",
          "height": 1000
        }
      },
      "source": [
        "import nltk\n",
        "nltk.download('averaged_perceptron_tagger')\n",
        "import lexnlp.extract.en.amounts\n",
        "list(lexnlp.extract.en.amounts.get_amounts(t1))"
      ],
      "execution_count": 0,
      "outputs": [
        {
          "output_type": "stream",
          "text": [
            "[nltk_data] Downloading package averaged_perceptron_tagger to\n",
            "[nltk_data]     /root/nltk_data...\n",
            "[nltk_data]   Package averaged_perceptron_tagger is already up-to-\n",
            "[nltk_data]       date!\n"
          ],
          "name": "stderr"
        },
        {
          "output_type": "execute_result",
          "data": {
            "text/plain": [
              "[5.0,\n",
              " 740.0,\n",
              " 1843.0,\n",
              " 2.0,\n",
              " 1.0,\n",
              " 4.0,\n",
              " 2.0,\n",
              " 1821.0,\n",
              " 5.0,\n",
              " 1.0,\n",
              " 1840.0,\n",
              " 3777,\n",
              " 80.0,\n",
              " 100.0,\n",
              " 30,\n",
              " 1839.0,\n",
              " 741.0,\n",
              " 22,\n",
              " 1840.0,\n",
              " 14000,\n",
              " 120,\n",
              " 1,\n",
              " 1840.0,\n",
              " 3,\n",
              " 4,\n",
              " 1,\n",
              " 1.0,\n",
              " 1840.0,\n",
              " 2.0,\n",
              " 1.0,\n",
              " 361.0,\n",
              " 1.0,\n",
              " 307.0,\n",
              " 6.0,\n",
              " 604.0,\n",
              " 1.0,\n",
              " 2.0,\n",
              " 418.0,\n",
              " 422.0,\n",
              " 7.0,\n",
              " 34.0,\n",
              " 41.0,\n",
              " 167.0,\n",
              " 742.0,\n",
              " 3.0,\n",
              " 112.0,\n",
              " 207.0,\n",
              " 3.0,\n",
              " 338.0,\n",
              " 424.0,\n",
              " 5.0,\n",
              " 26.0,\n",
              " 13.0,\n",
              " 235.0,\n",
              " 8.0,\n",
              " 693.0,\n",
              " 4.0,\n",
              " 1821.0,\n",
              " 167.0,\n",
              " 2.0,\n",
              " 2.0,\n",
              " 216.0,\n",
              " 3.0,\n",
              " 66.0,\n",
              " 4.0,\n",
              " 130.0,\n",
              " 29.0,\n",
              " 2.0,\n",
              " 241.0,\n",
              " 2.0,\n",
              " 332.0,\n",
              " 2.0,\n",
              " 422.0,\n",
              " 9.0,\n",
              " 112.0,\n",
              " 743.0,\n",
              " 9.0,\n",
              " 39.0,\n",
              " 14000,\n",
              " 1840.0,\n",
              " 744.0,\n",
              " 5.0,\n",
              " 182.0,\n",
              " 3.0,\n",
              " 368.0,\n",
              " 1.0,\n",
              " 397.0,\n",
              " 6.0,\n",
              " 604.0,\n",
              " 1,\n",
              " 1821.0,\n",
              " 167.0,\n",
              " 745.0,\n",
              " 4.0,\n",
              " 746.0,\n",
              " 4.0,\n",
              " 210.0,\n",
              " 46.0,\n",
              " 747.0,\n",
              " 5.0,\n",
              " 5.0,\n",
              " 740.0,\n",
              " 1843.0,\n",
              " 284.0,\n",
              " 2019.0,\n",
              " 9.0,\n",
              " 1.0,\n",
              " 55.0,\n",
              " 266.0,\n",
              " 271.0,\n",
              " 1876.0,\n",
              " 2.0,\n",
              " 47.0,\n",
              " 362.0,\n",
              " 376.0,\n",
              " 1872.0,\n",
              " 3.0,\n",
              " 45.0,\n",
              " 329.0,\n",
              " 334.0,\n",
              " 1871.0,\n",
              " 4.0,\n",
              " 31.0,\n",
              " 526.0,\n",
              " 527.0,\n",
              " 1858.0,\n",
              " 5.0,\n",
              " 21.0,\n",
              " 333.0,\n",
              " 335.0,\n",
              " 1852.0,\n",
              " 6.0,\n",
              " 8.0,\n",
              " 145.0,\n",
              " 147.0,\n",
              " 1857.0,\n",
              " 7.0,\n",
              " 65.0,\n",
              " 256.0,\n",
              " 258.0,\n",
              " 3,\n",
              " 1880.0,\n",
              " 8.0,\n",
              " 4.0,\n",
              " 913.0,\n",
              " 914.0,\n",
              " 1887.0,\n",
              " 9.0,\n",
              " 103.0,\n",
              " 464.0,\n",
              " 1936.0,\n",
              " 3.0,\n",
              " 1.0,\n",
              " 9.0,\n",
              " 39.0,\n",
              " 1828.0,\n",
              " 2.0,\n",
              " 2.0,\n",
              " 5.0,\n",
              " 182.0,\n",
              " 1837.0,\n",
              " 2.0,\n",
              " 3.0,\n",
              " 9.0,\n",
              " 108.0,\n",
              " 1812.0,\n",
              " 6,\n",
              " 1,\n",
              " 2.0]"
            ]
          },
          "metadata": {
            "tags": []
          },
          "execution_count": 36
        }
      ]
    },
    {
      "cell_type": "code",
      "metadata": {
        "id": "iMIKdeC8nPuB",
        "colab_type": "code",
        "outputId": "9ac8f67f-c65c-46a0-ca2a-c25f133af090",
        "colab": {
          "base_uri": "https://localhost:8080/",
          "height": 54
        }
      },
      "source": [
        "import lexnlp.extract.en.citations\n",
        "print(list(lexnlp.extract.en.citations.get_citations(t1)))"
      ],
      "execution_count": 0,
      "outputs": [
        {
          "output_type": "stream",
          "text": [
            "[(5, 'Ala.', 'Alabama Reports', 740, None, None, None), (5, 'Ala.', 'Alabama Reports', 740, '1843', None, None), (55, 'Ala.', 'Alabama Reports', 266, '271', None, None), (47, 'Ala.', 'Alabama Reports', 362, '376', None, None), (45, 'Ala.', 'Alabama Reports', 329, '334', None, None), (31, 'Ala.', 'Alabama Reports', 526, '527', None, None), (21, 'Ala.', 'Alabama Reports', 333, '335', None, None), (8, 'Cal.', 'California Reports', 145, '147', None, None), (65, 'Ala.', 'Alabama Reports', 256, '258', None, None), (4, 'S.W.', 'South Western Reporter', 913, '914', None, None), (103, 'A.L.R.', 'American Law Reports', 464, None, None, None), (9, 'Cow.', \"Cowen's Reports\", 39, None, None, None), (5, 'Port.', 'Alabama Reports, Porter', 182, None, None, None), (9, 'Johns.', \"Johnson's Reports\", 108, None, None, None)]\n"
          ],
          "name": "stdout"
        }
      ]
    },
    {
      "cell_type": "code",
      "metadata": {
        "id": "AAlJ1gccoEpu",
        "colab_type": "code",
        "outputId": "038f412e-9d5d-4250-d7e9-b70aafc0f1fd",
        "colab": {
          "base_uri": "https://localhost:8080/",
          "height": 34
        }
      },
      "source": [
        "import lexnlp.extract.en.entities.nltk_re\n",
        "print(list(lexnlp.extract.en.entities.nltk_re.get_companies(t1)))\n"
      ],
      "execution_count": 0,
      "outputs": [
        {
          "output_type": "stream",
          "text": [
            "[Lehman, Durr Co, (17983, 18001)]\n"
          ],
          "name": "stdout"
        }
      ]
    },
    {
      "cell_type": "code",
      "metadata": {
        "id": "69asSpEyqAPc",
        "colab_type": "code",
        "outputId": "2366df00-bc74-4dfc-a75e-25ddc438e452",
        "colab": {
          "base_uri": "https://localhost:8080/",
          "height": 54
        }
      },
      "source": [
        "import lexnlp.extract.en.conditions\n",
        "print(list(lexnlp.extract.en.conditions.get_conditions(t1)))"
      ],
      "execution_count": 0,
      "outputs": [
        {
          "output_type": "stream",
          "text": [
            "[('until', '[2]\\nCreditors’ Remedies\\nLien and Priority\\nUnder St.1821, prohibiting a levy on a crop', ''), ('until', 'on a growing crop, nor does such lien attach', ''), ('if', 'It was proved by the claimants, by the production of a written contract, that Harrison, on the twenty-second of May, 1840, in consideration that the claimants were involved, as indorsers for Burton & Harrison of Sumter county, and were then exposed to an execution, amounting to upwards of fourteen thousand dollars, bargained and sold to the claimants all his growing crop of cotton &c., consisting of one hundred and twenty acres, &c. Allen Harrison promised and obliged himself to give up his crop to the use of the claimants at any time to save them from suffering as his indorsers;', ''), ('when', 'The claimants came from Tennessee, (where they resided) about the first of September, 1840, bringing with them three or four white laborers, and took possession of the crop and slaves, and with the latter, and white laborers, gathered the cotton, prepared it for market, and', ''), ('if', 'The court charged the jury, that the plaintiff had no lien by virtue of his judgment, and execution on the growing crop; that Harrison had a right to convey it, without being in any manner restrained by them; that the writing adduced, was a sale of the crop, but', ''), ('when', 'it was not, and the lien of the fieri facias would have attached upon it,', ''), ('if', 'gathered, yet', ''), ('not subject to', 'the claimants obtained possession on the first of September, and controlled the gathering of the crop, then no lien attached, and it was', ''), ('until', 'Rep, 693;] and', ''), ('until', '167,] which declares it to be lawful to levy an execution on a planted crop,', ''), ('if', 'It is admitted that the contract between the defendant in execution, and the claimants, was in good faith,', ''), ('when', 'The defendant in execution might at any time have divested the interest which the contract vested in the claimants, by discharging their liability as his indorsers, or a judgment creditor might have satisfied the lien, and', ''), ('unless', 'We will then consider the writing under which the claimants assert a right, as a mortgage with a power to take possession any time during the year,', ''), ('if', 'Conceding the truth of the facts stated in the bill of exceptions, and we think it will not follow, that the possession of the claimants is a nullity, and that the case must be considered as', ''), ('if', 'The contract contains an express undertaking to give up the crop at any time the claimants might require it for their indemnity, and', ''), ('if', 'they took possession of it in the absence of the grantor, (though without his consent,)', ''), ('if', 'he subsequently acquiesced in it, the inference would be,', ''), ('subject to', 'Mr. Dane, in remarking upon this point, says, “The American editor of Bacon’s Abridgment, says, ‘Wheat growing in the ground is a chattel, and', ''), ('until', 'The first section of the act of 1821, “To prevent sheriffs and other officers from levying executions in certain cases, enacts, that “It shall not be lawful for any sheriff or other officer, to levy a writ of fieri facias or other execution on the planted crop of a debtor, or person against whom an execution may issue,', ''), ('until', 'Now here is an express inhibition to levy an execution on a crop while it remains on, or in the ground, and', ''), ('until', 'If so, the act cited, will only have the effect of keeping the right to levy it in abeyance', ''), ('if', 'The lien and the right to levy are intimately connected, and', ''), ('until', 'That it was competent for the legislature to have made it unlawful to levy an execution on particular property,', ''), ('until', 'If the object was merely to suspend the sale,', ''), ('as soon as', 'The idea that the lien attached upon the planted crop', ''), ('until', 'the execution was delivered to the sheriff, though the right to levy it was postponed', ''), ('if', 'They do not refer to the lien,', ''), ('until', 'they did they would postpone it', ''), ('until', 'the crop was gathered; but it is the levy they relate to and postpone', ''), ('until', '**4 The right to levy an execution on a planted crop, then, being expressly taken away by the statute, the lien which is connected with and consequent upon that right, never attaches', ''), ('if', 'The circuit judge may have mistaken the law in supposing that the contract was a sale, but', ''), ('when', 'There is no assumption of any material fact in the charge; but the possession of the claimant, the time', ''), ('if', 'acquired, the gathering of the crop, &c., are all referred to the determination of the jury; who are instructed,', ''), ('until', '**4 The statute which presents the question before the court is, that “it shall not be lawful for any sheriff or other officer to levy a writ of fieei facias or other execution, on the planted crop of a debtor, or person against whom an execution may issue,', ''), ('subject to', 'The policy of the State, as indicated by these statutes, is undeniably that all the property of a debtor, real and personal, to which he has a legal title, shall be', ''), ('until', 'The mischief which the statute designed to remedy was, the sacrifice which would be necessarily made by the sale of an immature crop: the statute enables the debtor to retain it', ''), ('if', '**5', ''), ('until', 'The sheriff is forbidden to levy on a “planted crop”', ''), ('if', 'Now,', ''), ('until', 'This, I feel a thorough conviction, was not the intention of the legislature; but that it was to secure him from loss, by prohibiting a levy and sale of the crop,', ''), ('when', 'it was gathered,', ''), ('subject to', 'Growing crops as', ''), ('subject to', '464\\nGenerally, at common law, growing crops raised by annual planting, while still attached to the soil, are regarded as personal chattels,', ''), ('where', 'And', '')]\n"
          ],
          "name": "stdout"
        }
      ]
    },
    {
      "cell_type": "code",
      "metadata": {
        "id": "cLTfYVsNqcWO",
        "colab_type": "code",
        "outputId": "448a3932-0183-40bd-9992-769b1d628327",
        "colab": {
          "base_uri": "https://localhost:8080/",
          "height": 524
        }
      },
      "source": [
        "import lexnlp.extract.en.constraints\n",
        "list(lexnlp.extract.en.constraints.get_constraints(t1))"
      ],
      "execution_count": 0,
      "outputs": [
        {
          "output_type": "execute_result",
          "data": {
            "text/plain": [
              "[('after', 'on a growing crop, nor does such lien attach until', ''),\n",
              " ('after',\n",
              "  '',\n",
              "  ' and that alias and pluries fieri facias’, issued regularly up to the time levy was made; that the cotton levied on was growed on the plantation of harrison, and cultivated by the hands in his service.'),\n",
              " ('first of',\n",
              "  'the claimants came from tennessee, (where they resided) about the',\n",
              "  ''),\n",
              " ('first of',\n",
              "  'the court charged the jury, that the plaintiff had no lien by virtue of his judgment, and execution on the growing crop; that harrison had a right to convey it, without being in any manner restrained by them; that the writing adduced, was a sale of the crop, but if it was not, and the lien of the fieri facias would have attached upon it, when gathered, yet if the claimants obtained possession on the',\n",
              "  ''),\n",
              " ('after',\n",
              "  'it merely inhibits the levy, but the lien attaches, and a levy and sale may be made',\n",
              "  ''),\n",
              " ('more than',\n",
              "  'taking this to be clear *744 law, and it will be seen, that the defendant in execution at the time of the levy had nothing',\n",
              "  ''),\n",
              " ('before',\n",
              "  'it has been frequently mooted whether, at common law, corn, &c.,',\n",
              "  ''),\n",
              " ('before', '**4 the statute which presents the question', ''),\n",
              " ('after',\n",
              "  'now, if the view taken by the majority of the court, is correct, the right secured to the plaintiff in execution, of levying on the crop',\n",
              "  ''),\n",
              " ('before', 'tried', ''),\n",
              " ('before', 'tried', ''),\n",
              " ('before', 'tried', ''),\n",
              " ('before', 'tried', ''),\n",
              " ('before', 'tried', ''),\n",
              " ('before', 'tried', '')]"
            ]
          },
          "metadata": {
            "tags": []
          },
          "execution_count": 40
        }
      ]
    },
    {
      "cell_type": "code",
      "metadata": {
        "id": "F7JIlJNQq4gv",
        "colab_type": "code",
        "outputId": "a76c1624-c2c4-4c93-bff1-af8a7b50c95d",
        "colab": {
          "base_uri": "https://localhost:8080/",
          "height": 34
        }
      },
      "source": [
        "import lexnlp.extract.en.copyright\n",
        "print(list(lexnlp.extract.en.copyright.get_copyright(t1)))"
      ],
      "execution_count": 0,
      "outputs": [
        {
          "output_type": "stream",
          "text": [
            "[('©', '2019', 'Thomson Reuters. No')]\n"
          ],
          "name": "stdout"
        }
      ]
    },
    {
      "cell_type": "code",
      "metadata": {
        "id": "oL01XiasrWDj",
        "colab_type": "code",
        "outputId": "30d73fe6-822a-4a1e-fbe8-9606967c4c8c",
        "colab": {
          "base_uri": "https://localhost:8080/",
          "height": 34
        }
      },
      "source": [
        "import lexnlp.extract.en.courts\n",
        "court_config_data = []\n",
        "print(list(lexnlp.extract.en.courts.get_courts(t1,court_config_data)))"
      ],
      "execution_count": 0,
      "outputs": [
        {
          "output_type": "stream",
          "text": [
            "[]\n"
          ],
          "name": "stdout"
        }
      ]
    },
    {
      "cell_type": "code",
      "metadata": {
        "id": "8irl7Q_irwbk",
        "colab_type": "code",
        "outputId": "b7ab615d-00bd-4c22-c3b2-fe44fc38e264",
        "colab": {
          "base_uri": "https://localhost:8080/",
          "height": 34
        }
      },
      "source": [
        "import lexnlp.extract.en.cusip\n",
        "print(lexnlp.extract.en.cusip.get_cusip(t1))"
      ],
      "execution_count": 0,
      "outputs": [
        {
          "output_type": "stream",
          "text": [
            "<generator object get_cusip at 0x7fe0528cde08>\n"
          ],
          "name": "stdout"
        }
      ]
    },
    {
      "cell_type": "code",
      "metadata": {
        "id": "ay7abkqhsdf2",
        "colab_type": "code",
        "outputId": "70115372-92da-4e64-f3d3-16f40ffe7749",
        "colab": {
          "base_uri": "https://localhost:8080/",
          "height": 54
        }
      },
      "source": [
        "import lexnlp.extract.en.dates\n",
        "print(list(lexnlp.extract.en.dates.get_dates(t1)))"
      ],
      "execution_count": 0,
      "outputs": [
        {
          "output_type": "stream",
          "text": [
            "[datetime.date(2020, 6, 1), datetime.date(1840, 11, 1), datetime.date(1839, 10, 1), datetime.date(1840, 5, 1), datetime.date(1840, 9, 1), datetime.date(1840, 5, 1), datetime.date(1840, 5, 1), datetime.date(2020, 12, 1), datetime.date(2020, 12, 1), datetime.date(2020, 1, 1), datetime.date(2020, 1, 1), datetime.date(2020, 1, 1), datetime.date(2020, 3, 21), datetime.date(2020, 6, 1), datetime.date(2020, 7, 1), datetime.date(2020, 11, 1), datetime.date(1887, 5, 1)]\n"
          ],
          "name": "stdout"
        }
      ]
    },
    {
      "cell_type": "code",
      "metadata": {
        "id": "wse4RGq0s5kO",
        "colab_type": "code",
        "outputId": "484150de-6652-485e-e79a-ac4f6a60ba06",
        "colab": {
          "base_uri": "https://localhost:8080/",
          "height": 34
        }
      },
      "source": [
        "import lexnlp.extract.en.definitions\n",
        "print(list(lexnlp.extract.en.definitions.get_definitions(t1)))"
      ],
      "execution_count": 0,
      "outputs": [
        {
          "output_type": "stream",
          "text": [
            "[]\n"
          ],
          "name": "stdout"
        }
      ]
    },
    {
      "cell_type": "code",
      "metadata": {
        "id": "bgGfmo22wBUK",
        "colab_type": "code",
        "outputId": "4cbc1fc8-684e-4b36-9584-7e2aa9046eb8",
        "colab": {
          "base_uri": "https://localhost:8080/",
          "height": 34
        }
      },
      "source": [
        "import lexnlp.extract.en.distances\n",
        "print(list(lexnlp.extract.en.distances.get_distances(t1)))"
      ],
      "execution_count": 0,
      "outputs": [
        {
          "output_type": "stream",
          "text": [
            "[]\n"
          ],
          "name": "stdout"
        }
      ]
    },
    {
      "cell_type": "code",
      "metadata": {
        "id": "fEDQLmGawSPU",
        "colab_type": "code",
        "outputId": "d04ffebb-f121-41c8-a24a-fc1918452108",
        "colab": {
          "base_uri": "https://localhost:8080/",
          "height": 34
        }
      },
      "source": [
        "import lexnlp.extract.en.durations\n",
        "print(list(lexnlp.extract.en.durations.get_durations(t1)))"
      ],
      "execution_count": 0,
      "outputs": [
        {
          "output_type": "stream",
          "text": [
            "[('second', 20.0, 0.00023148148148148146), ('year', 6.0, 2190.0)]\n"
          ],
          "name": "stdout"
        }
      ]
    },
    {
      "cell_type": "code",
      "metadata": {
        "id": "GFJRuPB5wizF",
        "colab_type": "code",
        "outputId": "c55790af-936c-4e36-a22a-df286c7b82fa",
        "colab": {
          "base_uri": "https://localhost:8080/",
          "height": 34
        }
      },
      "source": [
        "import lexnlp.extract.en.geoentities\n",
        "geo_config_list = []\n",
        "print(list(lexnlp.extract.en.geoentities.get_geoentities(t1,geo_config_list)))"
      ],
      "execution_count": 0,
      "outputs": [
        {
          "output_type": "stream",
          "text": [
            "[]\n"
          ],
          "name": "stdout"
        }
      ]
    },
    {
      "cell_type": "code",
      "metadata": {
        "id": "sKB22gY1w_Wq",
        "colab_type": "code",
        "outputId": "6f4bfa2a-264a-4e80-ae03-ee886ca5c16b",
        "colab": {
          "base_uri": "https://localhost:8080/",
          "height": 34
        }
      },
      "source": [
        "import lexnlp.extract.en.money\n",
        "print(list(lexnlp.extract.en.money.get_money(t1)))"
      ],
      "execution_count": 0,
      "outputs": [
        {
          "output_type": "stream",
          "text": [
            "[(100.0, 'USD'), (14000, 'USD'), (14000, 'USD')]\n"
          ],
          "name": "stdout"
        }
      ]
    },
    {
      "cell_type": "code",
      "metadata": {
        "id": "bs1TmncTxMAK",
        "colab_type": "code",
        "outputId": "1e700a1d-da53-4284-aa59-29fe1ecaa86e",
        "colab": {
          "base_uri": "https://localhost:8080/",
          "height": 34
        }
      },
      "source": [
        "import lexnlp.extract.en.percents\n",
        "print(list(lexnlp.extract.en.percents.get_percents(t1)))"
      ],
      "execution_count": 0,
      "outputs": [
        {
          "output_type": "stream",
          "text": [
            "[]\n"
          ],
          "name": "stdout"
        }
      ]
    },
    {
      "cell_type": "code",
      "metadata": {
        "id": "Ro5tBW77xYiH",
        "colab_type": "code",
        "outputId": "dfc23fc5-0549-4920-c1c9-acf8eb5b3b8e",
        "colab": {
          "base_uri": "https://localhost:8080/",
          "height": 34
        }
      },
      "source": [
        "import lexnlp.extract.en.pii\n",
        "print(list(lexnlp.extract.en.pii.get_pii(t1)))"
      ],
      "execution_count": 0,
      "outputs": [
        {
          "output_type": "stream",
          "text": [
            "[]\n"
          ],
          "name": "stdout"
        }
      ]
    },
    {
      "cell_type": "code",
      "metadata": {
        "id": "zdqlzdUGxjVo",
        "colab_type": "code",
        "outputId": "f5a08d7c-7553-40b7-84dd-6bf6d37baf02",
        "colab": {
          "base_uri": "https://localhost:8080/",
          "height": 34
        }
      },
      "source": [
        "import lexnlp.extract.en.ratios\n",
        "print(list(lexnlp.extract.en.ratios.get_ratios(t1)))"
      ],
      "execution_count": 0,
      "outputs": [
        {
          "output_type": "stream",
          "text": [
            "[]\n"
          ],
          "name": "stdout"
        }
      ]
    },
    {
      "cell_type": "code",
      "metadata": {
        "id": "kcF_ZHsZxvyJ",
        "colab_type": "code",
        "outputId": "5d7ac0dc-8df1-4522-bb8a-df557d5881c7",
        "colab": {
          "base_uri": "https://localhost:8080/",
          "height": 34
        }
      },
      "source": [
        "import lexnlp.extract.en.regulations\n",
        "print(list(lexnlp.extract.en.regulations.get_regulations(t1)))"
      ],
      "execution_count": 0,
      "outputs": [
        {
          "output_type": "stream",
          "text": [
            "[]\n"
          ],
          "name": "stdout"
        }
      ]
    },
    {
      "cell_type": "code",
      "metadata": {
        "id": "X_bo9ueFyAGO",
        "colab_type": "code",
        "outputId": "64193366-b7b0-4698-b7b1-25b9e577e016",
        "colab": {
          "base_uri": "https://localhost:8080/",
          "height": 34
        }
      },
      "source": [
        "import lexnlp.extract.en.trademarks\n",
        "print(list(lexnlp.extract.en.trademarks.get_trademarks(t1)))"
      ],
      "execution_count": 0,
      "outputs": [
        {
          "output_type": "stream",
          "text": [
            "[]\n"
          ],
          "name": "stdout"
        }
      ]
    },
    {
      "cell_type": "code",
      "metadata": {
        "id": "62nJ8rtryMbN",
        "colab_type": "code",
        "outputId": "d8f1f71e-96d4-4035-c880-5ae98f0dafb5",
        "colab": {
          "base_uri": "https://localhost:8080/",
          "height": 34
        }
      },
      "source": [
        "import lexnlp.extract.en.urls\n",
        "print(list(lexnlp.extract.en.urls.get_urls(t1)))"
      ],
      "execution_count": 0,
      "outputs": [
        {
          "output_type": "stream",
          "text": [
            "[]\n"
          ],
          "name": "stdout"
        }
      ]
    },
    {
      "cell_type": "code",
      "metadata": {
        "id": "Q5uEYW7YydD4",
        "colab_type": "code",
        "outputId": "ceba8eb0-2e61-4661-f843-2d9933403e02",
        "colab": {
          "base_uri": "https://localhost:8080/",
          "height": 229
        }
      },
      "source": [
        "d = n(t1)\n",
        "address = []\n",
        "persons = []\n",
        "for ent in d.ents:\n",
        "  if ent.label_ =='PERSON':\n",
        "    persons.append(ent)\n",
        "  if ent.label_ =='ADDRESS':\n",
        "    address.append(ent)\n",
        "print(set(persons))\n",
        "print(address)\n",
        "for ent in d.ents:\n",
        "  prints(ent.text, ent.start_char, ent.end_char, ent.label_)   \n",
        "\n"
      ],
      "execution_count": 0,
      "outputs": [
        {
          "output_type": "error",
          "ename": "NameError",
          "evalue": "ignored",
          "traceback": [
            "\u001b[0;31m---------------------------------------------------------------------------\u001b[0m",
            "\u001b[0;31mNameError\u001b[0m                                 Traceback (most recent call last)",
            "\u001b[0;32m<ipython-input-60-ab1b14312a8b>\u001b[0m in \u001b[0;36m<module>\u001b[0;34m()\u001b[0m\n\u001b[0;32m----> 1\u001b[0;31m \u001b[0md\u001b[0m \u001b[0;34m=\u001b[0m \u001b[0mn\u001b[0m\u001b[0;34m(\u001b[0m\u001b[0mt1\u001b[0m\u001b[0;34m)\u001b[0m\u001b[0;34m\u001b[0m\u001b[0;34m\u001b[0m\u001b[0m\n\u001b[0m\u001b[1;32m      2\u001b[0m \u001b[0maddress\u001b[0m \u001b[0;34m=\u001b[0m \u001b[0;34m[\u001b[0m\u001b[0;34m]\u001b[0m\u001b[0;34m\u001b[0m\u001b[0;34m\u001b[0m\u001b[0m\n\u001b[1;32m      3\u001b[0m \u001b[0mpersons\u001b[0m \u001b[0;34m=\u001b[0m \u001b[0;34m[\u001b[0m\u001b[0;34m]\u001b[0m\u001b[0;34m\u001b[0m\u001b[0;34m\u001b[0m\u001b[0m\n\u001b[1;32m      4\u001b[0m \u001b[0;32mfor\u001b[0m \u001b[0ment\u001b[0m \u001b[0;32min\u001b[0m \u001b[0md\u001b[0m\u001b[0;34m.\u001b[0m\u001b[0ments\u001b[0m\u001b[0;34m:\u001b[0m\u001b[0;34m\u001b[0m\u001b[0;34m\u001b[0m\u001b[0m\n\u001b[1;32m      5\u001b[0m   \u001b[0;32mif\u001b[0m \u001b[0ment\u001b[0m\u001b[0;34m.\u001b[0m\u001b[0mlabel_\u001b[0m \u001b[0;34m==\u001b[0m\u001b[0;34m'PERSON'\u001b[0m\u001b[0;34m:\u001b[0m\u001b[0;34m\u001b[0m\u001b[0;34m\u001b[0m\u001b[0m\n",
            "\u001b[0;31mNameError\u001b[0m: name 'n' is not defined"
          ]
        }
      ]
    }
  ]
}