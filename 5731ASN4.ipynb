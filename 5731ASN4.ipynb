{
  "nbformat": 4,
  "nbformat_minor": 0,
  "metadata": {
    "colab": {
      "name": "5731ASN4.ipynb",
      "provenance": [],
      "collapsed_sections": [],
      "toc_visible": true,
      "include_colab_link": true
    },
    "kernelspec": {
      "name": "python3",
      "display_name": "Python 3"
    }
  },
  "cells": [
    {
      "cell_type": "markdown",
      "metadata": {
        "id": "view-in-github",
        "colab_type": "text"
      },
      "source": [
        "<a href=\"https://colab.research.google.com/github/Varun-dasari/INFO5731_Spring2020/blob/master/5731ASN4.ipynb\" target=\"_parent\"><img src=\"https://colab.research.google.com/assets/colab-badge.svg\" alt=\"Open In Colab\"/></a>"
      ]
    },
    {
      "cell_type": "markdown",
      "metadata": {
        "id": "USSdXHuqnwv9",
        "colab_type": "text"
      },
      "source": [
        "# **INFO5731 Assignment Four**\n",
        "\n",
        "In this assignment, you are required to conduct topic modeling, sentiment analysis based on **the dataset you created from assignment three**."
      ]
    },
    {
      "cell_type": "markdown",
      "metadata": {
        "id": "YWxodXh5n4xF",
        "colab_type": "text"
      },
      "source": [
        "# **Question 1: Topic Modeling**"
      ]
    },
    {
      "cell_type": "markdown",
      "metadata": {
        "id": "TenBkDJ5n95k",
        "colab_type": "text"
      },
      "source": [
        "(30 points). This question is designed to help you develop a feel for the way topic modeling works, the connection to the human meanings of documents. Based on the dataset from assignment three, write a python program to **identify the top 10 topics in the dataset**. Before answering this question, please review the materials in lesson 8, especially the code for LDA and LSA. The following information should be reported:\n",
        "\n",
        "(1) Features (top n-gram phrases) used for topic modeling.\n",
        "\n",
        "(2) Top 10 clusters for topic modeling.\n",
        "\n",
        "(3) Summarize and describe the topic for each cluster. \n"
      ]
    },
    {
      "cell_type": "code",
      "metadata": {
        "id": "PuFPKhC0m1fd",
        "colab_type": "code",
        "outputId": "cb29e789-c5ae-4bb4-9948-6f694233b042",
        "colab": {
          "base_uri": "https://localhost:8080/",
          "height": 67
        }
      },
      "source": [
        "import nltk; nltk.download('stopwords')\n",
        "\n"
      ],
      "execution_count": 0,
      "outputs": [
        {
          "output_type": "stream",
          "text": [
            "[nltk_data] Downloading package stopwords to /root/nltk_data...\n",
            "[nltk_data]   Unzipping corpora/stopwords.zip.\n"
          ],
          "name": "stdout"
        },
        {
          "output_type": "execute_result",
          "data": {
            "text/plain": [
              "True"
            ]
          },
          "metadata": {
            "tags": []
          },
          "execution_count": 1
        }
      ]
    },
    {
      "cell_type": "code",
      "metadata": {
        "id": "uHGcM1FQwNAk",
        "colab_type": "code",
        "outputId": "0348fb21-6927-4b6e-a7d8-3a2401ec5986",
        "colab": {
          "base_uri": "https://localhost:8080/",
          "height": 490
        }
      },
      "source": [
        "!python3 -m spacy download en"
      ],
      "execution_count": 0,
      "outputs": [
        {
          "output_type": "stream",
          "text": [
            "Requirement already satisfied: en_core_web_sm==2.2.5 from https://github.com/explosion/spacy-models/releases/download/en_core_web_sm-2.2.5/en_core_web_sm-2.2.5.tar.gz#egg=en_core_web_sm==2.2.5 in /usr/local/lib/python3.6/dist-packages (2.2.5)\n",
            "Requirement already satisfied: spacy>=2.2.2 in /usr/local/lib/python3.6/dist-packages (from en_core_web_sm==2.2.5) (2.2.4)\n",
            "Requirement already satisfied: murmurhash<1.1.0,>=0.28.0 in /usr/local/lib/python3.6/dist-packages (from spacy>=2.2.2->en_core_web_sm==2.2.5) (1.0.2)\n",
            "Requirement already satisfied: plac<1.2.0,>=0.9.6 in /usr/local/lib/python3.6/dist-packages (from spacy>=2.2.2->en_core_web_sm==2.2.5) (1.1.3)\n",
            "Requirement already satisfied: wasabi<1.1.0,>=0.4.0 in /usr/local/lib/python3.6/dist-packages (from spacy>=2.2.2->en_core_web_sm==2.2.5) (0.6.0)\n",
            "Requirement already satisfied: tqdm<5.0.0,>=4.38.0 in /usr/local/lib/python3.6/dist-packages (from spacy>=2.2.2->en_core_web_sm==2.2.5) (4.41.1)\n",
            "Requirement already satisfied: preshed<3.1.0,>=3.0.2 in /usr/local/lib/python3.6/dist-packages (from spacy>=2.2.2->en_core_web_sm==2.2.5) (3.0.2)\n",
            "Requirement already satisfied: numpy>=1.15.0 in /usr/local/lib/python3.6/dist-packages (from spacy>=2.2.2->en_core_web_sm==2.2.5) (1.18.4)\n",
            "Requirement already satisfied: blis<0.5.0,>=0.4.0 in /usr/local/lib/python3.6/dist-packages (from spacy>=2.2.2->en_core_web_sm==2.2.5) (0.4.1)\n",
            "Requirement already satisfied: srsly<1.1.0,>=1.0.2 in /usr/local/lib/python3.6/dist-packages (from spacy>=2.2.2->en_core_web_sm==2.2.5) (1.0.2)\n",
            "Requirement already satisfied: requests<3.0.0,>=2.13.0 in /usr/local/lib/python3.6/dist-packages (from spacy>=2.2.2->en_core_web_sm==2.2.5) (2.23.0)\n",
            "Requirement already satisfied: setuptools in /usr/local/lib/python3.6/dist-packages (from spacy>=2.2.2->en_core_web_sm==2.2.5) (46.1.3)\n",
            "Requirement already satisfied: catalogue<1.1.0,>=0.0.7 in /usr/local/lib/python3.6/dist-packages (from spacy>=2.2.2->en_core_web_sm==2.2.5) (1.0.0)\n",
            "Requirement already satisfied: cymem<2.1.0,>=2.0.2 in /usr/local/lib/python3.6/dist-packages (from spacy>=2.2.2->en_core_web_sm==2.2.5) (2.0.3)\n",
            "Requirement already satisfied: thinc==7.4.0 in /usr/local/lib/python3.6/dist-packages (from spacy>=2.2.2->en_core_web_sm==2.2.5) (7.4.0)\n",
            "Requirement already satisfied: chardet<4,>=3.0.2 in /usr/local/lib/python3.6/dist-packages (from requests<3.0.0,>=2.13.0->spacy>=2.2.2->en_core_web_sm==2.2.5) (3.0.4)\n",
            "Requirement already satisfied: urllib3!=1.25.0,!=1.25.1,<1.26,>=1.21.1 in /usr/local/lib/python3.6/dist-packages (from requests<3.0.0,>=2.13.0->spacy>=2.2.2->en_core_web_sm==2.2.5) (1.24.3)\n",
            "Requirement already satisfied: idna<3,>=2.5 in /usr/local/lib/python3.6/dist-packages (from requests<3.0.0,>=2.13.0->spacy>=2.2.2->en_core_web_sm==2.2.5) (2.9)\n",
            "Requirement already satisfied: certifi>=2017.4.17 in /usr/local/lib/python3.6/dist-packages (from requests<3.0.0,>=2.13.0->spacy>=2.2.2->en_core_web_sm==2.2.5) (2020.4.5.1)\n",
            "Requirement already satisfied: importlib-metadata>=0.20; python_version < \"3.8\" in /usr/local/lib/python3.6/dist-packages (from catalogue<1.1.0,>=0.0.7->spacy>=2.2.2->en_core_web_sm==2.2.5) (1.6.0)\n",
            "Requirement already satisfied: zipp>=0.5 in /usr/local/lib/python3.6/dist-packages (from importlib-metadata>=0.20; python_version < \"3.8\"->catalogue<1.1.0,>=0.0.7->spacy>=2.2.2->en_core_web_sm==2.2.5) (3.1.0)\n",
            "\u001b[38;5;2m✔ Download and installation successful\u001b[0m\n",
            "You can now load the model via spacy.load('en_core_web_sm')\n",
            "\u001b[38;5;2m✔ Linking successful\u001b[0m\n",
            "/usr/local/lib/python3.6/dist-packages/en_core_web_sm -->\n",
            "/usr/local/lib/python3.6/dist-packages/spacy/data/en\n",
            "You can now load the model via spacy.load('en')\n"
          ],
          "name": "stdout"
        }
      ]
    },
    {
      "cell_type": "code",
      "metadata": {
        "id": "2tnQHHzAwPaW",
        "colab_type": "code",
        "colab": {}
      },
      "source": [
        "import re\n",
        "import numpy as np\n",
        "import pandas as pd\n",
        "from pprint import pprint\n",
        "import gensim\n",
        "import gensim.corpora as corpora\n",
        "from gensim.utils import simple_preprocess\n",
        "from gensim.models import CoherenceModel\n",
        "import spacy"
      ],
      "execution_count": 0,
      "outputs": []
    },
    {
      "cell_type": "code",
      "metadata": {
        "id": "I5lIYcPCwU_r",
        "colab_type": "code",
        "outputId": "e95d64f5-0e05-44ea-9e0a-7673e55d2c1c",
        "colab": {
          "base_uri": "https://localhost:8080/",
          "height": 625
        }
      },
      "source": [
        "!pip install pyLDAvis"
      ],
      "execution_count": 0,
      "outputs": [
        {
          "output_type": "stream",
          "text": [
            "Collecting pyLDAvis\n",
            "\u001b[?25l  Downloading https://files.pythonhosted.org/packages/a5/3a/af82e070a8a96e13217c8f362f9a73e82d61ac8fff3a2561946a97f96266/pyLDAvis-2.1.2.tar.gz (1.6MB)\n",
            "\u001b[K     |████████████████████████████████| 1.6MB 2.8MB/s \n",
            "\u001b[?25hRequirement already satisfied: wheel>=0.23.0 in /usr/local/lib/python3.6/dist-packages (from pyLDAvis) (0.34.2)\n",
            "Requirement already satisfied: numpy>=1.9.2 in /usr/local/lib/python3.6/dist-packages (from pyLDAvis) (1.18.4)\n",
            "Requirement already satisfied: scipy>=0.18.0 in /usr/local/lib/python3.6/dist-packages (from pyLDAvis) (1.4.1)\n",
            "Requirement already satisfied: pandas>=0.17.0 in /usr/local/lib/python3.6/dist-packages (from pyLDAvis) (1.0.3)\n",
            "Requirement already satisfied: joblib>=0.8.4 in /usr/local/lib/python3.6/dist-packages (from pyLDAvis) (0.14.1)\n",
            "Requirement already satisfied: jinja2>=2.7.2 in /usr/local/lib/python3.6/dist-packages (from pyLDAvis) (2.11.2)\n",
            "Requirement already satisfied: numexpr in /usr/local/lib/python3.6/dist-packages (from pyLDAvis) (2.7.1)\n",
            "Requirement already satisfied: pytest in /usr/local/lib/python3.6/dist-packages (from pyLDAvis) (3.6.4)\n",
            "Requirement already satisfied: future in /usr/local/lib/python3.6/dist-packages (from pyLDAvis) (0.16.0)\n",
            "Collecting funcy\n",
            "\u001b[?25l  Downloading https://files.pythonhosted.org/packages/ce/4b/6ffa76544e46614123de31574ad95758c421aae391a1764921b8a81e1eae/funcy-1.14.tar.gz (548kB)\n",
            "\u001b[K     |████████████████████████████████| 552kB 37.3MB/s \n",
            "\u001b[?25hRequirement already satisfied: pytz>=2017.2 in /usr/local/lib/python3.6/dist-packages (from pandas>=0.17.0->pyLDAvis) (2018.9)\n",
            "Requirement already satisfied: python-dateutil>=2.6.1 in /usr/local/lib/python3.6/dist-packages (from pandas>=0.17.0->pyLDAvis) (2.8.1)\n",
            "Requirement already satisfied: MarkupSafe>=0.23 in /usr/local/lib/python3.6/dist-packages (from jinja2>=2.7.2->pyLDAvis) (1.1.1)\n",
            "Requirement already satisfied: more-itertools>=4.0.0 in /usr/local/lib/python3.6/dist-packages (from pytest->pyLDAvis) (8.2.0)\n",
            "Requirement already satisfied: atomicwrites>=1.0 in /usr/local/lib/python3.6/dist-packages (from pytest->pyLDAvis) (1.4.0)\n",
            "Requirement already satisfied: py>=1.5.0 in /usr/local/lib/python3.6/dist-packages (from pytest->pyLDAvis) (1.8.1)\n",
            "Requirement already satisfied: pluggy<0.8,>=0.5 in /usr/local/lib/python3.6/dist-packages (from pytest->pyLDAvis) (0.7.1)\n",
            "Requirement already satisfied: six>=1.10.0 in /usr/local/lib/python3.6/dist-packages (from pytest->pyLDAvis) (1.12.0)\n",
            "Requirement already satisfied: attrs>=17.4.0 in /usr/local/lib/python3.6/dist-packages (from pytest->pyLDAvis) (19.3.0)\n",
            "Requirement already satisfied: setuptools in /usr/local/lib/python3.6/dist-packages (from pytest->pyLDAvis) (46.1.3)\n",
            "Building wheels for collected packages: pyLDAvis, funcy\n",
            "  Building wheel for pyLDAvis (setup.py) ... \u001b[?25l\u001b[?25hdone\n",
            "  Created wheel for pyLDAvis: filename=pyLDAvis-2.1.2-py2.py3-none-any.whl size=97711 sha256=d6ef806ce90593d9e42f4161c16126fddac7268e32d755515d50747e9cf603fa\n",
            "  Stored in directory: /root/.cache/pip/wheels/98/71/24/513a99e58bb6b8465bae4d2d5e9dba8f0bef8179e3051ac414\n",
            "  Building wheel for funcy (setup.py) ... \u001b[?25l\u001b[?25hdone\n",
            "  Created wheel for funcy: filename=funcy-1.14-py2.py3-none-any.whl size=32042 sha256=7f01ec955bab784be10fc92e3355c148369b187717b8240c19c83162aeeb2061\n",
            "  Stored in directory: /root/.cache/pip/wheels/20/5a/d8/1d875df03deae6f178dfdf70238cca33f948ef8a6f5209f2eb\n",
            "Successfully built pyLDAvis funcy\n",
            "Installing collected packages: funcy, pyLDAvis\n",
            "Successfully installed funcy-1.14 pyLDAvis-2.1.2\n"
          ],
          "name": "stdout"
        }
      ]
    },
    {
      "cell_type": "code",
      "metadata": {
        "id": "lfvvQvaKwaki",
        "colab_type": "code",
        "colab": {}
      },
      "source": [
        "import pyLDAvis\n",
        "import pyLDAvis.gensim  \n",
        "import matplotlib.pyplot as plt\n",
        "%matplotlib inline\n",
        "import logging\n",
        "logging.basicConfig(format='%(asctime)s : %(levelname)s : %(message)s', level=logging.ERROR)\n",
        "import warnings\n",
        "warnings.filterwarnings(\"ignore\",category=DeprecationWarning)"
      ],
      "execution_count": 0,
      "outputs": []
    },
    {
      "cell_type": "code",
      "metadata": {
        "id": "Al0K6zn7wrqw",
        "colab_type": "code",
        "colab": {}
      },
      "source": [
        "#stopwords\n",
        "from nltk.corpus import stopwords\n",
        "stop_words = stopwords.words('english')\n",
        "stop_words.extend(['from', 'subject', 're', 'edu', 'use'])"
      ],
      "execution_count": 0,
      "outputs": []
    },
    {
      "cell_type": "code",
      "metadata": {
        "id": "eqvSYGK2wuuq",
        "colab_type": "code",
        "outputId": "54c54d23-f57a-4c76-9d3a-f280ab9549c4",
        "colab": {
          "base_uri": "https://localhost:8080/",
          "height": 1000
        }
      },
      "source": [
        "#Importing the dataset of Assignment 3\n",
        "df = pd.read_csv('/content/SentimetalAnalysis.csv',encoding= 'unicode_escape')\n",
        "print(df.REVIEW.unique())\n",
        "df.head()"
      ],
      "execution_count": 0,
      "outputs": [
        {
          "output_type": "stream",
          "text": [
            "['The acting, cinematography, sound design, and the script itself is phenomenal. This movie is a triumph. Joaquin Pheonix deserves an Oscar win for this tbh.'\n",
            " 'I will stop watching movies if Joaquin Phoenix is not awarded Oscar for his tremendous acting.'\n",
            " 'Miserable and Unpleasant Slog of a Movie about Nothing' \"I don't get it\"\n",
            " 'Stop comparing it with Endgame'\n",
            " 'I have never left a review for any title, good or bad but this is such a piece of garbage that I registered an IMDB account just to vent my opinion. I want these 2 hours of my life back'\n",
            " 'just a joke,the movie.'\n",
            " 'Creative actor Joaquin creativity embodied the role of the Joker film deserves more than 10'\n",
            " \"The ending is what matters in a movie. And this movie has a kind of ending which would leave many speechless. It's indeed a masterpiece:)\"\n",
            " 'Overrated and badly directed film with a misleading title'\n",
            " 'Over-hyped, overacted with no proper entertainment - The Millennial Joker'\n",
            " \"I don't get what everyone else seems to be seeing.\"\n",
            " 'Insult to the best comic book villain of all time' 'Masterpiece'\n",
            " 'The best thing DC has done since Dark Knight'\n",
            " 'Dark, serious, tense... and bad!'\n",
            " 'Good Film but nothing to do with the Joker'\n",
            " 'Great acting - Terrible film' 'Clear the Shelf for the Oscars'\n",
            " 'Masterpiece *Movie Of the Year* Best Actor - Joaquin Phoenix*'\n",
            " 'Not real Joker' 'fell asleep' 'Cinematic Masterpiece'\n",
            " 'Dark, depressing and unsettling film with a haunting score. Incredible acting, directing and screenplay. Joaquin killed it. 5 out of 5 stars! Mental health is so important guys!!!'\n",
            " 'JOKER is a gift to the audiences. I felt as a privileged person to sit in a movie theater and watching it. Joaquin Phoenix and Todd Phillips gave to the world of cinema a rear pearl.'\n",
            " 'Derivative and Uninspired'\n",
            " 'A breath of fresh air.Think heath ledgers joker in taxi driver with a game of thrones like soundtrack'\n",
            " \"Just wasn't for me\" 'Disappointing' 'A waist of time and a free ticket'\n",
            " 'The Joker won. Absolutely tremendous, what acting skills are we talking about ? It is amazing!'\n",
            " \"Am I the only one who didn't like this movie!?!?\"\n",
            " 'That is best joker can i see And joaquin phoenix will win the oscar'\n",
            " \"One of the worst movies I have seen in years. Best part is Cream's White Room. Director is terrible.\"\n",
            " 'Lame' 'A masterclass in acting, sound mixing and cinematography.'\n",
            " 'The slowness of the movie is accompanied with a score full of low notes on stringed instruments.'\n",
            " 'No surprises here. This was just the same idea played over over and over. How about that Joker Ballet in the toilet?! Hilariously bad.'\n",
            " 'One of the worst movies I have ever seen.'\n",
            " 'Disturbing. Just got out of the movie.'\n",
            " 'Joaquin Phoenix does a great job with the part he was dealt '\n",
            " \"I'm amazed. I was shocked by how perfect Joaquin's acting was.\"\n",
            " 'I was blown away by the script and performance. Artistic, gritty, brilliant. Oscar for Todd and Joaquin.'\n",
            " \"Don't fall for it this movie is totally overhyped, borders between boring and irritating.\"\n",
            " 'Below Average, Over Hyped'\n",
            " 'A movie worthy of an oscar. One of the best movie in superhero genre since The Dark Knight. Phoenix is the actor who was born for this role after Ledger.'\n",
            " 'Just go see it.. The end'\n",
            " 'Dark Gloomy Disturbing Horrible should be R rated'\n",
            " 'Do not lead to torturing children (mother) nor murdering people.'\n",
            " 'I don\\'t get it. I think it\\'s a case of \"everyone thinks this is great so I should too\". I was definitely not impressed.'\n",
            " 'There is no reason for this movie to have been made.'\n",
            " \"Joaquine phoenix's acting is just great and Todd Phillips direction and screenplay makes it even greater\"\n",
            " \"I really don't understand all the hype over this movie.\"\n",
            " 'Will Hopefully Be Talked About for a Long Time'\n",
            " 'Just went and watched the joker movie and it has to be the worst movie I have ever seen 1 out of 5 stars'\n",
            " 'This movie was so slow'\n",
            " 'Overly forced perception of the performing \"arts\"'\n",
            " 'Dissappointing and Underwhelming'\n",
            " 'Not sure what kind of message this movie is supposed to send.'\n",
            " \"Phoenix is great. The cinematography as well. That's it.\"\n",
            " 'I have never seen a movie so perfect' 'Piece of garbage'\n",
            " 'Way too many 10s. This was a technical masterpiece and Phoenix was great.'\n",
            " 'Dark and Depressive' 'Joker Deserves Oscar... Wow'\n",
            " \"Don't listen to critics. Great Movie!!\"\n",
            " 'Badly overhyped and poorly executed by all'\n",
            " 'Beautiful. Haunting. Hard-hitting.' 'Unreasonable & gloomy movie'\n",
            " 'Amazing!!'\n",
            " 'Absolutely stellar performance by Joaquin Phoenix. His portrayal of Joker is so realistic and gripping. Emotions overload.'\n",
            " 'Wow just wow'\n",
            " 'This joker Standalone movie is a Masterpiece and the acting of Joaquin Pheonix makes it Oscar Worthy.'\n",
            " 'I feel like the only person who thought this movie was absolutely terrible and a complete waste of time and money.'\n",
            " \"What a horrible movie, from minute 1 you knew what's going to happen at the end. Overacting job of Phoenix. Poor acting by rest of actors.\"\n",
            " 'Insanely dark yet good' 'Nice acting but bad story'\n",
            " 'The acting,the story,the music, and the cinematography it was all awesome it was perfect looking forward to seeing this movie again with friends and family'\n",
            " 'This movie is totally garbage.'\n",
            " 'Joaquin Phoenix, maybe the best living actor today, what a performance.'\n",
            " \"The plot could've been a little more defined BUT Joaquin is phenomenal. Flawlessly done. He deserves every award possible for his performance.\"\n",
            " 'Morally, I dislike the depiction of mental disturbances relating to violence.'\n",
            " \"Possibly the worst thing I've ever seen , everybody else in the cinema thought that too\"\n",
            " 'No comments..... best achievement in every way \\x85'\n",
            " 'Joaquin Phoenix performance is not the best this year !! It is actually the best of the decade . I have watched this movie for 4 times until now ! Well deserved Oscar Joker .'\n",
            " 'Extraordinary acting performance from Phoenix and well worth his Oscar.'\n",
            " 'The first half was boring the second was a bit better. The actor did a good job, however overall average movie. Nothing special.'\n",
            " 'Incredible acting by Joker.'\n",
            " 'I was just stunned after watching the movie . A sure nomination for the Oscars !!!'\n",
            " 'Abusive'\n",
            " \"It was a mastery in film making..from Joaquins performance to Todd Phillip's Visionary.\"\n",
            " 'This movie is a great well made movie. It tells a story about a failed comedian and has a very good plot. Not recommended for small children'\n",
            " \"I wouldn't change a thing. Absolutely perfectly paced, dialogued and acted. I WANT SEQUELS!\"\n",
            " \"Not everyone's cup of tea\"\n",
            " \"Good film, but I've got mixed feelings about it.\"\n",
            " \"Wow ...what a movie and what an actor , Go ahead and watch it, it really worth it, I've already seen it twice in three days.\"\n",
            " 'A masterpiece, one of the best movies of tge decade and century'\n",
            " 'Very different from all the past interpretations of the character'\n",
            " 'Waste of time'\n",
            " 'What a performance by Joaquin. The way they build the character is mind blowing! Loved Heath Ledger but Joaquin has actually outdone him here\\x85']\n"
          ],
          "name": "stdout"
        },
        {
          "output_type": "execute_result",
          "data": {
            "text/html": [
              "<div>\n",
              "<style scoped>\n",
              "    .dataframe tbody tr th:only-of-type {\n",
              "        vertical-align: middle;\n",
              "    }\n",
              "\n",
              "    .dataframe tbody tr th {\n",
              "        vertical-align: top;\n",
              "    }\n",
              "\n",
              "    .dataframe thead th {\n",
              "        text-align: right;\n",
              "    }\n",
              "</style>\n",
              "<table border=\"1\" class=\"dataframe\">\n",
              "  <thead>\n",
              "    <tr style=\"text-align: right;\">\n",
              "      <th></th>\n",
              "      <th>DOCID</th>\n",
              "      <th>REVIEW</th>\n",
              "      <th>Unnamed: 2</th>\n",
              "      <th>Unnamed: 3</th>\n",
              "      <th>Unnamed: 4</th>\n",
              "      <th>Unnamed: 5</th>\n",
              "      <th>Unnamed: 6</th>\n",
              "      <th>Unnamed: 7</th>\n",
              "      <th>Unnamed: 8</th>\n",
              "      <th>Unnamed: 9</th>\n",
              "      <th>Unnamed: 10</th>\n",
              "      <th>Unnamed: 11</th>\n",
              "      <th>Unnamed: 12</th>\n",
              "      <th>Unnamed: 13</th>\n",
              "      <th>Unnamed: 14</th>\n",
              "      <th>Unnamed: 15</th>\n",
              "      <th>Unnamed: 16</th>\n",
              "      <th>Unnamed: 17</th>\n",
              "      <th>Unnamed: 18</th>\n",
              "      <th>Unnamed: 19</th>\n",
              "      <th>Unnamed: 20</th>\n",
              "      <th>Unnamed: 21</th>\n",
              "      <th>Unnamed: 22</th>\n",
              "      <th>SENTIMENT</th>\n",
              "    </tr>\n",
              "  </thead>\n",
              "  <tbody>\n",
              "    <tr>\n",
              "      <th>0</th>\n",
              "      <td>1</td>\n",
              "      <td>The acting, cinematography, sound design, and ...</td>\n",
              "      <td>NaN</td>\n",
              "      <td>NaN</td>\n",
              "      <td>NaN</td>\n",
              "      <td>NaN</td>\n",
              "      <td>NaN</td>\n",
              "      <td>NaN</td>\n",
              "      <td>NaN</td>\n",
              "      <td>NaN</td>\n",
              "      <td>NaN</td>\n",
              "      <td>NaN</td>\n",
              "      <td>NaN</td>\n",
              "      <td>NaN</td>\n",
              "      <td>NaN</td>\n",
              "      <td>NaN</td>\n",
              "      <td>NaN</td>\n",
              "      <td>NaN</td>\n",
              "      <td>NaN</td>\n",
              "      <td>NaN</td>\n",
              "      <td>NaN</td>\n",
              "      <td>NaN</td>\n",
              "      <td>NaN</td>\n",
              "      <td>Positive</td>\n",
              "    </tr>\n",
              "    <tr>\n",
              "      <th>1</th>\n",
              "      <td>2</td>\n",
              "      <td>I will stop watching movies if Joaquin Phoenix...</td>\n",
              "      <td>NaN</td>\n",
              "      <td>NaN</td>\n",
              "      <td>NaN</td>\n",
              "      <td>NaN</td>\n",
              "      <td>NaN</td>\n",
              "      <td>NaN</td>\n",
              "      <td>NaN</td>\n",
              "      <td>NaN</td>\n",
              "      <td>NaN</td>\n",
              "      <td>NaN</td>\n",
              "      <td>NaN</td>\n",
              "      <td>NaN</td>\n",
              "      <td>NaN</td>\n",
              "      <td>NaN</td>\n",
              "      <td>NaN</td>\n",
              "      <td>NaN</td>\n",
              "      <td>NaN</td>\n",
              "      <td>NaN</td>\n",
              "      <td>NaN</td>\n",
              "      <td>NaN</td>\n",
              "      <td>NaN</td>\n",
              "      <td>Positive</td>\n",
              "    </tr>\n",
              "    <tr>\n",
              "      <th>2</th>\n",
              "      <td>3</td>\n",
              "      <td>Miserable and Unpleasant Slog of a Movie about...</td>\n",
              "      <td>NaN</td>\n",
              "      <td>NaN</td>\n",
              "      <td>NaN</td>\n",
              "      <td>NaN</td>\n",
              "      <td>NaN</td>\n",
              "      <td>NaN</td>\n",
              "      <td>NaN</td>\n",
              "      <td>NaN</td>\n",
              "      <td>NaN</td>\n",
              "      <td>NaN</td>\n",
              "      <td>NaN</td>\n",
              "      <td>NaN</td>\n",
              "      <td>NaN</td>\n",
              "      <td>NaN</td>\n",
              "      <td>NaN</td>\n",
              "      <td>NaN</td>\n",
              "      <td>NaN</td>\n",
              "      <td>NaN</td>\n",
              "      <td>NaN</td>\n",
              "      <td>NaN</td>\n",
              "      <td>NaN</td>\n",
              "      <td>Negative</td>\n",
              "    </tr>\n",
              "    <tr>\n",
              "      <th>3</th>\n",
              "      <td>4</td>\n",
              "      <td>I don't get it</td>\n",
              "      <td>NaN</td>\n",
              "      <td>NaN</td>\n",
              "      <td>NaN</td>\n",
              "      <td>NaN</td>\n",
              "      <td>NaN</td>\n",
              "      <td>NaN</td>\n",
              "      <td>NaN</td>\n",
              "      <td>NaN</td>\n",
              "      <td>NaN</td>\n",
              "      <td>NaN</td>\n",
              "      <td>NaN</td>\n",
              "      <td>NaN</td>\n",
              "      <td>NaN</td>\n",
              "      <td>NaN</td>\n",
              "      <td>NaN</td>\n",
              "      <td>NaN</td>\n",
              "      <td>NaN</td>\n",
              "      <td>NaN</td>\n",
              "      <td>NaN</td>\n",
              "      <td>NaN</td>\n",
              "      <td>NaN</td>\n",
              "      <td>Neutral</td>\n",
              "    </tr>\n",
              "    <tr>\n",
              "      <th>4</th>\n",
              "      <td>5</td>\n",
              "      <td>Stop comparing it with Endgame</td>\n",
              "      <td>NaN</td>\n",
              "      <td>NaN</td>\n",
              "      <td>NaN</td>\n",
              "      <td>NaN</td>\n",
              "      <td>NaN</td>\n",
              "      <td>NaN</td>\n",
              "      <td>NaN</td>\n",
              "      <td>NaN</td>\n",
              "      <td>NaN</td>\n",
              "      <td>NaN</td>\n",
              "      <td>NaN</td>\n",
              "      <td>NaN</td>\n",
              "      <td>NaN</td>\n",
              "      <td>NaN</td>\n",
              "      <td>NaN</td>\n",
              "      <td>NaN</td>\n",
              "      <td>NaN</td>\n",
              "      <td>NaN</td>\n",
              "      <td>NaN</td>\n",
              "      <td>NaN</td>\n",
              "      <td>NaN</td>\n",
              "      <td>Neutral</td>\n",
              "    </tr>\n",
              "  </tbody>\n",
              "</table>\n",
              "</div>"
            ],
            "text/plain": [
              "   DOCID  ... SENTIMENT\n",
              "0      1  ...  Positive\n",
              "1      2  ...  Positive\n",
              "2      3  ...  Negative\n",
              "3      4  ...   Neutral\n",
              "4      5  ...   Neutral\n",
              "\n",
              "[5 rows x 24 columns]"
            ]
          },
          "metadata": {
            "tags": []
          },
          "execution_count": 11
        }
      ]
    },
    {
      "cell_type": "code",
      "metadata": {
        "id": "XIRxz-JuxJwQ",
        "colab_type": "code",
        "outputId": "584a00c4-efce-4d0c-90a2-d0637f907dcf",
        "colab": {
          "base_uri": "https://localhost:8080/",
          "height": 67
        }
      },
      "source": [
        "data = df.REVIEW.values.tolist()\n",
        "data = [re.sub('\\S*@\\S*\\s?', '', sent) for sent in data]\n",
        "data = [re.sub('\\s+', ' ', sent) for sent in data]\n",
        "data = [re.sub(\"\\'\", \"\", sent) for sent in data]\n",
        "pprint(data[:1])"
      ],
      "execution_count": 0,
      "outputs": [
        {
          "output_type": "stream",
          "text": [
            "['The acting, cinematography, sound design, and the script itself is '\n",
            " 'phenomenal. This movie is a triumph. Joaquin Pheonix deserves an Oscar win '\n",
            " 'for this tbh.']\n"
          ],
          "name": "stdout"
        }
      ]
    },
    {
      "cell_type": "code",
      "metadata": {
        "id": "PwGdhzc_xUFS",
        "colab_type": "code",
        "outputId": "e08cb543-baad-48ba-9b4f-74e31a0add07",
        "colab": {
          "base_uri": "https://localhost:8080/",
          "height": 54
        }
      },
      "source": [
        "res = [sub.split() for sub in data] \n",
        "print(res)"
      ],
      "execution_count": 0,
      "outputs": [
        {
          "output_type": "stream",
          "text": [
            "[['The', 'acting,', 'cinematography,', 'sound', 'design,', 'and', 'the', 'script', 'itself', 'is', 'phenomenal.', 'This', 'movie', 'is', 'a', 'triumph.', 'Joaquin', 'Pheonix', 'deserves', 'an', 'Oscar', 'win', 'for', 'this', 'tbh.'], ['I', 'will', 'stop', 'watching', 'movies', 'if', 'Joaquin', 'Phoenix', 'is', 'not', 'awarded', 'Oscar', 'for', 'his', 'tremendous', 'acting.'], ['Miserable', 'and', 'Unpleasant', 'Slog', 'of', 'a', 'Movie', 'about', 'Nothing'], ['I', 'dont', 'get', 'it'], ['Stop', 'comparing', 'it', 'with', 'Endgame'], ['I', 'have', 'never', 'left', 'a', 'review', 'for', 'any', 'title,', 'good', 'or', 'bad', 'but', 'this', 'is', 'such', 'a', 'piece', 'of', 'garbage', 'that', 'I', 'registered', 'an', 'IMDB', 'account', 'just', 'to', 'vent', 'my', 'opinion.', 'I', 'want', 'these', '2', 'hours', 'of', 'my', 'life', 'back'], ['just', 'a', 'joke,the', 'movie.'], ['Creative', 'actor', 'Joaquin', 'creativity', 'embodied', 'the', 'role', 'of', 'the', 'Joker', 'film', 'deserves', 'more', 'than', '10'], ['The', 'ending', 'is', 'what', 'matters', 'in', 'a', 'movie.', 'And', 'this', 'movie', 'has', 'a', 'kind', 'of', 'ending', 'which', 'would', 'leave', 'many', 'speechless.', 'Its', 'indeed', 'a', 'masterpiece:)'], ['Overrated', 'and', 'badly', 'directed', 'film', 'with', 'a', 'misleading', 'title'], ['Over-hyped,', 'overacted', 'with', 'no', 'proper', 'entertainment', '-', 'The', 'Millennial', 'Joker'], ['I', 'dont', 'get', 'what', 'everyone', 'else', 'seems', 'to', 'be', 'seeing.'], ['Insult', 'to', 'the', 'best', 'comic', 'book', 'villain', 'of', 'all', 'time'], ['Masterpiece'], ['The', 'best', 'thing', 'DC', 'has', 'done', 'since', 'Dark', 'Knight'], ['Dark,', 'serious,', 'tense...', 'and', 'bad!'], ['Good', 'Film', 'but', 'nothing', 'to', 'do', 'with', 'the', 'Joker'], ['Great', 'acting', '-', 'Terrible', 'film'], ['Clear', 'the', 'Shelf', 'for', 'the', 'Oscars'], ['Masterpiece', '*Movie', 'Of', 'the', 'Year*', 'Best', 'Actor', '-', 'Joaquin', 'Phoenix*'], ['Not', 'real', 'Joker'], ['fell', 'asleep'], ['Cinematic', 'Masterpiece'], ['Dark,', 'depressing', 'and', 'unsettling', 'film', 'with', 'a', 'haunting', 'score.', 'Incredible', 'acting,', 'directing', 'and', 'screenplay.', 'Joaquin', 'killed', 'it.', '5', 'out', 'of', '5', 'stars!', 'Mental', 'health', 'is', 'so', 'important', 'guys!!!'], ['JOKER', 'is', 'a', 'gift', 'to', 'the', 'audiences.', 'I', 'felt', 'as', 'a', 'privileged', 'person', 'to', 'sit', 'in', 'a', 'movie', 'theater', 'and', 'watching', 'it.', 'Joaquin', 'Phoenix', 'and', 'Todd', 'Phillips', 'gave', 'to', 'the', 'world', 'of', 'cinema', 'a', 'rear', 'pearl.'], ['Derivative', 'and', 'Uninspired'], ['A', 'breath', 'of', 'fresh', 'air.Think', 'heath', 'ledgers', 'joker', 'in', 'taxi', 'driver', 'with', 'a', 'game', 'of', 'thrones', 'like', 'soundtrack'], ['Just', 'wasnt', 'for', 'me'], ['Disappointing'], ['A', 'waist', 'of', 'time', 'and', 'a', 'free', 'ticket'], ['The', 'Joker', 'won.', 'Absolutely', 'tremendous,', 'what', 'acting', 'skills', 'are', 'we', 'talking', 'about', '?', 'It', 'is', 'amazing!'], ['Am', 'I', 'the', 'only', 'one', 'who', 'didnt', 'like', 'this', 'movie!?!?'], ['That', 'is', 'best', 'joker', 'can', 'i', 'see', 'And', 'joaquin', 'phoenix', 'will', 'win', 'the', 'oscar'], ['One', 'of', 'the', 'worst', 'movies', 'I', 'have', 'seen', 'in', 'years.', 'Best', 'part', 'is', 'Creams', 'White', 'Room.', 'Director', 'is', 'terrible.'], ['Lame'], ['A', 'masterclass', 'in', 'acting,', 'sound', 'mixing', 'and', 'cinematography.'], ['The', 'slowness', 'of', 'the', 'movie', 'is', 'accompanied', 'with', 'a', 'score', 'full', 'of', 'low', 'notes', 'on', 'stringed', 'instruments.'], ['No', 'surprises', 'here.', 'This', 'was', 'just', 'the', 'same', 'idea', 'played', 'over', 'over', 'and', 'over.', 'How', 'about', 'that', 'Joker', 'Ballet', 'in', 'the', 'toilet?!', 'Hilariously', 'bad.'], ['One', 'of', 'the', 'worst', 'movies', 'I', 'have', 'ever', 'seen.'], ['Disturbing.', 'Just', 'got', 'out', 'of', 'the', 'movie.'], ['Joaquin', 'Phoenix', 'does', 'a', 'great', 'job', 'with', 'the', 'part', 'he', 'was', 'dealt'], ['Im', 'amazed.', 'I', 'was', 'shocked', 'by', 'how', 'perfect', 'Joaquins', 'acting', 'was.'], ['I', 'was', 'blown', 'away', 'by', 'the', 'script', 'and', 'performance.', 'Artistic,', 'gritty,', 'brilliant.', 'Oscar', 'for', 'Todd', 'and', 'Joaquin.'], ['Dont', 'fall', 'for', 'it', 'this', 'movie', 'is', 'totally', 'overhyped,', 'borders', 'between', 'boring', 'and', 'irritating.'], ['Below', 'Average,', 'Over', 'Hyped'], ['A', 'movie', 'worthy', 'of', 'an', 'oscar.', 'One', 'of', 'the', 'best', 'movie', 'in', 'superhero', 'genre', 'since', 'The', 'Dark', 'Knight.', 'Phoenix', 'is', 'the', 'actor', 'who', 'was', 'born', 'for', 'this', 'role', 'after', 'Ledger.'], ['Just', 'go', 'see', 'it..', 'The', 'end'], ['Dark', 'Gloomy', 'Disturbing', 'Horrible', 'should', 'be', 'R', 'rated'], ['Do', 'not', 'lead', 'to', 'torturing', 'children', '(mother)', 'nor', 'murdering', 'people.'], ['I', 'dont', 'get', 'it.', 'I', 'think', 'its', 'a', 'case', 'of', '\"everyone', 'thinks', 'this', 'is', 'great', 'so', 'I', 'should', 'too\".', 'I', 'was', 'definitely', 'not', 'impressed.'], ['There', 'is', 'no', 'reason', 'for', 'this', 'movie', 'to', 'have', 'been', 'made.'], ['Joaquine', 'phoenixs', 'acting', 'is', 'just', 'great', 'and', 'Todd', 'Phillips', 'direction', 'and', 'screenplay', 'makes', 'it', 'even', 'greater'], ['I', 'really', 'dont', 'understand', 'all', 'the', 'hype', 'over', 'this', 'movie.'], ['Will', 'Hopefully', 'Be', 'Talked', 'About', 'for', 'a', 'Long', 'Time'], ['Just', 'went', 'and', 'watched', 'the', 'joker', 'movie', 'and', 'it', 'has', 'to', 'be', 'the', 'worst', 'movie', 'I', 'have', 'ever', 'seen', '1', 'out', 'of', '5', 'stars'], ['This', 'movie', 'was', 'so', 'slow'], ['Overly', 'forced', 'perception', 'of', 'the', 'performing', '\"arts\"'], ['Dissappointing', 'and', 'Underwhelming'], ['Not', 'sure', 'what', 'kind', 'of', 'message', 'this', 'movie', 'is', 'supposed', 'to', 'send.'], ['Phoenix', 'is', 'great.', 'The', 'cinematography', 'as', 'well.', 'Thats', 'it.'], ['I', 'have', 'never', 'seen', 'a', 'movie', 'so', 'perfect'], ['Piece', 'of', 'garbage'], ['Way', 'too', 'many', '10s.', 'This', 'was', 'a', 'technical', 'masterpiece', 'and', 'Phoenix', 'was', 'great.'], ['Dark', 'and', 'Depressive'], ['Joker', 'Deserves', 'Oscar...', 'Wow'], ['Dont', 'listen', 'to', 'critics.', 'Great', 'Movie!!'], ['Badly', 'overhyped', 'and', 'poorly', 'executed', 'by', 'all'], ['Beautiful.', 'Haunting.', 'Hard-hitting.'], ['Unreasonable', '&', 'gloomy', 'movie'], ['Amazing!!'], ['Absolutely', 'stellar', 'performance', 'by', 'Joaquin', 'Phoenix.', 'His', 'portrayal', 'of', 'Joker', 'is', 'so', 'realistic', 'and', 'gripping.', 'Emotions', 'overload.'], ['Wow', 'just', 'wow'], ['This', 'joker', 'Standalone', 'movie', 'is', 'a', 'Masterpiece', 'and', 'the', 'acting', 'of', 'Joaquin', 'Pheonix', 'makes', 'it', 'Oscar', 'Worthy.'], ['I', 'feel', 'like', 'the', 'only', 'person', 'who', 'thought', 'this', 'movie', 'was', 'absolutely', 'terrible', 'and', 'a', 'complete', 'waste', 'of', 'time', 'and', 'money.'], ['What', 'a', 'horrible', 'movie,', 'from', 'minute', '1', 'you', 'knew', 'whats', 'going', 'to', 'happen', 'at', 'the', 'end.', 'Overacting', 'job', 'of', 'Phoenix.', 'Poor', 'acting', 'by', 'rest', 'of', 'actors.'], ['Insanely', 'dark', 'yet', 'good'], ['Nice', 'acting', 'but', 'bad', 'story'], ['The', 'acting,the', 'story,the', 'music,', 'and', 'the', 'cinematography', 'it', 'was', 'all', 'awesome', 'it', 'was', 'perfect', 'looking', 'forward', 'to', 'seeing', 'this', 'movie', 'again', 'with', 'friends', 'and', 'family'], ['This', 'movie', 'is', 'totally', 'garbage.'], ['Joaquin', 'Phoenix,', 'maybe', 'the', 'best', 'living', 'actor', 'today,', 'what', 'a', 'performance.'], ['The', 'plot', 'couldve', 'been', 'a', 'little', 'more', 'defined', 'BUT', 'Joaquin', 'is', 'phenomenal.', 'Flawlessly', 'done.', 'He', 'deserves', 'every', 'award', 'possible', 'for', 'his', 'performance.'], ['Morally,', 'I', 'dislike', 'the', 'depiction', 'of', 'mental', 'disturbances', 'relating', 'to', 'violence.'], ['Possibly', 'the', 'worst', 'thing', 'Ive', 'ever', 'seen', ',', 'everybody', 'else', 'in', 'the', 'cinema', 'thought', 'that', 'too'], ['No', 'comments.....', 'best', 'achievement', 'in', 'every', 'way'], ['Joaquin', 'Phoenix', 'performance', 'is', 'not', 'the', 'best', 'this', 'year', '!!', 'It', 'is', 'actually', 'the', 'best', 'of', 'the', 'decade', '.', 'I', 'have', 'watched', 'this', 'movie', 'for', '4', 'times', 'until', 'now', '!', 'Well', 'deserved', 'Oscar', 'Joker', '.'], ['Extraordinary', 'acting', 'performance', 'from', 'Phoenix', 'and', 'well', 'worth', 'his', 'Oscar.'], ['The', 'first', 'half', 'was', 'boring', 'the', 'second', 'was', 'a', 'bit', 'better.', 'The', 'actor', 'did', 'a', 'good', 'job,', 'however', 'overall', 'average', 'movie.', 'Nothing', 'special.'], ['Incredible', 'acting', 'by', 'Joker.'], ['I', 'was', 'just', 'stunned', 'after', 'watching', 'the', 'movie', '.', 'A', 'sure', 'nomination', 'for', 'the', 'Oscars', '!!!'], ['Abusive'], ['It', 'was', 'a', 'mastery', 'in', 'film', 'making..from', 'Joaquins', 'performance', 'to', 'Todd', 'Phillips', 'Visionary.'], ['This', 'movie', 'is', 'a', 'great', 'well', 'made', 'movie.', 'It', 'tells', 'a', 'story', 'about', 'a', 'failed', 'comedian', 'and', 'has', 'a', 'very', 'good', 'plot.', 'Not', 'recommended', 'for', 'small', 'children'], ['I', 'wouldnt', 'change', 'a', 'thing.', 'Absolutely', 'perfectly', 'paced,', 'dialogued', 'and', 'acted.', 'I', 'WANT', 'SEQUELS!'], ['Not', 'everyones', 'cup', 'of', 'tea'], ['Good', 'film,', 'but', 'Ive', 'got', 'mixed', 'feelings', 'about', 'it.'], ['Wow', '...what', 'a', 'movie', 'and', 'what', 'an', 'actor', ',', 'Go', 'ahead', 'and', 'watch', 'it,', 'it', 'really', 'worth', 'it,', 'Ive', 'already', 'seen', 'it', 'twice', 'in', 'three', 'days.'], ['A', 'masterpiece,', 'one', 'of', 'the', 'best', 'movies', 'of', 'tge', 'decade', 'and', 'century'], ['Very', 'different', 'from', 'all', 'the', 'past', 'interpretations', 'of', 'the', 'character'], ['Waste', 'of', 'time'], ['What', 'a', 'performance', 'by', 'Joaquin.', 'The', 'way', 'they', 'build', 'the', 'character', 'is', 'mind', 'blowing!', 'Loved', 'Heath', 'Ledger', 'but', 'Joaquin', 'has', 'actually', 'outdone', 'him', 'here']]\n"
          ],
          "name": "stdout"
        }
      ]
    },
    {
      "cell_type": "code",
      "metadata": {
        "id": "kxaMr6CDxXx8",
        "colab_type": "code",
        "outputId": "5f7788d8-e6a8-4044-9164-1459287ff2a8",
        "colab": {
          "base_uri": "https://localhost:8080/",
          "height": 70
        }
      },
      "source": [
        "#Bigrams & Trigrams\n",
        "bigram = gensim.models.Phrases(res, min_count=5, threshold=100) # higher threshold fewer phrases.\n",
        "trigram = gensim.models.Phrases(bigram[res], threshold=100)  \n",
        "bigram_mod = gensim.models.phrases.Phraser(bigram)\n",
        "trigram_mod = gensim.models.phrases.Phraser(trigram)"
      ],
      "execution_count": 0,
      "outputs": [
        {
          "output_type": "stream",
          "text": [
            "/usr/local/lib/python3.6/dist-packages/gensim/models/phrases.py:598: UserWarning: For a faster implementation, use the gensim.models.phrases.Phraser class\n",
            "  warnings.warn(\"For a faster implementation, use the gensim.models.phrases.Phraser class\")\n"
          ],
          "name": "stderr"
        }
      ]
    },
    {
      "cell_type": "code",
      "metadata": {
        "id": "1y5Z-VgoxdEP",
        "colab_type": "code",
        "colab": {}
      },
      "source": [
        "def make_bigrams(texts):\n",
        "    return [bigram_mod[doc] for doc in texts]\n",
        "def make_trigrams(texts):\n",
        "    return [trigram_mod[bigram_mod[doc]] for doc in texts]"
      ],
      "execution_count": 0,
      "outputs": []
    },
    {
      "cell_type": "code",
      "metadata": {
        "id": "k4CzrDq9xhKD",
        "colab_type": "code",
        "outputId": "0b6d4557-8e76-4a89-b6cb-01271a235e6a",
        "colab": {
          "base_uri": "https://localhost:8080/",
          "height": 1000
        }
      },
      "source": [
        "#bigrams\n",
        "data_words_bigrams = make_bigrams(res)\n",
        "data_words_bigrams"
      ],
      "execution_count": 0,
      "outputs": [
        {
          "output_type": "execute_result",
          "data": {
            "text/plain": [
              "[['The',\n",
              "  'acting,',\n",
              "  'cinematography,',\n",
              "  'sound',\n",
              "  'design,',\n",
              "  'and',\n",
              "  'the',\n",
              "  'script',\n",
              "  'itself',\n",
              "  'is',\n",
              "  'phenomenal.',\n",
              "  'This',\n",
              "  'movie',\n",
              "  'is',\n",
              "  'a',\n",
              "  'triumph.',\n",
              "  'Joaquin',\n",
              "  'Pheonix',\n",
              "  'deserves',\n",
              "  'an',\n",
              "  'Oscar',\n",
              "  'win',\n",
              "  'for',\n",
              "  'this',\n",
              "  'tbh.'],\n",
              " ['I',\n",
              "  'will',\n",
              "  'stop',\n",
              "  'watching',\n",
              "  'movies',\n",
              "  'if',\n",
              "  'Joaquin',\n",
              "  'Phoenix',\n",
              "  'is',\n",
              "  'not',\n",
              "  'awarded',\n",
              "  'Oscar',\n",
              "  'for',\n",
              "  'his',\n",
              "  'tremendous',\n",
              "  'acting.'],\n",
              " ['Miserable',\n",
              "  'and',\n",
              "  'Unpleasant',\n",
              "  'Slog',\n",
              "  'of',\n",
              "  'a',\n",
              "  'Movie',\n",
              "  'about',\n",
              "  'Nothing'],\n",
              " ['I', 'dont', 'get', 'it'],\n",
              " ['Stop', 'comparing', 'it', 'with', 'Endgame'],\n",
              " ['I',\n",
              "  'have',\n",
              "  'never',\n",
              "  'left',\n",
              "  'a',\n",
              "  'review',\n",
              "  'for',\n",
              "  'any',\n",
              "  'title,',\n",
              "  'good',\n",
              "  'or',\n",
              "  'bad',\n",
              "  'but',\n",
              "  'this',\n",
              "  'is',\n",
              "  'such',\n",
              "  'a',\n",
              "  'piece',\n",
              "  'of',\n",
              "  'garbage',\n",
              "  'that',\n",
              "  'I',\n",
              "  'registered',\n",
              "  'an',\n",
              "  'IMDB',\n",
              "  'account',\n",
              "  'just',\n",
              "  'to',\n",
              "  'vent',\n",
              "  'my',\n",
              "  'opinion.',\n",
              "  'I',\n",
              "  'want',\n",
              "  'these',\n",
              "  '2',\n",
              "  'hours',\n",
              "  'of',\n",
              "  'my',\n",
              "  'life',\n",
              "  'back'],\n",
              " ['just', 'a', 'joke,the', 'movie.'],\n",
              " ['Creative',\n",
              "  'actor',\n",
              "  'Joaquin',\n",
              "  'creativity',\n",
              "  'embodied',\n",
              "  'the',\n",
              "  'role',\n",
              "  'of',\n",
              "  'the',\n",
              "  'Joker',\n",
              "  'film',\n",
              "  'deserves',\n",
              "  'more',\n",
              "  'than',\n",
              "  '10'],\n",
              " ['The',\n",
              "  'ending',\n",
              "  'is',\n",
              "  'what',\n",
              "  'matters',\n",
              "  'in',\n",
              "  'a',\n",
              "  'movie.',\n",
              "  'And',\n",
              "  'this',\n",
              "  'movie',\n",
              "  'has',\n",
              "  'a',\n",
              "  'kind',\n",
              "  'of',\n",
              "  'ending',\n",
              "  'which',\n",
              "  'would',\n",
              "  'leave',\n",
              "  'many',\n",
              "  'speechless.',\n",
              "  'Its',\n",
              "  'indeed',\n",
              "  'a',\n",
              "  'masterpiece:)'],\n",
              " ['Overrated',\n",
              "  'and',\n",
              "  'badly',\n",
              "  'directed',\n",
              "  'film',\n",
              "  'with',\n",
              "  'a',\n",
              "  'misleading',\n",
              "  'title'],\n",
              " ['Over-hyped,',\n",
              "  'overacted',\n",
              "  'with',\n",
              "  'no',\n",
              "  'proper',\n",
              "  'entertainment',\n",
              "  '-',\n",
              "  'The',\n",
              "  'Millennial',\n",
              "  'Joker'],\n",
              " ['I',\n",
              "  'dont',\n",
              "  'get',\n",
              "  'what',\n",
              "  'everyone',\n",
              "  'else',\n",
              "  'seems',\n",
              "  'to',\n",
              "  'be',\n",
              "  'seeing.'],\n",
              " ['Insult',\n",
              "  'to',\n",
              "  'the',\n",
              "  'best',\n",
              "  'comic',\n",
              "  'book',\n",
              "  'villain',\n",
              "  'of',\n",
              "  'all',\n",
              "  'time'],\n",
              " ['Masterpiece'],\n",
              " ['The', 'best', 'thing', 'DC', 'has', 'done', 'since', 'Dark', 'Knight'],\n",
              " ['Dark,', 'serious,', 'tense...', 'and', 'bad!'],\n",
              " ['Good', 'Film', 'but', 'nothing', 'to', 'do', 'with', 'the', 'Joker'],\n",
              " ['Great', 'acting', '-', 'Terrible', 'film'],\n",
              " ['Clear', 'the', 'Shelf', 'for', 'the', 'Oscars'],\n",
              " ['Masterpiece',\n",
              "  '*Movie',\n",
              "  'Of',\n",
              "  'the',\n",
              "  'Year*',\n",
              "  'Best',\n",
              "  'Actor',\n",
              "  '-',\n",
              "  'Joaquin',\n",
              "  'Phoenix*'],\n",
              " ['Not', 'real', 'Joker'],\n",
              " ['fell', 'asleep'],\n",
              " ['Cinematic', 'Masterpiece'],\n",
              " ['Dark,',\n",
              "  'depressing',\n",
              "  'and',\n",
              "  'unsettling',\n",
              "  'film',\n",
              "  'with',\n",
              "  'a',\n",
              "  'haunting',\n",
              "  'score.',\n",
              "  'Incredible',\n",
              "  'acting,',\n",
              "  'directing',\n",
              "  'and',\n",
              "  'screenplay.',\n",
              "  'Joaquin',\n",
              "  'killed',\n",
              "  'it.',\n",
              "  '5',\n",
              "  'out',\n",
              "  'of',\n",
              "  '5',\n",
              "  'stars!',\n",
              "  'Mental',\n",
              "  'health',\n",
              "  'is',\n",
              "  'so',\n",
              "  'important',\n",
              "  'guys!!!'],\n",
              " ['JOKER',\n",
              "  'is',\n",
              "  'a',\n",
              "  'gift',\n",
              "  'to',\n",
              "  'the',\n",
              "  'audiences.',\n",
              "  'I',\n",
              "  'felt',\n",
              "  'as',\n",
              "  'a',\n",
              "  'privileged',\n",
              "  'person',\n",
              "  'to',\n",
              "  'sit',\n",
              "  'in',\n",
              "  'a',\n",
              "  'movie',\n",
              "  'theater',\n",
              "  'and',\n",
              "  'watching',\n",
              "  'it.',\n",
              "  'Joaquin',\n",
              "  'Phoenix',\n",
              "  'and',\n",
              "  'Todd',\n",
              "  'Phillips',\n",
              "  'gave',\n",
              "  'to',\n",
              "  'the',\n",
              "  'world',\n",
              "  'of',\n",
              "  'cinema',\n",
              "  'a',\n",
              "  'rear',\n",
              "  'pearl.'],\n",
              " ['Derivative', 'and', 'Uninspired'],\n",
              " ['A',\n",
              "  'breath',\n",
              "  'of',\n",
              "  'fresh',\n",
              "  'air.Think',\n",
              "  'heath',\n",
              "  'ledgers',\n",
              "  'joker',\n",
              "  'in',\n",
              "  'taxi',\n",
              "  'driver',\n",
              "  'with',\n",
              "  'a',\n",
              "  'game',\n",
              "  'of',\n",
              "  'thrones',\n",
              "  'like',\n",
              "  'soundtrack'],\n",
              " ['Just', 'wasnt', 'for', 'me'],\n",
              " ['Disappointing'],\n",
              " ['A', 'waist', 'of', 'time', 'and', 'a', 'free', 'ticket'],\n",
              " ['The',\n",
              "  'Joker',\n",
              "  'won.',\n",
              "  'Absolutely',\n",
              "  'tremendous,',\n",
              "  'what',\n",
              "  'acting',\n",
              "  'skills',\n",
              "  'are',\n",
              "  'we',\n",
              "  'talking',\n",
              "  'about',\n",
              "  '?',\n",
              "  'It',\n",
              "  'is',\n",
              "  'amazing!'],\n",
              " ['Am',\n",
              "  'I',\n",
              "  'the',\n",
              "  'only',\n",
              "  'one',\n",
              "  'who',\n",
              "  'didnt',\n",
              "  'like',\n",
              "  'this',\n",
              "  'movie!?!?'],\n",
              " ['That',\n",
              "  'is',\n",
              "  'best',\n",
              "  'joker',\n",
              "  'can',\n",
              "  'i',\n",
              "  'see',\n",
              "  'And',\n",
              "  'joaquin',\n",
              "  'phoenix',\n",
              "  'will',\n",
              "  'win',\n",
              "  'the',\n",
              "  'oscar'],\n",
              " ['One',\n",
              "  'of',\n",
              "  'the',\n",
              "  'worst',\n",
              "  'movies',\n",
              "  'I',\n",
              "  'have',\n",
              "  'seen',\n",
              "  'in',\n",
              "  'years.',\n",
              "  'Best',\n",
              "  'part',\n",
              "  'is',\n",
              "  'Creams',\n",
              "  'White',\n",
              "  'Room.',\n",
              "  'Director',\n",
              "  'is',\n",
              "  'terrible.'],\n",
              " ['Lame'],\n",
              " ['A',\n",
              "  'masterclass',\n",
              "  'in',\n",
              "  'acting,',\n",
              "  'sound',\n",
              "  'mixing',\n",
              "  'and',\n",
              "  'cinematography.'],\n",
              " ['The',\n",
              "  'slowness',\n",
              "  'of',\n",
              "  'the',\n",
              "  'movie',\n",
              "  'is',\n",
              "  'accompanied',\n",
              "  'with',\n",
              "  'a',\n",
              "  'score',\n",
              "  'full',\n",
              "  'of',\n",
              "  'low',\n",
              "  'notes',\n",
              "  'on',\n",
              "  'stringed',\n",
              "  'instruments.'],\n",
              " ['No',\n",
              "  'surprises',\n",
              "  'here.',\n",
              "  'This',\n",
              "  'was',\n",
              "  'just',\n",
              "  'the',\n",
              "  'same',\n",
              "  'idea',\n",
              "  'played',\n",
              "  'over',\n",
              "  'over',\n",
              "  'and',\n",
              "  'over.',\n",
              "  'How',\n",
              "  'about',\n",
              "  'that',\n",
              "  'Joker',\n",
              "  'Ballet',\n",
              "  'in',\n",
              "  'the',\n",
              "  'toilet?!',\n",
              "  'Hilariously',\n",
              "  'bad.'],\n",
              " ['One', 'of', 'the', 'worst', 'movies', 'I', 'have', 'ever', 'seen.'],\n",
              " ['Disturbing.', 'Just', 'got', 'out', 'of', 'the', 'movie.'],\n",
              " ['Joaquin',\n",
              "  'Phoenix',\n",
              "  'does',\n",
              "  'a',\n",
              "  'great',\n",
              "  'job',\n",
              "  'with',\n",
              "  'the',\n",
              "  'part',\n",
              "  'he',\n",
              "  'was',\n",
              "  'dealt'],\n",
              " ['Im',\n",
              "  'amazed.',\n",
              "  'I',\n",
              "  'was',\n",
              "  'shocked',\n",
              "  'by',\n",
              "  'how',\n",
              "  'perfect',\n",
              "  'Joaquins',\n",
              "  'acting',\n",
              "  'was.'],\n",
              " ['I',\n",
              "  'was',\n",
              "  'blown',\n",
              "  'away',\n",
              "  'by',\n",
              "  'the',\n",
              "  'script',\n",
              "  'and',\n",
              "  'performance.',\n",
              "  'Artistic,',\n",
              "  'gritty,',\n",
              "  'brilliant.',\n",
              "  'Oscar',\n",
              "  'for',\n",
              "  'Todd',\n",
              "  'and',\n",
              "  'Joaquin.'],\n",
              " ['Dont',\n",
              "  'fall',\n",
              "  'for',\n",
              "  'it',\n",
              "  'this',\n",
              "  'movie',\n",
              "  'is',\n",
              "  'totally',\n",
              "  'overhyped,',\n",
              "  'borders',\n",
              "  'between',\n",
              "  'boring',\n",
              "  'and',\n",
              "  'irritating.'],\n",
              " ['Below', 'Average,', 'Over', 'Hyped'],\n",
              " ['A',\n",
              "  'movie',\n",
              "  'worthy',\n",
              "  'of',\n",
              "  'an',\n",
              "  'oscar.',\n",
              "  'One',\n",
              "  'of',\n",
              "  'the',\n",
              "  'best',\n",
              "  'movie',\n",
              "  'in',\n",
              "  'superhero',\n",
              "  'genre',\n",
              "  'since',\n",
              "  'The',\n",
              "  'Dark',\n",
              "  'Knight.',\n",
              "  'Phoenix',\n",
              "  'is',\n",
              "  'the',\n",
              "  'actor',\n",
              "  'who',\n",
              "  'was',\n",
              "  'born',\n",
              "  'for',\n",
              "  'this',\n",
              "  'role',\n",
              "  'after',\n",
              "  'Ledger.'],\n",
              " ['Just', 'go', 'see', 'it..', 'The', 'end'],\n",
              " ['Dark', 'Gloomy', 'Disturbing', 'Horrible', 'should', 'be', 'R', 'rated'],\n",
              " ['Do',\n",
              "  'not',\n",
              "  'lead',\n",
              "  'to',\n",
              "  'torturing',\n",
              "  'children',\n",
              "  '(mother)',\n",
              "  'nor',\n",
              "  'murdering',\n",
              "  'people.'],\n",
              " ['I',\n",
              "  'dont',\n",
              "  'get',\n",
              "  'it.',\n",
              "  'I',\n",
              "  'think',\n",
              "  'its',\n",
              "  'a',\n",
              "  'case',\n",
              "  'of',\n",
              "  '\"everyone',\n",
              "  'thinks',\n",
              "  'this',\n",
              "  'is',\n",
              "  'great',\n",
              "  'so',\n",
              "  'I',\n",
              "  'should',\n",
              "  'too\".',\n",
              "  'I',\n",
              "  'was',\n",
              "  'definitely',\n",
              "  'not',\n",
              "  'impressed.'],\n",
              " ['There',\n",
              "  'is',\n",
              "  'no',\n",
              "  'reason',\n",
              "  'for',\n",
              "  'this',\n",
              "  'movie',\n",
              "  'to',\n",
              "  'have',\n",
              "  'been',\n",
              "  'made.'],\n",
              " ['Joaquine',\n",
              "  'phoenixs',\n",
              "  'acting',\n",
              "  'is',\n",
              "  'just',\n",
              "  'great',\n",
              "  'and',\n",
              "  'Todd',\n",
              "  'Phillips',\n",
              "  'direction',\n",
              "  'and',\n",
              "  'screenplay',\n",
              "  'makes',\n",
              "  'it',\n",
              "  'even',\n",
              "  'greater'],\n",
              " ['I',\n",
              "  'really',\n",
              "  'dont',\n",
              "  'understand',\n",
              "  'all',\n",
              "  'the',\n",
              "  'hype',\n",
              "  'over',\n",
              "  'this',\n",
              "  'movie.'],\n",
              " ['Will', 'Hopefully', 'Be', 'Talked', 'About', 'for', 'a', 'Long', 'Time'],\n",
              " ['Just',\n",
              "  'went',\n",
              "  'and',\n",
              "  'watched',\n",
              "  'the',\n",
              "  'joker',\n",
              "  'movie',\n",
              "  'and',\n",
              "  'it',\n",
              "  'has',\n",
              "  'to',\n",
              "  'be',\n",
              "  'the',\n",
              "  'worst',\n",
              "  'movie',\n",
              "  'I',\n",
              "  'have',\n",
              "  'ever',\n",
              "  'seen',\n",
              "  '1',\n",
              "  'out',\n",
              "  'of',\n",
              "  '5',\n",
              "  'stars'],\n",
              " ['This', 'movie', 'was', 'so', 'slow'],\n",
              " ['Overly', 'forced', 'perception', 'of', 'the', 'performing', '\"arts\"'],\n",
              " ['Dissappointing', 'and', 'Underwhelming'],\n",
              " ['Not',\n",
              "  'sure',\n",
              "  'what',\n",
              "  'kind',\n",
              "  'of',\n",
              "  'message',\n",
              "  'this',\n",
              "  'movie',\n",
              "  'is',\n",
              "  'supposed',\n",
              "  'to',\n",
              "  'send.'],\n",
              " ['Phoenix',\n",
              "  'is',\n",
              "  'great.',\n",
              "  'The',\n",
              "  'cinematography',\n",
              "  'as',\n",
              "  'well.',\n",
              "  'Thats',\n",
              "  'it.'],\n",
              " ['I', 'have', 'never', 'seen', 'a', 'movie', 'so', 'perfect'],\n",
              " ['Piece', 'of', 'garbage'],\n",
              " ['Way',\n",
              "  'too',\n",
              "  'many',\n",
              "  '10s.',\n",
              "  'This',\n",
              "  'was',\n",
              "  'a',\n",
              "  'technical',\n",
              "  'masterpiece',\n",
              "  'and',\n",
              "  'Phoenix',\n",
              "  'was',\n",
              "  'great.'],\n",
              " ['Dark', 'and', 'Depressive'],\n",
              " ['Joker', 'Deserves', 'Oscar...', 'Wow'],\n",
              " ['Dont', 'listen', 'to', 'critics.', 'Great', 'Movie!!'],\n",
              " ['Badly', 'overhyped', 'and', 'poorly', 'executed', 'by', 'all'],\n",
              " ['Beautiful.', 'Haunting.', 'Hard-hitting.'],\n",
              " ['Unreasonable', '&', 'gloomy', 'movie'],\n",
              " ['Amazing!!'],\n",
              " ['Absolutely',\n",
              "  'stellar',\n",
              "  'performance',\n",
              "  'by',\n",
              "  'Joaquin',\n",
              "  'Phoenix.',\n",
              "  'His',\n",
              "  'portrayal',\n",
              "  'of',\n",
              "  'Joker',\n",
              "  'is',\n",
              "  'so',\n",
              "  'realistic',\n",
              "  'and',\n",
              "  'gripping.',\n",
              "  'Emotions',\n",
              "  'overload.'],\n",
              " ['Wow', 'just', 'wow'],\n",
              " ['This',\n",
              "  'joker',\n",
              "  'Standalone',\n",
              "  'movie',\n",
              "  'is',\n",
              "  'a',\n",
              "  'Masterpiece',\n",
              "  'and',\n",
              "  'the',\n",
              "  'acting',\n",
              "  'of',\n",
              "  'Joaquin',\n",
              "  'Pheonix',\n",
              "  'makes',\n",
              "  'it',\n",
              "  'Oscar',\n",
              "  'Worthy.'],\n",
              " ['I',\n",
              "  'feel',\n",
              "  'like',\n",
              "  'the',\n",
              "  'only',\n",
              "  'person',\n",
              "  'who',\n",
              "  'thought',\n",
              "  'this',\n",
              "  'movie',\n",
              "  'was',\n",
              "  'absolutely',\n",
              "  'terrible',\n",
              "  'and',\n",
              "  'a',\n",
              "  'complete',\n",
              "  'waste',\n",
              "  'of',\n",
              "  'time',\n",
              "  'and',\n",
              "  'money.'],\n",
              " ['What',\n",
              "  'a',\n",
              "  'horrible',\n",
              "  'movie,',\n",
              "  'from',\n",
              "  'minute',\n",
              "  '1',\n",
              "  'you',\n",
              "  'knew',\n",
              "  'whats',\n",
              "  'going',\n",
              "  'to',\n",
              "  'happen',\n",
              "  'at',\n",
              "  'the',\n",
              "  'end.',\n",
              "  'Overacting',\n",
              "  'job',\n",
              "  'of',\n",
              "  'Phoenix.',\n",
              "  'Poor',\n",
              "  'acting',\n",
              "  'by',\n",
              "  'rest',\n",
              "  'of',\n",
              "  'actors.'],\n",
              " ['Insanely', 'dark', 'yet', 'good'],\n",
              " ['Nice', 'acting', 'but', 'bad', 'story'],\n",
              " ['The',\n",
              "  'acting,the',\n",
              "  'story,the',\n",
              "  'music,',\n",
              "  'and',\n",
              "  'the',\n",
              "  'cinematography',\n",
              "  'it',\n",
              "  'was',\n",
              "  'all',\n",
              "  'awesome',\n",
              "  'it',\n",
              "  'was',\n",
              "  'perfect',\n",
              "  'looking',\n",
              "  'forward',\n",
              "  'to',\n",
              "  'seeing',\n",
              "  'this',\n",
              "  'movie',\n",
              "  'again',\n",
              "  'with',\n",
              "  'friends',\n",
              "  'and',\n",
              "  'family'],\n",
              " ['This', 'movie', 'is', 'totally', 'garbage.'],\n",
              " ['Joaquin',\n",
              "  'Phoenix,',\n",
              "  'maybe',\n",
              "  'the',\n",
              "  'best',\n",
              "  'living',\n",
              "  'actor',\n",
              "  'today,',\n",
              "  'what',\n",
              "  'a',\n",
              "  'performance.'],\n",
              " ['The',\n",
              "  'plot',\n",
              "  'couldve',\n",
              "  'been',\n",
              "  'a',\n",
              "  'little',\n",
              "  'more',\n",
              "  'defined',\n",
              "  'BUT',\n",
              "  'Joaquin',\n",
              "  'is',\n",
              "  'phenomenal.',\n",
              "  'Flawlessly',\n",
              "  'done.',\n",
              "  'He',\n",
              "  'deserves',\n",
              "  'every',\n",
              "  'award',\n",
              "  'possible',\n",
              "  'for',\n",
              "  'his',\n",
              "  'performance.'],\n",
              " ['Morally,',\n",
              "  'I',\n",
              "  'dislike',\n",
              "  'the',\n",
              "  'depiction',\n",
              "  'of',\n",
              "  'mental',\n",
              "  'disturbances',\n",
              "  'relating',\n",
              "  'to',\n",
              "  'violence.'],\n",
              " ['Possibly',\n",
              "  'the',\n",
              "  'worst',\n",
              "  'thing',\n",
              "  'Ive',\n",
              "  'ever',\n",
              "  'seen',\n",
              "  ',',\n",
              "  'everybody',\n",
              "  'else',\n",
              "  'in',\n",
              "  'the',\n",
              "  'cinema',\n",
              "  'thought',\n",
              "  'that',\n",
              "  'too'],\n",
              " ['No', 'comments.....', 'best', 'achievement', 'in', 'every', 'way'],\n",
              " ['Joaquin',\n",
              "  'Phoenix',\n",
              "  'performance',\n",
              "  'is',\n",
              "  'not',\n",
              "  'the',\n",
              "  'best',\n",
              "  'this',\n",
              "  'year',\n",
              "  '!!',\n",
              "  'It',\n",
              "  'is',\n",
              "  'actually',\n",
              "  'the',\n",
              "  'best',\n",
              "  'of',\n",
              "  'the',\n",
              "  'decade',\n",
              "  '.',\n",
              "  'I',\n",
              "  'have',\n",
              "  'watched',\n",
              "  'this',\n",
              "  'movie',\n",
              "  'for',\n",
              "  '4',\n",
              "  'times',\n",
              "  'until',\n",
              "  'now',\n",
              "  '!',\n",
              "  'Well',\n",
              "  'deserved',\n",
              "  'Oscar',\n",
              "  'Joker',\n",
              "  '.'],\n",
              " ['Extraordinary',\n",
              "  'acting',\n",
              "  'performance',\n",
              "  'from',\n",
              "  'Phoenix',\n",
              "  'and',\n",
              "  'well',\n",
              "  'worth',\n",
              "  'his',\n",
              "  'Oscar.'],\n",
              " ['The',\n",
              "  'first',\n",
              "  'half',\n",
              "  'was',\n",
              "  'boring',\n",
              "  'the',\n",
              "  'second',\n",
              "  'was',\n",
              "  'a',\n",
              "  'bit',\n",
              "  'better.',\n",
              "  'The',\n",
              "  'actor',\n",
              "  'did',\n",
              "  'a',\n",
              "  'good',\n",
              "  'job,',\n",
              "  'however',\n",
              "  'overall',\n",
              "  'average',\n",
              "  'movie.',\n",
              "  'Nothing',\n",
              "  'special.'],\n",
              " ['Incredible', 'acting', 'by', 'Joker.'],\n",
              " ['I',\n",
              "  'was',\n",
              "  'just',\n",
              "  'stunned',\n",
              "  'after',\n",
              "  'watching',\n",
              "  'the',\n",
              "  'movie',\n",
              "  '.',\n",
              "  'A',\n",
              "  'sure',\n",
              "  'nomination',\n",
              "  'for',\n",
              "  'the',\n",
              "  'Oscars',\n",
              "  '!!!'],\n",
              " ['Abusive'],\n",
              " ['It',\n",
              "  'was',\n",
              "  'a',\n",
              "  'mastery',\n",
              "  'in',\n",
              "  'film',\n",
              "  'making..from',\n",
              "  'Joaquins',\n",
              "  'performance',\n",
              "  'to',\n",
              "  'Todd',\n",
              "  'Phillips',\n",
              "  'Visionary.'],\n",
              " ['This',\n",
              "  'movie',\n",
              "  'is',\n",
              "  'a',\n",
              "  'great',\n",
              "  'well',\n",
              "  'made',\n",
              "  'movie.',\n",
              "  'It',\n",
              "  'tells',\n",
              "  'a',\n",
              "  'story',\n",
              "  'about',\n",
              "  'a',\n",
              "  'failed',\n",
              "  'comedian',\n",
              "  'and',\n",
              "  'has',\n",
              "  'a',\n",
              "  'very',\n",
              "  'good',\n",
              "  'plot.',\n",
              "  'Not',\n",
              "  'recommended',\n",
              "  'for',\n",
              "  'small',\n",
              "  'children'],\n",
              " ['I',\n",
              "  'wouldnt',\n",
              "  'change',\n",
              "  'a',\n",
              "  'thing.',\n",
              "  'Absolutely',\n",
              "  'perfectly',\n",
              "  'paced,',\n",
              "  'dialogued',\n",
              "  'and',\n",
              "  'acted.',\n",
              "  'I',\n",
              "  'WANT',\n",
              "  'SEQUELS!'],\n",
              " ['Not', 'everyones', 'cup', 'of', 'tea'],\n",
              " ['Good', 'film,', 'but', 'Ive', 'got', 'mixed', 'feelings', 'about', 'it.'],\n",
              " ['Wow',\n",
              "  '...what',\n",
              "  'a',\n",
              "  'movie',\n",
              "  'and',\n",
              "  'what',\n",
              "  'an',\n",
              "  'actor',\n",
              "  ',',\n",
              "  'Go',\n",
              "  'ahead',\n",
              "  'and',\n",
              "  'watch',\n",
              "  'it,',\n",
              "  'it',\n",
              "  'really',\n",
              "  'worth',\n",
              "  'it,',\n",
              "  'Ive',\n",
              "  'already',\n",
              "  'seen',\n",
              "  'it',\n",
              "  'twice',\n",
              "  'in',\n",
              "  'three',\n",
              "  'days.'],\n",
              " ['A',\n",
              "  'masterpiece,',\n",
              "  'one',\n",
              "  'of',\n",
              "  'the',\n",
              "  'best',\n",
              "  'movies',\n",
              "  'of',\n",
              "  'tge',\n",
              "  'decade',\n",
              "  'and',\n",
              "  'century'],\n",
              " ['Very',\n",
              "  'different',\n",
              "  'from',\n",
              "  'all',\n",
              "  'the',\n",
              "  'past',\n",
              "  'interpretations',\n",
              "  'of',\n",
              "  'the',\n",
              "  'character'],\n",
              " ['Waste', 'of', 'time'],\n",
              " ['What',\n",
              "  'a',\n",
              "  'performance',\n",
              "  'by',\n",
              "  'Joaquin.',\n",
              "  'The',\n",
              "  'way',\n",
              "  'they',\n",
              "  'build',\n",
              "  'the',\n",
              "  'character',\n",
              "  'is',\n",
              "  'mind',\n",
              "  'blowing!',\n",
              "  'Loved',\n",
              "  'Heath',\n",
              "  'Ledger',\n",
              "  'but',\n",
              "  'Joaquin',\n",
              "  'has',\n",
              "  'actually',\n",
              "  'outdone',\n",
              "  'him',\n",
              "  'here']]"
            ]
          },
          "metadata": {
            "tags": []
          },
          "execution_count": 18
        }
      ]
    },
    {
      "cell_type": "code",
      "metadata": {
        "id": "xuzY05_7xlCi",
        "colab_type": "code",
        "outputId": "f50b58e7-afe3-43bc-f593-de6af588012a",
        "colab": {
          "base_uri": "https://localhost:8080/",
          "height": 34
        }
      },
      "source": [
        "from collections import Counter\n",
        "\n",
        "bigram_counts = Counter()\n",
        "for cell in data_words_bigrams:\n",
        "    for bigram in cell:\n",
        "        bigram_counts[bigram] += 1\n",
        "\n",
        "bigram_counts.most_common(5)"
      ],
      "execution_count": 0,
      "outputs": [
        {
          "output_type": "execute_result",
          "data": {
            "text/plain": [
              "[('the', 44), ('a', 37), ('and', 35), ('of', 35), ('is', 27)]"
            ]
          },
          "metadata": {
            "tags": []
          },
          "execution_count": 19
        }
      ]
    },
    {
      "cell_type": "code",
      "metadata": {
        "id": "hMV6Tz1Uxymn",
        "colab_type": "code",
        "outputId": "7b247cf7-8d34-4f2e-ea76-a330f213d377",
        "colab": {
          "base_uri": "https://localhost:8080/",
          "height": 54
        }
      },
      "source": [
        "id2word = corpora.Dictionary(res)\n",
        "texts = res\n",
        "corpus = [id2word.doc2bow(text) for text in texts]\n",
        "print(corpus[:1])"
      ],
      "execution_count": 0,
      "outputs": [
        {
          "output_type": "stream",
          "text": [
            "[[(0, 1), (1, 1), (2, 1), (3, 1), (4, 1), (5, 1), (6, 1), (7, 1), (8, 1), (9, 1), (10, 1), (11, 1), (12, 1), (13, 2), (14, 1), (15, 1), (16, 1), (17, 1), (18, 1), (19, 1), (20, 1), (21, 1), (22, 1), (23, 1)]]\n"
          ],
          "name": "stdout"
        }
      ]
    },
    {
      "cell_type": "code",
      "metadata": {
        "id": "VVwXL_I4x1gm",
        "colab_type": "code",
        "outputId": "3df31867-3511-49b9-ae32-41647a3c1057",
        "colab": {
          "base_uri": "https://localhost:8080/",
          "height": 34
        }
      },
      "source": [
        "id2word[13]"
      ],
      "execution_count": 0,
      "outputs": [
        {
          "output_type": "execute_result",
          "data": {
            "text/plain": [
              "'is'"
            ]
          },
          "metadata": {
            "tags": []
          },
          "execution_count": 21
        }
      ]
    },
    {
      "cell_type": "code",
      "metadata": {
        "id": "G7MgbVUHx6l1",
        "colab_type": "code",
        "colab": {}
      },
      "source": [
        "#LDA\n",
        "lda_model = gensim.models.ldamodel.LdaModel(corpus=corpus,\n",
        "                                           id2word=id2word,\n",
        "                                           num_topics=10, \n",
        "                                           random_state=100,\n",
        "                                           update_every=1,\n",
        "                                           chunksize=100,\n",
        "                                           passes=10,\n",
        "                                           alpha='auto')"
      ],
      "execution_count": 0,
      "outputs": []
    },
    {
      "cell_type": "code",
      "metadata": {
        "id": "Bp-TmrH2yMG2",
        "colab_type": "code",
        "outputId": "f2273720-cdfb-4b81-e421-49be6f45904b",
        "colab": {
          "base_uri": "https://localhost:8080/",
          "height": 554
        }
      },
      "source": [
        "# Top 10\n",
        "# Print the Keyword in the 10 topics\n",
        "pprint(lda_model.print_topics())\n",
        "doc_lda = lda_model[corpus]"
      ],
      "execution_count": 0,
      "outputs": [
        {
          "output_type": "stream",
          "text": [
            "[(0,\n",
            "  '0.049*\"and\" + 0.042*\"the\" + 0.035*\"of\" + 0.032*\"I\" + 0.021*\"was\" + '\n",
            "  '0.018*\"a\" + 0.014*\"movie\" + 0.014*\"this\" + 0.011*\"is\" + 0.011*\"The\"'),\n",
            " (1,\n",
            "  '0.037*\"and\" + 0.025*\"is\" + 0.025*\"a\" + 0.025*\"Joaquin\" + 0.019*\"was\" + '\n",
            "  '0.019*\"acting\" + 0.019*\"Phoenix\" + 0.019*\"of\" + 0.013*\"with\" + 0.013*\"the\"'),\n",
            " (2,\n",
            "  '0.036*\"the\" + 0.022*\"but\" + 0.015*\"a\" + 0.015*\"Joaquin\" + 0.015*\"Ive\" + '\n",
            "  '0.015*\"about\" + 0.015*\"of\" + 0.008*\"The\" + 0.008*\"actor\" + 0.008*\"Nothing\"'),\n",
            " (3,\n",
            "  '0.031*\"a\" + 0.024*\"I\" + 0.024*\"the\" + 0.016*\"and\" + 0.016*\"with\" + '\n",
            "  '0.016*\"The\" + 0.016*\"was\" + 0.008*\"is\" + 0.008*\"best\" + 0.008*\"can\"'),\n",
            " (4,\n",
            "  '0.038*\"of\" + 0.034*\"the\" + 0.029*\"I\" + 0.019*\"a\" + 0.019*\"this\" + '\n",
            "  '0.015*\"for\" + 0.014*\"is\" + 0.010*\"acting\" + 0.010*\"from\" + 0.010*\"by\"'),\n",
            " (5,\n",
            "  '0.030*\"the\" + 0.030*\"is\" + 0.025*\"and\" + 0.025*\"a\" + 0.025*\"movie\" + '\n",
            "  '0.020*\"of\" + 0.015*\"I\" + 0.015*\"have\" + 0.015*\"worst\" + 0.010*\"in\"'),\n",
            " (6,\n",
            "  '0.022*\"of\" + 0.013*\"Joaquin\" + 0.013*\"Joker\" + 0.013*\"Oscar\" + '\n",
            "  '0.013*\"Phoenix\" + 0.013*\"not\" + 0.012*\"is\" + 0.011*\"for\" + 0.011*\"I\" + '\n",
            "  '0.011*\"in\"'),\n",
            " (7,\n",
            "  '0.036*\"to\" + 0.010*\"performance\" + 0.010*\"film\" + 0.010*\"mastery\" + '\n",
            "  '0.010*\"Phillips\" + 0.010*\"lead\" + 0.010*\"murdering\" + 0.010*\"torturing\" + '\n",
            "  '0.010*\"It\" + 0.010*\"(mother)\"'),\n",
            " (8,\n",
            "  '0.033*\"movie\" + 0.027*\"is\" + 0.022*\"a\" + 0.022*\"and\" + 0.022*\"this\" + '\n",
            "  '0.017*\"it\" + 0.017*\"what\" + 0.017*\"for\" + 0.017*\"in\" + 0.011*\"of\"'),\n",
            " (9,\n",
            "  '0.034*\"the\" + 0.034*\"a\" + 0.024*\"movie\" + 0.019*\"to\" + 0.015*\"was\" + '\n",
            "  '0.015*\"best\" + 0.015*\"for\" + 0.015*\"The\" + 0.015*\"I\" + 0.015*\"Phoenix\"')]\n"
          ],
          "name": "stdout"
        }
      ]
    },
    {
      "cell_type": "code",
      "metadata": {
        "id": "jGi0ycZdyTAf",
        "colab_type": "code",
        "outputId": "b1079d74-b5a5-4c7a-9114-5200f139643c",
        "colab": {
          "base_uri": "https://localhost:8080/",
          "height": 84
        }
      },
      "source": [
        "print('\\nPerplexity: ', lda_model.log_perplexity(corpus))  # a measure of how good the model is. lower the better.\n",
        "coherence_model_lda = CoherenceModel(model=lda_model, texts=res, dictionary=id2word, coherence='c_v')\n",
        "coherence_lda = coherence_model_lda.get_coherence()\n",
        "print('\\nCoherence Score: ', coherence_lda)"
      ],
      "execution_count": 0,
      "outputs": [
        {
          "output_type": "stream",
          "text": [
            "\n",
            "Perplexity:  -6.58521852357105\n",
            "\n",
            "Coherence Score:  0.29622172773789707\n"
          ],
          "name": "stdout"
        }
      ]
    },
    {
      "cell_type": "code",
      "metadata": {
        "id": "10bHKAxjydCf",
        "colab_type": "code",
        "outputId": "f032306d-066c-4b97-b956-1ef6d8ada962",
        "colab": {
          "base_uri": "https://localhost:8080/",
          "height": 881
        }
      },
      "source": [
        "#Visualization\n",
        "pyLDAvis.enable_notebook()\n",
        "vis = pyLDAvis.gensim.prepare(lda_model, corpus, id2word)\n",
        "vis"
      ],
      "execution_count": 0,
      "outputs": [
        {
          "output_type": "execute_result",
          "data": {
            "text/html": [
              "\n",
              "<link rel=\"stylesheet\" type=\"text/css\" href=\"https://cdn.rawgit.com/bmabey/pyLDAvis/files/ldavis.v1.0.0.css\">\n",
              "\n",
              "\n",
              "<div id=\"ldavis_el1231403166000084005738712701\"></div>\n",
              "<script type=\"text/javascript\">\n",
              "\n",
              "var ldavis_el1231403166000084005738712701_data = {\"mdsDat\": {\"x\": [0.021300563684363144, -0.09597101846505106, 0.0505688583287491, 0.09004402179602977, 0.10446450557248926, 0.027672722388748378, -0.029420919355442717, -0.038637989513061785, -0.08912248217073147, -0.040898262266092514], \"y\": [0.12416869757183616, 0.09925909030614244, 0.03089696575016655, 0.021200935982612083, -0.04266069020142595, -0.04098007459168418, -0.07884101543955115, -0.03442357778754306, -0.04427611516447396, -0.03434421642607832], \"topics\": [1, 2, 3, 4, 5, 6, 7, 8, 9, 10], \"cluster\": [1, 1, 1, 1, 1, 1, 1, 1, 1, 1], \"Freq\": [19.373741149902344, 13.169828414916992, 13.028717041015625, 12.163541793823242, 11.026729583740234, 9.225363731384277, 7.399115562438965, 6.32001256942749, 4.797065258026123, 3.4958817958831787]}, \"tinfo\": {\"Term\": [\"I\", \"to\", \"and\", \"movie\", \"Phoenix\", \"Joaquin\", \"was\", \"with\", \"but\", \"this\", \"in\", \"the\", \"of\", \"for\", \"film\", \"not\", \"it\", \"is\", \"what\", \"about\", \"A\", \"movies\", \"worst\", \"his\", \"watching\", \"joker\", \"like\", \"best\", \"Wow\", \"Joker\", \"only\", \"one\", \"like\", \"waste\", \"again\", \"awesome\", \"family\", \"forward\", \"friends\", \"looking\", \"music,\", \"seeing\", \"story,the\", \"definitely\", \"didnt\", \"Am\", \"waist\", \"ticket\", \"free\", \"Morally,\", \"depiction\", \"dislike\", \"disturbances\", \"mental\", \"relating\", \"movie!?!?\", \"terrible\", \"money.\", \"feel\", \"\\\"everyone\", \"violence.\", \"Artistic,\", \"blown\", \"acting,the\", \"complete\", \"absolutely\", \"poorly\", \"away\", \"brilliant.\", \"too\\\".\", \"case\", \"gritty,\", \"Shelf\", \"overhyped\", \"Badly\", \"impressed.\", \"its\", \"think\", \"thinks\", \"end\", \"Disturbing.\", \"who\", \"perfect\", \"over\", \"and\", \"I\", \"was\", \"the\", \"of\", \"Todd\", \"time\", \"great\", \"Just\", \"this\", \"it\", \"all\", \"so\", \"movie\", \"A\", \"a\", \"The\", \"just\", \"by\", \"with\", \"is\", \"tge\", \"for\", \"to\", \"This\", \"garbage\", \"my\", \"horrible\", \"Poor\", \"end.\", \"Overacting\", \"going\", \"happen\", \"at\", \"knew\", \"minute\", \"movie,\", \"rest\", \"whats\", \"you\", \"Be\", \"About\", \"amazed.\", \"shocked\", \"understand\", \"hype\", \"was.\", \"Long\", \"how\", \"Hopefully\", \"actors.\", \"Talked\", \"Time\", \"Will\", \"Very\", \"different\", \"interpretations\", \"past\", \"from\", \"Im\", \".\", \"good\", \"of\", \"I\", \"this\", \"the\", \"all\", \"for\", \"by\", \"have\", \"a\", \"acting\", \"best\", \"is\", \"to\", \"yet\", \"was\", \"movie.\", \"really\", \"Joaquins\", \"after\", \"since\", \"his\", \"watching\", \"Oscar.\", \"Knight\", \"done\", \"Phoenix,\", \"living\", \"maybe\", \"today,\", \"seems\", \"seeing.\", \"everyone\", \"DC\", \"stunned\", \"nomination\", \"!!!\", \"Extraordinary\", \"slow\", \"joke,the\", \"superhero\", \"born\", \"Knight.\", \"Ledger.\", \"worthy\", \"genre\", \"oscar.\", \"award\", \"couldve\", \"performance.\", \"Dark\", \"Phoenix\", \"best\", \"a\", \"to\", \"movie\", \"actor\", \"the\", \"Joaquin\", \"A\", \"The\", \"for\", \"what\", \"just\", \"was\", \"I\", \"is\", \"in\", \"of\", \"and\", \"This\", \"from\", \".\", \"thing\", \"sound\", \"worst\", \"Director\", \"seen.\", \"stars\", \"went\", \"years.\", \"terrible.\", \"White\", \"Room.\", \"Creams\", \"mixing\", \"cinematography.\", \"forced\", \"performing\", \"Overly\", \"\\\"arts\\\"\", \"masterclass\", \"perception\", \"&\", \"gloomy\", \"Hard-hitting.\", \"Unreasonable\", \"Beautiful.\", \"Haunting.\", \"Lame\", \"are\", \"skills\", \"talking\", \"we\", \"ever\", \"acting,\", \"One\", \"movies\", \"It\", \"have\", \"is\", \"movie\", \"about\", \"has\", \"seen\", \"the\", \"and\", \"a\", \"This\", \"of\", \"I\", \"in\", \"The\", \"for\", \"to\", \"Joaquin\", \"watched\", \"totally\", \"kind\", \"ending\", \"no\", \"it,\", \"fall\", \"irritating.\", \"Over-hyped,\", \"between\", \"borders\", \"overhyped,\", \"overacted\", \"entertainment\", \"There\", \"Of\", \"would\", \"indeed\", \"leave\", \"masterpiece:)\", \"matters\", \"achievement\", \"comments.....\", \"Its\", \"send.\", \"speechless.\", \"which\", \"Millennial\", \"Year*\", \"Phoenix*\", \"Actor\", \"-\", \"proper\", \"bad!\", \"serious,\", \"supposed\", \"garbage.\", \"*Movie\", \"tense...\", \"wasnt\", \"message\", \"what\", \"reason\", \"made.\", \"Masterpiece\", \"me\", \"movie\", \"this\", \"it\", \"in\", \"is\", \"for\", \"and\", \"a\", \"The\", \"to\", \"of\", \"the\", \"Joaquin\", \"This\", \"Joker\", \"best\", \"boring\", \"many\", \"has\", \"And\", \"great.\", \"Incredible\", \"he\", \"His\", \"dealt\", \"does\", \"Thats\", \"stellar\", \"realistic\", \"portrayal\", \"gripping.\", \"overload.\", \"masterpiece\", \"technical\", \"well.\", \"10s.\", \"Way\", \"Emotions\", \"Terrible\", \"Joker.\", \"Depressive\", \"Standalone\", \"Mental\", \"haunting\", \"guys!!!\", \"score.\", \"killed\", \"directing\", \"stars!\", \"Worthy.\", \"5\", \"Phoenix\", \"Joaquin\", \"film\", \"acting\", \"and\", \"it.\", \"so\", \"is\", \"was\", \"This\", \"by\", \"a\", \"with\", \"of\", \"the\", \"The\", \"great\", \"Joker\", \"makes\", \"it\", \"Great\", \"-\", \"many\", \"they\", \"Heath\", \"everybody\", \"Possibly\", \"outdone\", \"10\", \"Movie\", \"Miserable\", \"than\", \"Ledger\", \"mind\", \"build\", \"him\", \"here\", \"blowing!\", \"Loved\", \"creativity\", \"Slog\", \"feelings\", \"film,\", \"mixed\", \"embodied\", \"Creative\", \"Unpleasant\", \"Nice\", \"Disturbing\", \"Horrible\", \"R\", \"rated\", \"Gloomy\", \"but\", \"Ive\", \"about\", \"the\", \"Joaquin\", \"of\", \"a\", \"The\", \"actor\", \"Nothing\", \"has\", \"role\", \"in\", \"by\", \"more\", \"performance\", \"film\", \"Joker\", \"deserves\", \",\", \"story\", \"got\", \"What\", \"can\", \"wouldnt\", \"perfectly\", \"paced,\", \"dialogued\", \"change\", \"acted.\", \"WANT\", \"SEQUELS!\", \"phoenix\", \"oscar\", \"joaquin\", \"i\", \"thing.\", \"That\", \"Overrated\", \"badly\", \"directed\", \"misleading\", \"title\", \"do\", \"nothing\", \"Film\", \"job,\", \"did\", \"second\", \"first\", \"overall\", \"half\", \"better.\", \"a\", \"with\", \"I\", \"the\", \"The\", \"was\", \"and\", \"is\", \"And\", \"best\", \"see\", \"will\", \"Absolutely\", \"Do\", \"nor\", \"Visionary.\", \"book\", \"comic\", \"villain\", \"torturing\", \"mastery\", \"people.\", \"murdering\", \"Insult\", \"lead\", \"(mother)\", \"making..from\", \"Stop\", \"Movie!!\", \"Endgame\", \"Below\", \"Hyped\", \"critics.\", \"listen\", \"comparing\", \"Average,\", \"Over\", \"real\", \"wow\", \"asleep\", \"fell\", \"Great\", \"Dont\", \"to\", \"all\", \"It\", \"children\", \"not\", \"Todd\", \"Phillips\", \"in\", \"best\", \"time\", \"air.Think\", \"thrones\", \"breath\", \"driver\", \"fresh\", \"acting.\", \"awarded\", \"game\", \"heath\", \"ledgers\", \"if\", \"soundtrack\", \"taxi\", \"stop\", \"tremendous\", \"Deserves\", \"Oscar...\", \"Disappointing\", \"will\", \"Wow\", \"watching\", \"his\", \"like\", \"not\", \"joker\", \"movies\", \"Oscar\", \"A\", \"Phoenix\", \"Joker\", \"of\", \"Joaquin\", \"is\", \"for\", \"I\", \"a\", \"in\", \"with\"], \"Freq\": [18.0, 11.0, 25.0, 16.0, 5.0, 9.0, 11.0, 6.0, 3.0, 10.0, 7.0, 31.0, 25.0, 10.0, 3.0, 3.0, 7.0, 19.0, 4.0, 4.0, 4.0, 3.0, 3.0, 2.0, 2.0, 2.0, 2.0, 6.0, 2.0, 6.0, 1.6586575508117676, 1.658657431602478, 1.6586579084396362, 0.86882084608078, 0.8688207268714905, 0.8688207268714905, 0.8688207268714905, 0.8688207268714905, 0.8688207268714905, 0.8688207268714905, 0.8688207268714905, 0.8688207268714905, 0.86882084608078, 0.8688207268714905, 0.8688207268714905, 0.8688207268714905, 0.8688206076622009, 0.8688206076622009, 0.8688206076622009, 0.8688207268714905, 0.8688207268714905, 0.8688207268714905, 0.8688207268714905, 0.8688207268714905, 0.8688206076622009, 0.8688207268714905, 0.8688207268714905, 0.8688207268714905, 0.8688207268714905, 0.8688207268714905, 0.8688207268714905, 0.8688207268714905, 0.8688207268714905, 0.8688207268714905, 0.86882084608078, 0.8688207268714905, 0.8688207268714905, 0.8688207268714905, 0.8688207268714905, 0.86882084608078, 0.8688207268714905, 0.8688207268714905, 0.8688204884529114, 0.8688204884529114, 0.8688204884529114, 0.8688207268714905, 0.8688207268714905, 0.8688207268714905, 0.86882084608078, 0.8688204884529114, 0.8688206076622009, 1.6586579084396362, 1.6586579084396362, 1.6564702987670898, 11.130232810974121, 7.189121246337891, 4.816648483276367, 9.555665016174316, 7.9770002365112305, 1.657179594039917, 1.658659815788269, 1.6584982872009277, 1.6586593389511108, 3.2405595779418945, 2.4471611976623535, 1.6586583852767944, 1.661201000213623, 3.2415802478790283, 1.658658742904663, 4.041254997253418, 2.449246644973755, 1.6553709506988525, 1.6586583852767944, 1.6580865383148193, 2.454655408859253, 0.8688207268714905, 1.6643112897872925, 1.659220814704895, 0.87250155210495, 1.532931923866272, 1.5313694477081299, 0.8034231066703796, 0.8034231066703796, 0.8034231066703796, 0.8034231066703796, 0.8034231066703796, 0.8034231066703796, 0.8034231066703796, 0.8034231066703796, 0.8034231066703796, 0.8034231066703796, 0.8034231066703796, 0.8034231066703796, 0.8034231066703796, 0.8034230470657349, 0.8034229278564453, 0.8034230470657349, 0.8034229278564453, 0.8034229278564453, 0.8034230470657349, 0.8034230470657349, 0.8034230470657349, 0.8034230470657349, 0.8034230470657349, 0.8034230470657349, 0.8034229278564453, 0.8034229278564453, 0.8034230470657349, 0.8034230470657349, 0.8034229278564453, 0.8034230470657349, 0.8034230470657349, 1.5338075160980225, 0.8034229278564453, 1.5227020978927612, 1.5333954095840454, 5.902796745300293, 4.443758010864258, 2.988776922225952, 5.179764270782471, 1.5338070392608643, 2.2479758262634277, 1.5338075160980225, 1.5291484594345093, 2.9938812255859375, 1.5338077545166016, 1.5202081203460693, 2.224247694015503, 1.5324336290359497, 0.8034225702285767, 0.8047666549682617, 0.8042516708374023, 0.8034230470657349, 0.8034230470657349, 1.524845004081726, 1.5248385667800903, 1.5239068269729614, 1.522261619567871, 0.7987335920333862, 0.7987337112426758, 0.7987337112426758, 0.7987337112426758, 0.7987335920333862, 0.7987337112426758, 0.7987337112426758, 0.7987335920333862, 0.7987337112426758, 0.7987337112426758, 0.7987337112426758, 0.7987337112426758, 0.7987337112426758, 0.7987337112426758, 0.7987337112426758, 0.7987335324287415, 0.7987334728240967, 0.7987238764762878, 0.7987216711044312, 0.7987216114997864, 0.7987212538719177, 0.7987201809883118, 0.798719048500061, 0.7987191081047058, 0.7983561754226685, 0.7982814908027649, 1.5242931842803955, 1.524842619895935, 2.2477710247039795, 2.250957727432251, 5.143119812011719, 2.9694020748138428, 3.700631856918335, 1.5248433351516724, 5.1521501541137695, 2.247652769088745, 1.5248448848724365, 2.250208854675293, 2.250239372253418, 1.524855136871338, 1.5256824493408203, 2.2517359256744385, 2.2483415603637695, 2.246913433074951, 1.5223190784454346, 2.2476303577423096, 2.245781898498535, 0.7993581891059875, 0.7987337112426758, 0.7987335920333862, 0.7987337112426758, 1.4917755126953125, 2.2048354148864746, 0.7823609709739685, 0.7823609709739685, 0.7823609709739685, 0.7823609709739685, 0.7823609709739685, 0.7823609709739685, 0.7823609709739685, 0.7823609709739685, 0.7823609709739685, 0.782360851764679, 0.782360851764679, 0.7823607921600342, 0.782360851764679, 0.7823607921600342, 0.782360851764679, 0.782360851764679, 0.782360851764679, 0.7823607921600342, 0.7823607325553894, 0.7823606133460999, 0.7823606133460999, 0.7823604345321655, 0.7823604345321655, 0.7823590636253357, 0.7817853689193726, 0.7817727327346802, 0.7817423343658447, 0.7817193269729614, 1.493598222732544, 1.4915813207626343, 1.493598222732544, 1.4935981035232544, 1.4918841123580933, 2.2048375606536865, 4.335610866546631, 3.625410318374634, 1.4913480281829834, 1.4921143054962158, 1.493598222732544, 4.3422112464904785, 3.6290721893310547, 3.6289803981781006, 1.4890862703323364, 2.9193193912506104, 2.2074148654937744, 1.4967275857925415, 1.491312861442566, 1.4897922277450562, 0.7911679148674011, 0.7836052775382996, 0.7823625206947327, 1.4475516080856323, 1.447551965713501, 1.447551965713501, 1.4475517272949219, 1.4473369121551514, 0.7582415342330933, 0.7582415342330933, 0.7582414150238037, 0.7582414150238037, 0.7582414150238037, 0.7582414150238037, 0.7582413554191589, 0.7582413554191589, 0.7582414150238037, 0.7582413554191589, 0.7582414150238037, 0.7582414150238037, 0.7582414150238037, 0.7582414150238037, 0.7582414150238037, 0.7582413554191589, 0.7582413554191589, 0.7582414150238037, 0.7582414150238037, 0.7582414150238037, 0.7582414150238037, 0.7582414150238037, 0.7582414150238037, 0.7582414150238037, 0.7582414150238037, 1.4475517272949219, 0.7582414150238037, 0.7582412958145142, 0.7582412958145142, 0.7582414150238037, 0.7582411766052246, 0.7582414150238037, 0.7582412958145142, 0.7582411766052246, 0.7582414150238037, 2.1375932693481445, 0.7582414150238037, 0.7582414150238037, 1.4432487487792969, 0.7582411766052246, 4.206692695617676, 2.826188564300537, 2.1376357078552246, 2.1367549896240234, 3.517420768737793, 2.1368768215179443, 2.8273890018463135, 2.827491283416748, 1.4482572078704834, 1.4475514888763428, 1.4489825963974, 0.7599489092826843, 0.7598806619644165, 0.7598565816879272, 0.7591603398323059, 0.7582593560218811, 0.7582415342330933, 0.7582415342330933, 0.7582415342330933, 0.7582415342330933, 1.3724758625030518, 1.3700824975967407, 0.7189159393310547, 0.7189159393310547, 0.7189159393310547, 0.7189159393310547, 0.7189159393310547, 0.7189159393310547, 0.7189159393310547, 0.7189159393310547, 0.7189159393310547, 0.7189159393310547, 0.7189159393310547, 0.7189159393310547, 0.7189159393310547, 0.7189159393310547, 0.7189159393310547, 0.7189159393310547, 0.7189158201217651, 0.7189157009124756, 0.7189154624938965, 0.7177574038505554, 0.7174649834632874, 0.7173575758934021, 0.7173391580581665, 0.7172018885612488, 0.7170666456222534, 0.7170591354370117, 0.7170401811599731, 0.7168245911598206, 1.3687742948532104, 2.026035785675049, 2.6766269207000732, 1.3707501888275146, 2.0261054039001465, 3.9842238426208496, 1.3703287839889526, 1.3703726530075073, 2.6795902252197266, 2.026470184326172, 1.3714832067489624, 1.3724751472473145, 2.6779727935791016, 1.3729500770568848, 2.0259063243865967, 1.3727867603302002, 0.7204164862632751, 0.7203876972198486, 0.7193983197212219, 0.7193787693977356, 0.7192893028259277, 0.7189158201217651, 0.7189157009124756, 0.7189159393310547, 0.6645910143852234, 0.6645910143852234, 0.6645910143852234, 0.6645910143852234, 0.6645910143852234, 0.6645911335945129, 0.6645910143852234, 0.6645910143852234, 0.6645911335945129, 0.6645910143852234, 0.6645910143852234, 0.6645910143852234, 0.6645910143852234, 0.6645910143852234, 0.6645910143852234, 0.6645910143852234, 0.6645911335945129, 0.6645910143852234, 0.6645909547805786, 0.6645909547805786, 0.6645909547805786, 0.6645911335945129, 0.6645911335945129, 0.6645910143852234, 0.6645908951759338, 0.6624931693077087, 0.6623674035072327, 0.6622512936592102, 0.6622388958930969, 0.6620742082595825, 1.8729381561279297, 1.268764615058899, 1.2687644958496094, 3.083235502243042, 1.2687649726867676, 1.2687638998031616, 1.2729285955429077, 0.6679840087890625, 0.6666180491447449, 0.6665627956390381, 0.6645911335945129, 0.6645911335945129, 0.6645911335945129, 0.6645911335945129, 0.6645911335945129, 0.6645911335945129, 0.6645911931991577, 0.6645911931991577, 0.6645911335945129, 0.6645910143852234, 0.6645908951759338, 0.6645908951759338, 0.6645910143852234, 0.6246107816696167, 0.6246107816696167, 0.6246107816696167, 0.6246107816696167, 0.6246107816696167, 0.6246107816696167, 0.6246107816696167, 0.6246107816696167, 0.6246107816696167, 0.6246107816696167, 0.6246107816696167, 0.6246107816696167, 0.6246107816696167, 0.6246107816696167, 0.6246107816696167, 0.6246107816696167, 0.6246107220649719, 0.6246107816696167, 0.6246107220649719, 0.6246107816696167, 0.6237887740135193, 0.6234945058822632, 0.6234704852104187, 0.6223787069320679, 0.6223225593566895, 0.6222853660583496, 0.6222363114356995, 0.6221798062324524, 0.6221714019775391, 0.6221232414245605, 2.3239593505859375, 1.1917240619659424, 1.7619633674621582, 1.7567050457000732, 1.1882026195526123, 1.1877360343933105, 1.1924375295639038, 0.6252434253692627, 0.6246107816696167, 0.6246108412742615, 0.6246107816696167, 0.6246107816696167, 0.6246107816696167, 0.5448638200759888, 0.544863760471344, 0.5448638200759888, 0.544863760471344, 0.5448638200759888, 0.5448638200759888, 0.5448638200759888, 0.5448638200759888, 0.544863760471344, 0.5448638200759888, 0.544863760471344, 0.5448638200759888, 0.5448638200759888, 0.5448638200759888, 0.5448637008666992, 0.544863760471344, 0.5448637008666992, 0.5448637008666992, 0.5448637008666992, 0.544863760471344, 0.5448637008666992, 0.5448636412620544, 0.5448635220527649, 0.5448637008666992, 0.5448635220527649, 0.5448635220527649, 0.5448632836341858, 0.5448631644248962, 0.5448637008666992, 0.5448637008666992, 2.030855894088745, 0.5448637008666992, 0.5448638200759888, 0.544863760471344, 0.544863760471344, 0.5448637008666992, 0.5448638200759888, 0.5448638200759888, 0.5448638200759888, 0.5448637008666992, 0.46185198426246643, 0.46185198426246643, 0.46185198426246643, 0.46185198426246643, 0.46185198426246643, 0.46185198426246643, 0.46185198426246643, 0.46185198426246643, 0.46185198426246643, 0.46185198426246643, 0.46185198426246643, 0.46185198426246643, 0.46185198426246643, 0.46185198426246643, 0.46185198426246643, 0.4618518352508545, 0.4618518352508545, 0.46185076236724854, 0.46185198426246643, 0.4618518650531769, 0.46185198426246643, 0.46185198426246643, 0.46185198426246643, 0.5227072238922119, 0.46185198426246643, 0.46185198426246643, 0.532271683216095, 0.46185198426246643, 0.5247861742973328, 0.5347523093223572, 0.8880755305290222, 0.5370420217514038, 0.48397913575172424, 0.47043177485466003, 0.4664069414138794, 0.46185192465782166, 0.4618520140647888, 0.4618520140647888], \"Total\": [18.0, 11.0, 25.0, 16.0, 5.0, 9.0, 11.0, 6.0, 3.0, 10.0, 7.0, 31.0, 25.0, 10.0, 3.0, 3.0, 7.0, 19.0, 4.0, 4.0, 4.0, 3.0, 3.0, 2.0, 2.0, 2.0, 2.0, 6.0, 2.0, 6.0, 2.2184388637542725, 2.2184388637542725, 2.6383049488067627, 1.4286023378372192, 1.4286022186279297, 1.4286022186279297, 1.4286022186279297, 1.4286022186279297, 1.4286022186279297, 1.4286022186279297, 1.4286022186279297, 1.4286022186279297, 1.4286023378372192, 1.4286022186279297, 1.4286022186279297, 1.4286022186279297, 1.4286020994186401, 1.4286020994186401, 1.4286020994186401, 1.4286022186279297, 1.4286022186279297, 1.4286022186279297, 1.4286022186279297, 1.4286022186279297, 1.4286020994186401, 1.4286022186279297, 1.4286022186279297, 1.4286022186279297, 1.4286022186279297, 1.4286022186279297, 1.4286022186279297, 1.4286022186279297, 1.4286022186279297, 1.4286022186279297, 1.4286023378372192, 1.4286022186279297, 1.4286022186279297, 1.4286022186279297, 1.4286022186279297, 1.4286023378372192, 1.4286022186279297, 1.4286022186279297, 1.4286019802093506, 1.4286019802093506, 1.4286019802093506, 1.4286022186279297, 1.4286022186279297, 1.4286022186279297, 1.4286023378372192, 1.4286019802093506, 1.4286020994186401, 2.9445600509643555, 2.9488234519958496, 2.948545217514038, 25.849185943603516, 18.561246871948242, 11.878579139709473, 31.793264389038086, 25.28109359741211, 3.4395649433135986, 3.444154739379883, 3.5830910205841064, 3.6189873218536377, 10.91224193572998, 7.503974437713623, 4.174539089202881, 4.252120018005371, 16.50246810913086, 4.801785469055176, 25.916301727294922, 10.3815336227417, 4.895727157592773, 5.59050178527832, 6.265822887420654, 19.28178596496582, 1.4286022186279297, 10.492259979248047, 11.222654342651367, 5.574044704437256, 2.09944748878479, 2.0993330478668213, 1.3691498041152954, 1.3691498041152954, 1.3691498041152954, 1.3691498041152954, 1.3691498041152954, 1.3691498041152954, 1.3691498041152954, 1.3691498041152954, 1.3691498041152954, 1.3691498041152954, 1.3691498041152954, 1.3691498041152954, 1.3691498041152954, 1.3691498041152954, 1.3691496849060059, 1.3691498041152954, 1.3691496849060059, 1.3691496849060059, 1.3691498041152954, 1.3691498041152954, 1.3691498041152954, 1.3691498041152954, 1.3691498041152954, 1.3691498041152954, 1.3691496849060059, 1.3691496849060059, 1.3691498041152954, 1.3691498041152954, 1.3691496849060059, 1.3691498041152954, 1.3691498041152954, 2.825655698776245, 1.3691496849060059, 2.8209354877471924, 3.3789796829223633, 25.28109359741211, 18.561246871948242, 10.91224193572998, 31.793264389038086, 4.174539089202881, 10.492259979248047, 5.59050178527832, 5.710853576660156, 25.916301727294922, 6.891324996948242, 6.81442403793335, 19.28178596496582, 11.222654342651367, 1.3691494464874268, 11.878579139709473, 4.854006290435791, 2.058478593826294, 1.8644806146621704, 2.0910074710845947, 2.0910072326660156, 2.5108542442321777, 2.5108206272125244, 1.3648866415023804, 1.36488676071167, 1.36488676071167, 1.36488676071167, 1.3648866415023804, 1.36488676071167, 1.36488676071167, 1.3648866415023804, 1.36488676071167, 1.36488676071167, 1.36488676071167, 1.36488676071167, 1.36488676071167, 1.36488676071167, 1.36488676071167, 1.3648866415023804, 1.3648866415023804, 1.3648861646652222, 1.3648861646652222, 1.3648861646652222, 1.3648861646652222, 1.3648860454559326, 1.3648860454559326, 1.3648860454559326, 1.3648790121078491, 1.364877462387085, 2.880833864212036, 3.3486123085021973, 5.8814496994018555, 6.81442403793335, 25.916301727294922, 11.222654342651367, 16.50246810913086, 3.9526240825653076, 31.793264389038086, 9.135441780090332, 4.801785469055176, 10.3815336227417, 10.492259979248047, 4.870165824890137, 4.895727157592773, 11.878579139709473, 18.561246871948242, 19.28178596496582, 7.890434741973877, 25.28109359741211, 25.849185943603516, 5.574044704437256, 2.825655698776245, 2.8209354877471924, 1.9690604209899902, 2.061440944671631, 3.376650810241699, 1.350002408027649, 1.3500025272369385, 1.350002408027649, 1.350002408027649, 1.350002408027649, 1.350002408027649, 1.350002408027649, 1.3500025272369385, 1.350002408027649, 1.350002408027649, 1.350002408027649, 1.3500022888183594, 1.350002408027649, 1.3500022888183594, 1.350002408027649, 1.350002408027649, 1.350002408027649, 1.350002408027649, 1.3500022888183594, 1.3500022888183594, 1.3500022888183594, 1.3500022888183594, 1.3500021696090698, 1.3500020503997803, 1.3499847650527954, 1.3499844074249268, 1.3499833345413208, 1.349982738494873, 2.6654131412506104, 2.715360164642334, 2.787360429763794, 3.270942449569702, 3.2856714725494385, 5.710853576660156, 19.28178596496582, 16.50246810913086, 4.059426784515381, 4.081009387969971, 4.14457893371582, 31.793264389038086, 25.849185943603516, 25.916301727294922, 5.574044704437256, 25.28109359741211, 18.561246871948242, 7.890434741973877, 10.3815336227417, 10.492259979248047, 11.222654342651367, 9.135441780090332, 2.078441619873047, 2.017385721206665, 2.0173861980438232, 2.017385959625244, 2.017385959625244, 2.0174174308776855, 1.328075647354126, 1.328075647354126, 1.3280755281448364, 1.3280755281448364, 1.3280755281448364, 1.3280755281448364, 1.3280755281448364, 1.3280755281448364, 1.3280755281448364, 1.3280755281448364, 1.3280755281448364, 1.3280755281448364, 1.3280755281448364, 1.3280755281448364, 1.3280755281448364, 1.3280755281448364, 1.3280755281448364, 1.3280755281448364, 1.3280755281448364, 1.3280755281448364, 1.3280755281448364, 1.328075647354126, 1.328075647354126, 1.328075647354126, 1.328075647354126, 2.6709461212158203, 1.328075647354126, 1.3280755281448364, 1.3280755281448364, 1.328075647354126, 1.3280754089355469, 1.328075647354126, 1.3280755281448364, 1.3280754089355469, 1.328075647354126, 4.870165824890137, 1.328075647354126, 1.328075647354126, 3.400670289993286, 1.3280754089355469, 16.50246810913086, 10.91224193572998, 7.503974437713623, 7.890434741973877, 19.28178596496582, 10.492259979248047, 25.849185943603516, 25.916301727294922, 10.3815336227417, 11.222654342651367, 25.28109359741211, 31.793264389038086, 9.135441780090332, 5.574044704437256, 6.246428966522217, 6.81442403793335, 1.896208643913269, 1.981635570526123, 4.081009387969971, 1.8959035873413086, 1.945885181427002, 1.9463839530944824, 1.2923251390457153, 1.2923251390457153, 1.2923251390457153, 1.2923251390457153, 1.2923251390457153, 1.2923251390457153, 1.2923251390457153, 1.2923251390457153, 1.2923251390457153, 1.2923251390457153, 1.2923251390457153, 1.2923251390457153, 1.2923251390457153, 1.2923251390457153, 1.2923251390457153, 1.2923251390457153, 1.2923251390457153, 1.2923250198364258, 1.2923250198364258, 1.2923885583877563, 1.2926276922225952, 1.2926499843597412, 1.2926537990570068, 1.2926825284957886, 1.292710781097412, 1.2927124500274658, 1.2927162647247314, 1.2924394607543945, 2.6578941345214844, 5.8814496994018555, 9.135441780090332, 3.6135778427124023, 6.891324996948242, 25.849185943603516, 4.0663981437683105, 4.252120018005371, 19.28178596496582, 11.878579139709473, 5.574044704437256, 5.59050178527832, 25.916301727294922, 6.265822887420654, 25.28109359741211, 31.793264389038086, 10.3815336227417, 3.5830910205841064, 6.246428966522217, 2.081878423690796, 7.503974437713623, 1.7876558303833008, 2.6709461212158203, 1.981635570526123, 1.242938756942749, 1.242938756942749, 1.242938756942749, 1.242938756942749, 1.242938756942749, 1.2429388761520386, 1.242938756942749, 1.242938756942749, 1.2429388761520386, 1.242938756942749, 1.242938756942749, 1.242938756942749, 1.242938756942749, 1.242938756942749, 1.242938756942749, 1.242938756942749, 1.2429389953613281, 1.2429388761520386, 1.242938756942749, 1.242938756942749, 1.242938756942749, 1.2429389953613281, 1.2429389953613281, 1.2429388761520386, 1.2429388761520386, 1.2428126335144043, 1.2428051233291626, 1.242798089981079, 1.2427973747253418, 1.2427873611450195, 3.7495715618133545, 2.5364439487457275, 4.059426784515381, 31.793264389038086, 9.135441780090332, 25.28109359741211, 25.916301727294922, 10.3815336227417, 3.9526240825653076, 1.811039924621582, 4.081009387969971, 1.969059705734253, 7.890434741973877, 5.59050178527832, 1.9690442085266113, 3.8461599349975586, 3.6135778427124023, 6.246428966522217, 2.6805098056793213, 1.9322705268859863, 1.9543898105621338, 2.03277587890625, 1.9733233451843262, 1.2065931558609009, 1.2065931558609009, 1.2065931558609009, 1.2065931558609009, 1.2065931558609009, 1.2065931558609009, 1.2065931558609009, 1.2065931558609009, 1.2065931558609009, 1.2065931558609009, 1.2065931558609009, 1.2065931558609009, 1.2065931558609009, 1.2065931558609009, 1.2065931558609009, 1.2065931558609009, 1.2065931558609009, 1.2065931558609009, 1.2065931558609009, 1.2065931558609009, 1.2068222761154175, 1.2069042921066284, 1.2069109678268433, 1.2068792581558228, 1.2068885564804077, 1.2068488597869873, 1.2068939208984375, 1.2068735361099243, 1.2068754434585571, 1.2069090604782104, 25.916301727294922, 6.265822887420654, 18.561246871948242, 31.793264389038086, 10.3815336227417, 11.878579139709473, 25.849185943603516, 19.28178596496582, 1.8959035873413086, 6.81442403793335, 1.9964301586151123, 1.6264585256576538, 2.571359395980835, 1.1340957880020142, 1.1340957880020142, 1.1340957880020142, 1.1340957880020142, 1.1340957880020142, 1.1340957880020142, 1.1340959072113037, 1.1340957880020142, 1.1340957880020142, 1.1340959072113037, 1.1340957880020142, 1.1340959072113037, 1.1340959072113037, 1.1340957880020142, 1.1340959072113037, 1.1340959072113037, 1.1340957880020142, 1.1340959072113037, 1.1340959072113037, 1.1340959072113037, 1.1340959072113037, 1.1340959072113037, 1.1340957880020142, 1.1340960264205933, 1.1340959072113037, 1.1340960264205933, 1.1340959072113037, 1.1340960264205933, 1.7876558303833008, 1.8234062194824219, 11.222654342651367, 4.174539089202881, 3.2856714725494385, 1.8454924821853638, 3.0291764736175537, 3.4395649433135986, 2.649643898010254, 7.890434741973877, 6.81442403793335, 3.444154739379883, 1.0586304664611816, 1.0586304664611816, 1.0586304664611816, 1.0586304664611816, 1.0586304664611816, 1.0586304664611816, 1.0586305856704712, 1.0586304664611816, 1.0586304664611816, 1.0586304664611816, 1.0586304664611816, 1.0586304664611816, 1.0586304664611816, 1.0586304664611816, 1.0586304664611816, 1.0586307048797607, 1.0586307048797607, 1.058631181716919, 1.6264585256576538, 2.24328875541687, 2.5108206272125244, 2.5108542442321777, 2.6383049488067627, 3.0291764736175537, 2.9913313388824463, 3.270942449569702, 3.8919105529785156, 4.801785469055176, 5.8814496994018555, 6.246428966522217, 25.28109359741211, 9.135441780090332, 19.28178596496582, 10.492259979248047, 18.561246871948242, 25.916301727294922, 7.890434741973877, 6.265822887420654], \"Category\": [\"Default\", \"Default\", \"Default\", \"Default\", \"Default\", \"Default\", \"Default\", \"Default\", \"Default\", \"Default\", \"Default\", \"Default\", \"Default\", \"Default\", \"Default\", \"Default\", \"Default\", \"Default\", \"Default\", \"Default\", \"Default\", \"Default\", \"Default\", \"Default\", \"Default\", \"Default\", \"Default\", \"Default\", \"Default\", \"Default\", \"Topic1\", \"Topic1\", \"Topic1\", \"Topic1\", \"Topic1\", \"Topic1\", \"Topic1\", \"Topic1\", \"Topic1\", \"Topic1\", \"Topic1\", \"Topic1\", \"Topic1\", \"Topic1\", \"Topic1\", \"Topic1\", \"Topic1\", \"Topic1\", \"Topic1\", \"Topic1\", \"Topic1\", \"Topic1\", \"Topic1\", \"Topic1\", \"Topic1\", \"Topic1\", \"Topic1\", \"Topic1\", \"Topic1\", \"Topic1\", \"Topic1\", \"Topic1\", \"Topic1\", \"Topic1\", \"Topic1\", \"Topic1\", \"Topic1\", \"Topic1\", \"Topic1\", \"Topic1\", \"Topic1\", \"Topic1\", \"Topic1\", \"Topic1\", \"Topic1\", \"Topic1\", \"Topic1\", \"Topic1\", \"Topic1\", \"Topic1\", \"Topic1\", \"Topic1\", \"Topic1\", \"Topic1\", \"Topic1\", \"Topic1\", \"Topic1\", \"Topic1\", \"Topic1\", \"Topic1\", \"Topic1\", \"Topic1\", \"Topic1\", \"Topic1\", \"Topic1\", \"Topic1\", \"Topic1\", \"Topic1\", \"Topic1\", \"Topic1\", \"Topic1\", \"Topic1\", \"Topic1\", \"Topic1\", \"Topic1\", \"Topic1\", \"Topic1\", \"Topic1\", \"Topic1\", \"Topic2\", \"Topic2\", \"Topic2\", \"Topic2\", \"Topic2\", \"Topic2\", \"Topic2\", \"Topic2\", \"Topic2\", \"Topic2\", \"Topic2\", \"Topic2\", \"Topic2\", \"Topic2\", \"Topic2\", \"Topic2\", \"Topic2\", \"Topic2\", \"Topic2\", \"Topic2\", \"Topic2\", \"Topic2\", \"Topic2\", \"Topic2\", \"Topic2\", \"Topic2\", \"Topic2\", \"Topic2\", \"Topic2\", \"Topic2\", \"Topic2\", \"Topic2\", \"Topic2\", \"Topic2\", \"Topic2\", \"Topic2\", \"Topic2\", \"Topic2\", \"Topic2\", \"Topic2\", \"Topic2\", \"Topic2\", \"Topic2\", \"Topic2\", \"Topic2\", \"Topic2\", \"Topic2\", \"Topic2\", \"Topic2\", \"Topic2\", \"Topic2\", \"Topic2\", \"Topic2\", \"Topic2\", \"Topic2\", \"Topic3\", \"Topic3\", \"Topic3\", \"Topic3\", \"Topic3\", \"Topic3\", \"Topic3\", \"Topic3\", \"Topic3\", \"Topic3\", \"Topic3\", \"Topic3\", \"Topic3\", \"Topic3\", \"Topic3\", \"Topic3\", \"Topic3\", \"Topic3\", \"Topic3\", \"Topic3\", \"Topic3\", \"Topic3\", \"Topic3\", \"Topic3\", \"Topic3\", \"Topic3\", \"Topic3\", \"Topic3\", \"Topic3\", \"Topic3\", \"Topic3\", \"Topic3\", \"Topic3\", \"Topic3\", \"Topic3\", \"Topic3\", \"Topic3\", \"Topic3\", \"Topic3\", \"Topic3\", \"Topic3\", \"Topic3\", \"Topic3\", \"Topic3\", \"Topic3\", \"Topic3\", \"Topic3\", \"Topic3\", \"Topic3\", \"Topic3\", \"Topic3\", \"Topic3\", \"Topic3\", \"Topic3\", \"Topic3\", \"Topic4\", \"Topic4\", \"Topic4\", \"Topic4\", \"Topic4\", \"Topic4\", \"Topic4\", \"Topic4\", \"Topic4\", \"Topic4\", \"Topic4\", \"Topic4\", \"Topic4\", \"Topic4\", \"Topic4\", \"Topic4\", \"Topic4\", \"Topic4\", \"Topic4\", \"Topic4\", \"Topic4\", \"Topic4\", \"Topic4\", \"Topic4\", \"Topic4\", \"Topic4\", \"Topic4\", \"Topic4\", \"Topic4\", \"Topic4\", \"Topic4\", \"Topic4\", \"Topic4\", \"Topic4\", \"Topic4\", \"Topic4\", \"Topic4\", \"Topic4\", \"Topic4\", \"Topic4\", \"Topic4\", \"Topic4\", \"Topic4\", \"Topic4\", \"Topic4\", \"Topic4\", \"Topic4\", \"Topic4\", \"Topic4\", \"Topic4\", \"Topic4\", \"Topic4\", \"Topic4\", \"Topic5\", \"Topic5\", \"Topic5\", \"Topic5\", \"Topic5\", \"Topic5\", \"Topic5\", \"Topic5\", \"Topic5\", \"Topic5\", \"Topic5\", \"Topic5\", \"Topic5\", \"Topic5\", \"Topic5\", \"Topic5\", \"Topic5\", \"Topic5\", \"Topic5\", \"Topic5\", \"Topic5\", \"Topic5\", \"Topic5\", \"Topic5\", \"Topic5\", \"Topic5\", \"Topic5\", \"Topic5\", \"Topic5\", \"Topic5\", \"Topic5\", \"Topic5\", \"Topic5\", \"Topic5\", \"Topic5\", \"Topic5\", \"Topic5\", \"Topic5\", \"Topic5\", \"Topic5\", \"Topic5\", \"Topic5\", \"Topic5\", \"Topic5\", \"Topic5\", \"Topic5\", \"Topic5\", \"Topic5\", \"Topic5\", \"Topic5\", \"Topic5\", \"Topic5\", \"Topic5\", \"Topic5\", \"Topic5\", \"Topic5\", \"Topic5\", \"Topic5\", \"Topic5\", \"Topic5\", \"Topic5\", \"Topic5\", \"Topic5\", \"Topic5\", \"Topic5\", \"Topic6\", \"Topic6\", \"Topic6\", \"Topic6\", \"Topic6\", \"Topic6\", \"Topic6\", \"Topic6\", \"Topic6\", \"Topic6\", \"Topic6\", \"Topic6\", \"Topic6\", \"Topic6\", \"Topic6\", \"Topic6\", \"Topic6\", \"Topic6\", \"Topic6\", \"Topic6\", \"Topic6\", \"Topic6\", \"Topic6\", \"Topic6\", \"Topic6\", \"Topic6\", \"Topic6\", \"Topic6\", \"Topic6\", \"Topic6\", \"Topic6\", \"Topic6\", \"Topic6\", \"Topic6\", \"Topic6\", \"Topic6\", \"Topic6\", \"Topic6\", \"Topic6\", \"Topic6\", \"Topic6\", \"Topic6\", \"Topic6\", \"Topic6\", \"Topic6\", \"Topic6\", \"Topic6\", \"Topic6\", \"Topic6\", \"Topic6\", \"Topic6\", \"Topic6\", \"Topic6\", \"Topic6\", \"Topic7\", \"Topic7\", \"Topic7\", \"Topic7\", \"Topic7\", \"Topic7\", \"Topic7\", \"Topic7\", \"Topic7\", \"Topic7\", \"Topic7\", \"Topic7\", \"Topic7\", \"Topic7\", \"Topic7\", \"Topic7\", \"Topic7\", \"Topic7\", \"Topic7\", \"Topic7\", \"Topic7\", \"Topic7\", \"Topic7\", \"Topic7\", \"Topic7\", \"Topic7\", \"Topic7\", \"Topic7\", \"Topic7\", \"Topic7\", \"Topic7\", \"Topic7\", \"Topic7\", \"Topic7\", \"Topic7\", \"Topic7\", \"Topic7\", \"Topic7\", \"Topic7\", \"Topic7\", \"Topic7\", \"Topic7\", \"Topic7\", \"Topic7\", \"Topic7\", \"Topic7\", \"Topic7\", \"Topic7\", \"Topic7\", \"Topic7\", \"Topic7\", \"Topic7\", \"Topic7\", \"Topic8\", \"Topic8\", \"Topic8\", \"Topic8\", \"Topic8\", \"Topic8\", \"Topic8\", \"Topic8\", \"Topic8\", \"Topic8\", \"Topic8\", \"Topic8\", \"Topic8\", \"Topic8\", \"Topic8\", \"Topic8\", \"Topic8\", \"Topic8\", \"Topic8\", \"Topic8\", \"Topic8\", \"Topic8\", \"Topic8\", \"Topic8\", \"Topic8\", \"Topic8\", \"Topic8\", \"Topic8\", \"Topic8\", \"Topic8\", \"Topic8\", \"Topic8\", \"Topic8\", \"Topic8\", \"Topic8\", \"Topic8\", \"Topic8\", \"Topic8\", \"Topic8\", \"Topic8\", \"Topic8\", \"Topic8\", \"Topic8\", \"Topic9\", \"Topic9\", \"Topic9\", \"Topic9\", \"Topic9\", \"Topic9\", \"Topic9\", \"Topic9\", \"Topic9\", \"Topic9\", \"Topic9\", \"Topic9\", \"Topic9\", \"Topic9\", \"Topic9\", \"Topic9\", \"Topic9\", \"Topic9\", \"Topic9\", \"Topic9\", \"Topic9\", \"Topic9\", \"Topic9\", \"Topic9\", \"Topic9\", \"Topic9\", \"Topic9\", \"Topic9\", \"Topic9\", \"Topic9\", \"Topic9\", \"Topic9\", \"Topic9\", \"Topic9\", \"Topic9\", \"Topic9\", \"Topic9\", \"Topic9\", \"Topic9\", \"Topic9\", \"Topic10\", \"Topic10\", \"Topic10\", \"Topic10\", \"Topic10\", \"Topic10\", \"Topic10\", \"Topic10\", \"Topic10\", \"Topic10\", \"Topic10\", \"Topic10\", \"Topic10\", \"Topic10\", \"Topic10\", \"Topic10\", \"Topic10\", \"Topic10\", \"Topic10\", \"Topic10\", \"Topic10\", \"Topic10\", \"Topic10\", \"Topic10\", \"Topic10\", \"Topic10\", \"Topic10\", \"Topic10\", \"Topic10\", \"Topic10\", \"Topic10\", \"Topic10\", \"Topic10\", \"Topic10\", \"Topic10\", \"Topic10\", \"Topic10\", \"Topic10\"], \"logprob\": [30.0, 29.0, 28.0, 27.0, 26.0, 25.0, 24.0, 23.0, 22.0, 21.0, 20.0, 19.0, 18.0, 17.0, 16.0, 15.0, 14.0, 13.0, 12.0, 11.0, 10.0, 9.0, 8.0, 7.0, 6.0, 5.0, 4.0, 3.0, 2.0, 1.0, -4.920100212097168, -4.920100212097168, -4.920100212097168, -5.566699981689453, -5.566699981689453, -5.566699981689453, -5.566699981689453, -5.566699981689453, -5.566699981689453, -5.566699981689453, -5.566699981689453, -5.566699981689453, -5.566699981689453, -5.566699981689453, -5.566699981689453, -5.566699981689453, -5.566699981689453, -5.566699981689453, -5.566699981689453, -5.566699981689453, -5.566699981689453, -5.566699981689453, -5.566699981689453, -5.566699981689453, -5.566699981689453, -5.566699981689453, -5.566699981689453, -5.566699981689453, -5.566699981689453, -5.566699981689453, -5.566699981689453, -5.566699981689453, -5.566699981689453, -5.566699981689453, -5.566699981689453, -5.566699981689453, -5.566699981689453, -5.566699981689453, -5.566699981689453, -5.566699981689453, -5.566699981689453, -5.566699981689453, -5.566699981689453, -5.566699981689453, -5.566699981689453, -5.566699981689453, -5.566699981689453, -5.566699981689453, -5.566699981689453, -5.566699981689453, -5.566699981689453, -4.920100212097168, -4.920100212097168, -4.92140007019043, -3.016400098800659, -3.4535000324249268, -3.8540000915527344, -3.1689000129699707, -3.3494999408721924, -4.921000003814697, -4.920100212097168, -4.920199871063232, -4.920100212097168, -4.25029993057251, -4.531099796295166, -4.920100212097168, -4.918499946594238, -4.25, -4.920100212097168, -4.0295000076293945, -4.530300140380859, -4.921999931335449, -4.920100212097168, -4.920400142669678, -4.52810001373291, -5.566699981689453, -4.9166998863220215, -4.9197001457214355, -5.5625, -4.6128997802734375, -4.613900184631348, -5.258999824523926, -5.258999824523926, -5.258999824523926, -5.258999824523926, -5.258999824523926, -5.258999824523926, -5.258999824523926, -5.258999824523926, -5.258999824523926, -5.258999824523926, -5.258999824523926, -5.258999824523926, -5.258999824523926, -5.258999824523926, -5.258999824523926, -5.258999824523926, -5.258999824523926, -5.258999824523926, -5.258999824523926, -5.258999824523926, -5.258999824523926, -5.258999824523926, -5.258999824523926, -5.258999824523926, -5.258999824523926, -5.258999824523926, -5.258999824523926, -5.258999824523926, -5.258999824523926, -5.258999824523926, -5.258999824523926, -4.612299919128418, -5.258999824523926, -4.61959981918335, -4.612599849700928, -3.264699935913086, -3.5485999584198, -3.945199966430664, -3.3952999114990234, -4.612299919128418, -4.230000019073486, -4.612299919128418, -4.6153998374938965, -3.94350004196167, -4.612299919128418, -4.621200084686279, -4.240699768066406, -4.6132001876831055, -5.258999824523926, -5.257299900054932, -5.257900238037109, -5.258999824523926, -5.258999824523926, -4.607399940490723, -4.607399940490723, -4.607999801635742, -4.609099864959717, -5.254000186920166, -5.254000186920166, -5.254000186920166, -5.254000186920166, -5.254000186920166, -5.254000186920166, -5.254000186920166, -5.254000186920166, -5.254000186920166, -5.254000186920166, -5.254000186920166, -5.254000186920166, -5.254000186920166, -5.254000186920166, -5.254000186920166, -5.254000186920166, -5.254000186920166, -5.254000186920166, -5.254000186920166, -5.254000186920166, -5.254000186920166, -5.2540998458862305, -5.2540998458862305, -5.2540998458862305, -5.254499912261963, -5.2546000480651855, -4.607800006866455, -4.607399940490723, -4.219399929046631, -4.2179999351501465, -3.3915998935699463, -3.9409000873565674, -3.7207999229431152, -4.607399940490723, -3.389899969100952, -4.219399929046631, -4.607399940490723, -4.218299865722656, -4.218299865722656, -4.607399940490723, -4.606900215148926, -4.217599868774414, -4.219099998474121, -4.219699859619141, -4.609099864959717, -4.219399929046631, -4.220300197601318, -5.253300189971924, -5.254000186920166, -5.254000186920166, -5.254000186920166, -4.5605998039245605, -4.169899940490723, -5.205999851226807, -5.205999851226807, -5.205999851226807, -5.205999851226807, -5.205999851226807, -5.205999851226807, -5.205999851226807, -5.205999851226807, -5.205999851226807, -5.205999851226807, -5.205999851226807, -5.205999851226807, -5.205999851226807, -5.205999851226807, -5.205999851226807, -5.205999851226807, -5.205999851226807, -5.205999851226807, -5.205999851226807, -5.205999851226807, -5.205999851226807, -5.205999851226807, -5.205999851226807, -5.205999851226807, -5.2067999839782715, -5.2067999839782715, -5.2067999839782715, -5.206900119781494, -4.5594000816345215, -4.560800075531006, -4.5594000816345215, -4.5594000816345215, -4.5605998039245605, -4.169899940490723, -3.4937000274658203, -3.672600030899048, -4.5609002113342285, -4.560400009155273, -4.5594000816345215, -3.4921998977661133, -3.671600103378296, -3.671600103378296, -4.562399864196777, -3.88919997215271, -4.168799877166748, -4.557300090789795, -4.5609002113342285, -4.561999797821045, -5.194799900054932, -5.204400062561035, -5.205999851226807, -4.492599964141846, -4.492599964141846, -4.492599964141846, -4.492599964141846, -4.492700099945068, -5.139200210571289, -5.139200210571289, -5.139200210571289, -5.139200210571289, -5.139200210571289, -5.139200210571289, -5.139200210571289, -5.139200210571289, -5.139200210571289, -5.139200210571289, -5.139200210571289, -5.139200210571289, -5.139200210571289, -5.139200210571289, -5.139200210571289, -5.139200210571289, -5.139200210571289, -5.139200210571289, -5.139200210571289, -5.139200210571289, -5.139200210571289, -5.139200210571289, -5.139200210571289, -5.139200210571289, -5.139200210571289, -4.492599964141846, -5.139200210571289, -5.139200210571289, -5.139200210571289, -5.139200210571289, -5.139200210571289, -5.139200210571289, -5.139200210571289, -5.139200210571289, -5.139200210571289, -4.102799892425537, -5.139200210571289, -5.139200210571289, -4.49560022354126, -5.139200210571289, -3.425800085067749, -3.823499917984009, -4.102799892425537, -4.1031999588012695, -3.6047000885009766, -4.103099822998047, -3.8231000900268555, -3.8231000900268555, -4.492099761962891, -4.492599964141846, -4.491600036621094, -5.13700008392334, -5.1371002197265625, -5.1371002197265625, -5.138000011444092, -5.139200210571289, -5.139200210571289, -5.139200210571289, -5.139200210571289, -5.139200210571289, -4.367499828338623, -4.369200229644775, -5.014100074768066, -5.014100074768066, -5.014100074768066, -5.014100074768066, -5.014100074768066, -5.014100074768066, -5.014100074768066, -5.014100074768066, -5.014100074768066, -5.014100074768066, -5.014100074768066, -5.014100074768066, -5.014100074768066, -5.014100074768066, -5.014100074768066, -5.014100074768066, -5.014100074768066, -5.014100074768066, -5.014100074768066, -5.015699863433838, -5.01609992980957, -5.016300201416016, -5.016300201416016, -5.016499996185303, -5.01669979095459, -5.01669979095459, -5.01669979095459, -5.017000198364258, -4.370200157165527, -3.9779999256134033, -3.69950008392334, -4.36870002746582, -3.9779999256134033, -3.301800012588501, -4.369100093841553, -4.36899995803833, -3.6984000205993652, -3.977799892425537, -4.368199825286865, -4.367499828338623, -3.6989998817443848, -4.367099761962891, -3.978100061416626, -4.367300033569336, -5.01200008392334, -5.0121002197265625, -5.013400077819824, -5.013500213623047, -5.013599872589111, -5.014100074768066, -5.014100074768066, -5.014100074768066, -4.872099876403809, -4.872099876403809, -4.872099876403809, -4.872099876403809, -4.872099876403809, -4.872099876403809, -4.872099876403809, -4.872099876403809, -4.872099876403809, -4.872099876403809, -4.872099876403809, -4.872099876403809, -4.872099876403809, -4.872099876403809, -4.872099876403809, -4.872099876403809, -4.872099876403809, -4.872099876403809, -4.872099876403809, -4.872099876403809, -4.872099876403809, -4.872099876403809, -4.872099876403809, -4.872099876403809, -4.872099876403809, -4.87529993057251, -4.875400066375732, -4.8755998611450195, -4.8755998611450195, -4.875899791717529, -3.8359999656677246, -4.225500106811523, -4.225500106811523, -3.3375000953674316, -4.225500106811523, -4.225500106811523, -4.2221999168396, -4.867000102996826, -4.86899995803833, -4.869100093841553, -4.872099876403809, -4.872099876403809, -4.872099876403809, -4.872099876403809, -4.872099876403809, -4.872099876403809, -4.872099876403809, -4.872099876403809, -4.872099876403809, -4.872099876403809, -4.872099876403809, -4.872099876403809, -4.872099876403809, -4.776500225067139, -4.776500225067139, -4.776500225067139, -4.776500225067139, -4.776500225067139, -4.776500225067139, -4.776500225067139, -4.776500225067139, -4.776500225067139, -4.776500225067139, -4.776500225067139, -4.776500225067139, -4.776500225067139, -4.776500225067139, -4.776500225067139, -4.776500225067139, -4.776500225067139, -4.776500225067139, -4.776500225067139, -4.776500225067139, -4.7778000831604, -4.778299808502197, -4.778299808502197, -4.780099868774414, -4.780200004577637, -4.780200004577637, -4.780300140380859, -4.780399799346924, -4.780399799346924, -4.7804999351501465, -3.462599992752075, -4.130499839782715, -3.7393999099731445, -3.7423999309539795, -4.133399963378906, -4.133800029754639, -4.129899978637695, -4.7754998207092285, -4.776500225067139, -4.776500225067139, -4.776500225067139, -4.776500225067139, -4.776500225067139, -4.637400150299072, -4.637400150299072, -4.637400150299072, -4.637400150299072, -4.637400150299072, -4.637400150299072, -4.637400150299072, -4.637400150299072, -4.637400150299072, -4.637400150299072, -4.637400150299072, -4.637400150299072, -4.637400150299072, -4.637400150299072, -4.637400150299072, -4.637400150299072, -4.637400150299072, -4.637400150299072, -4.637400150299072, -4.637400150299072, -4.637400150299072, -4.637400150299072, -4.637400150299072, -4.637400150299072, -4.637400150299072, -4.637400150299072, -4.637400150299072, -4.637400150299072, -4.637400150299072, -4.637400150299072, -3.321700096130371, -4.637400150299072, -4.637400150299072, -4.637400150299072, -4.637400150299072, -4.637400150299072, -4.637400150299072, -4.637400150299072, -4.637400150299072, -4.637400150299072, -4.486199855804443, -4.486199855804443, -4.486199855804443, -4.486199855804443, -4.486199855804443, -4.486199855804443, -4.486199855804443, -4.486199855804443, -4.486199855804443, -4.486199855804443, -4.486199855804443, -4.486199855804443, -4.486199855804443, -4.486199855804443, -4.486199855804443, -4.486199855804443, -4.486199855804443, -4.486199855804443, -4.486199855804443, -4.486199855804443, -4.486199855804443, -4.486199855804443, -4.486199855804443, -4.362500190734863, -4.486199855804443, -4.486199855804443, -4.344299793243408, -4.486199855804443, -4.358500003814697, -4.339700222015381, -3.83240008354187, -4.335400104522705, -4.4394001960754395, -4.467800140380859, -4.476399898529053, -4.486199855804443, -4.486199855804443, -4.486199855804443], \"loglift\": [30.0, 29.0, 28.0, 27.0, 26.0, 25.0, 24.0, 23.0, 22.0, 21.0, 20.0, 19.0, 18.0, 17.0, 16.0, 15.0, 14.0, 13.0, 12.0, 11.0, 10.0, 9.0, 8.0, 7.0, 6.0, 5.0, 4.0, 3.0, 2.0, 1.0, 1.3504999876022339, 1.3504999876022339, 1.1770999431610107, 1.1439000368118286, 1.1439000368118286, 1.1439000368118286, 1.1439000368118286, 1.1439000368118286, 1.1439000368118286, 1.1439000368118286, 1.1439000368118286, 1.1439000368118286, 1.1439000368118286, 1.1439000368118286, 1.1439000368118286, 1.1439000368118286, 1.1439000368118286, 1.1439000368118286, 1.1439000368118286, 1.1439000368118286, 1.1439000368118286, 1.1439000368118286, 1.1439000368118286, 1.1439000368118286, 1.1439000368118286, 1.1439000368118286, 1.1439000368118286, 1.1439000368118286, 1.1439000368118286, 1.1439000368118286, 1.1439000368118286, 1.1439000368118286, 1.1439000368118286, 1.1439000368118286, 1.1439000368118286, 1.1439000368118286, 1.1439000368118286, 1.1439000368118286, 1.1439000368118286, 1.1439000368118286, 1.1439000368118286, 1.1439000368118286, 1.1439000368118286, 1.1439000368118286, 1.1439000368118286, 1.1439000368118286, 1.1439000368118286, 1.1439000368118286, 1.1439000368118286, 1.1439000368118286, 1.1439000368118286, 1.0672999620437622, 1.0658999681472778, 1.0645999908447266, 0.7986000180244446, 0.6927000284194946, 0.7386000156402588, 0.4390999972820282, 0.4878000020980835, 0.9110000133514404, 0.9106000065803528, 0.8708999752998352, 0.8611000180244446, 0.4271000027656555, 0.5206999778747559, 0.7182999849319458, 0.7013999819755554, 0.013799999840557575, 0.5782999992370605, -0.21709999442100525, 0.19699999690055847, 0.5569000244140625, 0.4262000024318695, 0.3118000030517578, -0.41990000009536743, 1.1439000368118286, -0.20000000298023224, -0.2703000009059906, -0.21330000460147858, 1.7127000093460083, 1.7117999792099, 1.4941999912261963, 1.4941999912261963, 1.4941999912261963, 1.4941999912261963, 1.4941999912261963, 1.4941999912261963, 1.4941999912261963, 1.4941999912261963, 1.4941999912261963, 1.4941999912261963, 1.4941999912261963, 1.4941999912261963, 1.4941999912261963, 1.4941999912261963, 1.4941999912261963, 1.4941999912261963, 1.4941999912261963, 1.4941999912261963, 1.4941999912261963, 1.4941999912261963, 1.4941999912261963, 1.4941999912261963, 1.4941999912261963, 1.4941999912261963, 1.4941999912261963, 1.4941999912261963, 1.4941999912261963, 1.4941999912261963, 1.4941999912261963, 1.4941999912261963, 1.4941999912261963, 1.4163000583648682, 1.4941999912261963, 1.4106999635696411, 1.2372000217437744, 0.5726000070571899, 0.5976999998092651, 0.732200026512146, 0.2126999944448471, 1.0260000228881836, 0.48660001158714294, 0.7339000105857849, 0.7095999717712402, -0.13109999895095825, 0.5246999859809875, 0.5270000100135803, -0.13249999284744263, 0.03620000183582306, 1.4941999912261963, -0.6646999716758728, 0.2295999974012375, 1.086400032043457, 1.1854000091552734, 1.7223000526428223, 1.7223000526428223, 1.538699984550476, 1.537600040435791, 1.5022000074386597, 1.5022000074386597, 1.5022000074386597, 1.5022000074386597, 1.5022000074386597, 1.5022000074386597, 1.5022000074386597, 1.5022000074386597, 1.5022000074386597, 1.5022000074386597, 1.5022000074386597, 1.5022000074386597, 1.5022000074386597, 1.5022000074386597, 1.5022000074386597, 1.5022000074386597, 1.5022000074386597, 1.5022000074386597, 1.5022000074386597, 1.5022000074386597, 1.5022000074386597, 1.5022000074386597, 1.5022000074386597, 1.5022000074386597, 1.5017000436782837, 1.5017000436782837, 1.4014999866485596, 1.2513999938964844, 1.076200008392334, 0.9302999973297119, 0.42080000042915344, 0.7084000110626221, 0.5429999828338623, 1.0855000019073486, 0.21819999814033508, 0.635699987411499, 0.8909000158309937, 0.5090000033378601, 0.4984000027179718, 0.876800000667572, 0.8720999956130981, 0.375, -0.07289999723434448, -0.11159999668598175, 0.39259999990463257, -0.3822000026702881, -0.4052000045776367, 0.09589999914169312, 0.7745000123977661, 0.776199996471405, 1.135699987411499, 1.7833000421524048, 1.6805000305175781, 1.5612000226974487, 1.5612000226974487, 1.5612000226974487, 1.5612000226974487, 1.5612000226974487, 1.5612000226974487, 1.5612000226974487, 1.5612000226974487, 1.5612000226974487, 1.5612000226974487, 1.5612000226974487, 1.5612000226974487, 1.5612000226974487, 1.5612000226974487, 1.5612000226974487, 1.5612000226974487, 1.5612000226974487, 1.5612000226974487, 1.5612000226974487, 1.5612000226974487, 1.5612000226974487, 1.5612000226974487, 1.5612000226974487, 1.5612000226974487, 1.5605000257492065, 1.5604000091552734, 1.5604000091552734, 1.5604000091552734, 1.5276000499725342, 1.507599949836731, 1.482800006866455, 1.3228000402450562, 1.317199945449829, 1.1549999713897705, 0.6144000291824341, 0.5911999940872192, 1.1053999662399292, 1.100600004196167, 1.0860999822616577, 0.11590000241994858, 0.14339999854564667, 0.14079999923706055, 0.7868000268936157, -0.052000001072883606, -0.02250000089406967, 0.44440001249313354, 0.1664000004529953, 0.15469999611377716, -0.5454999804496765, -0.34929999709129333, 1.129699945449829, 1.8729000091552734, 1.8729000091552734, 1.8729000091552734, 1.8729000091552734, 1.8727999925613403, 1.6444000005722046, 1.6444000005722046, 1.6444000005722046, 1.6444000005722046, 1.6444000005722046, 1.6444000005722046, 1.6444000005722046, 1.6444000005722046, 1.6444000005722046, 1.6444000005722046, 1.6444000005722046, 1.6444000005722046, 1.6444000005722046, 1.6444000005722046, 1.6444000005722046, 1.6444000005722046, 1.6444000005722046, 1.6444000005722046, 1.6444000005722046, 1.6444000005722046, 1.6444000005722046, 1.6444000005722046, 1.6444000005722046, 1.6444000005722046, 1.6444000005722046, 1.5923000574111938, 1.6444000005722046, 1.6444000005722046, 1.6444000005722046, 1.6444000005722046, 1.6444000005722046, 1.6444000005722046, 1.6444000005722046, 1.6444000005722046, 1.6444000005722046, 1.3813999891281128, 1.6444000005722046, 1.6444000005722046, 1.3478000164031982, 1.6444000005722046, 0.8379999995231628, 0.8539000153541565, 0.9491000175476074, 0.8985000252723694, 0.5034000277519226, 0.6136000156402588, -0.008100000210106373, -0.010599999688565731, 0.23520000278949738, 0.15680000185966492, -0.6542999744415283, -1.5289000272750854, -0.28189998865127563, 0.21209999918937683, 0.09730000048875809, 0.009100000374019146, 1.2882000207901, 1.2441999912261963, 0.5217999815940857, 1.2884000539779663, 2.03410005569458, 2.032099962234497, 1.7968000173568726, 1.7968000173568726, 1.7968000173568726, 1.7968000173568726, 1.7968000173568726, 1.7968000173568726, 1.7968000173568726, 1.7968000173568726, 1.7968000173568726, 1.7968000173568726, 1.7968000173568726, 1.7968000173568726, 1.7968000173568726, 1.7968000173568726, 1.7968000173568726, 1.7968000173568726, 1.7968000173568726, 1.7968000173568726, 1.7968000173568726, 1.7950999736785889, 1.7944999933242798, 1.7942999601364136, 1.7942999601364136, 1.794100046157837, 1.7939000129699707, 1.7939000129699707, 1.7937999963760376, 1.7937999963760376, 1.719599962234497, 1.3174999952316284, 1.1555999517440796, 1.4139000177383423, 1.15910005569458, 0.5133000016212463, 1.2955000400543213, 1.2509000301361084, 0.4097000062465668, 0.614799976348877, 0.9810000061988831, 0.9787999987602234, 0.11339999735355377, 0.8651000261306763, -0.14079999923706055, -0.7591999769210815, -0.2847000062465668, 0.7789999842643738, 0.22190000116825104, 1.3206000328063965, 0.03830000013113022, 1.4723000526428223, 1.0707999467849731, 1.3693000078201294, 1.9776999950408936, 1.9776999950408936, 1.9776999950408936, 1.9776999950408936, 1.9776999950408936, 1.9776999950408936, 1.9776999950408936, 1.9776999950408936, 1.9776999950408936, 1.9776999950408936, 1.9776999950408936, 1.9776999950408936, 1.9776999950408936, 1.9776999950408936, 1.9776999950408936, 1.9776999950408936, 1.9776999950408936, 1.9776999950408936, 1.9776999950408936, 1.9776999950408936, 1.9776999950408936, 1.9776999950408936, 1.9776999950408936, 1.9776999950408936, 1.9776999950408936, 1.9746999740600586, 1.9744999408721924, 1.9743000268936157, 1.9743000268936157, 1.9740999937057495, 1.9097000360488892, 1.9111000299453735, 1.4407999515533447, 0.2705000042915344, 0.6297000050544739, -0.3882000148296356, -0.4097000062465668, -0.1396999955177307, 0.8238999843597412, 1.6043000221252441, 0.7889000177383423, 1.517699956893921, 0.12960000336170197, 0.4742000102996826, 1.517699956893921, 0.8482000231742859, 0.9104999899864197, 0.36320000886917114, 1.2092000246047974, 1.5364999771118164, 1.5250999927520752, 1.48580002784729, 1.5154999494552612, 2.1029999256134033, 2.1029999256134033, 2.1029999256134033, 2.1029999256134033, 2.1029999256134033, 2.1029999256134033, 2.1029999256134033, 2.1029999256134033, 2.1029999256134033, 2.1029999256134033, 2.1029999256134033, 2.1029999256134033, 2.1029999256134033, 2.1029999256134033, 2.1029999256134033, 2.1029999256134033, 2.1029999256134033, 2.1029999256134033, 2.1029999256134033, 2.1029999256134033, 2.1015000343322754, 2.1010000705718994, 2.1008999347686768, 2.0992000102996826, 2.099100112915039, 2.099100112915039, 2.0989999771118164, 2.098900079727173, 2.098900079727173, 2.09879994392395, 0.3497999906539917, 1.101699948310852, 0.4068000018596649, -0.13439999520778656, 0.5939000248908997, 0.45879998803138733, -0.3147999942302704, -0.6672999858856201, 1.6511000394821167, 0.3718000054359436, 1.5994999408721924, 1.8043999671936035, 1.3464000225067139, 2.3041000366210938, 2.3041000366210938, 2.3041000366210938, 2.3041000366210938, 2.3041000366210938, 2.3041000366210938, 2.3041000366210938, 2.3041000366210938, 2.3041000366210938, 2.3041000366210938, 2.3041000366210938, 2.3041000366210938, 2.3041000366210938, 2.3041000366210938, 2.3041000366210938, 2.3041000366210938, 2.3041000366210938, 2.3041000366210938, 2.3041000366210938, 2.3041000366210938, 2.3041000366210938, 2.3041000366210938, 2.3041000366210938, 2.3041000366210938, 2.3041000366210938, 2.3041000366210938, 2.3041000366210938, 2.3041000366210938, 1.8489999771118164, 1.829200029373169, 1.3277000188827515, 1.0009000301361084, 1.240399956703186, 1.817199945449829, 1.3216999769210815, 1.194599986076355, 1.4555000066757202, 0.364300012588501, 0.5109000205993652, 1.1933000087738037, 2.5241000652313232, 2.5241000652313232, 2.5241000652313232, 2.5241000652313232, 2.5241000652313232, 2.5241000652313232, 2.5241000652313232, 2.5241000652313232, 2.5241000652313232, 2.5241000652313232, 2.5241000652313232, 2.5241000652313232, 2.5241000652313232, 2.5241000652313232, 2.5241000652313232, 2.5241000652313232, 2.5241000652313232, 2.5241000652313232, 2.0947000980377197, 1.7731000185012817, 1.6605000495910645, 1.6605000495910645, 1.6109000444412231, 1.59660005569458, 1.4853999614715576, 1.3960000276565552, 1.3640999794006348, 1.0120999813079834, 0.9369999766349792, 0.8956000208854675, 0.004800000227987766, 0.5196999907493591, -0.3312999904155731, 0.24879999458789825, -0.3301999866962433, -0.673799991607666, 0.5153999924659729, 0.7459999918937683]}, \"token.table\": {\"Topic\": [3, 4, 1, 4, 9, 5, 5, 7, 5, 6, 2, 3, 7, 6, 4, 6, 1, 3, 4, 2, 4, 6, 8, 5, 1, 5, 8, 1, 9, 1, 2, 4, 9, 4, 7, 3, 3, 6, 7, 6, 4, 7, 1, 9, 5, 9, 6, 9, 3, 8, 7, 6, 9, 4, 4, 7, 6, 2, 7, 9, 1, 2, 3, 4, 8, 2, 6, 9, 2, 4, 9, 5, 5, 7, 2, 3, 4, 5, 6, 7, 10, 2, 9, 1, 2, 4, 5, 6, 7, 8, 9, 10, 6, 1, 4, 5, 3, 3, 4, 7, 3, 2, 7, 2, 5, 6, 6, 5, 7, 1, 7, 9, 7, 7, 8, 5, 3, 4, 1, 2, 4, 6, 10, 3, 9, 5, 2, 4, 8, 1, 3, 9, 2, 3, 6, 10, 5, 3, 2, 7, 7, 4, 8, 1, 7, 6, 9, 2, 6, 8, 6, 1, 3, 4, 5, 6, 7, 8, 5, 1, 3, 4, 5, 6, 2, 1, 3, 9, 7, 4, 2, 9, 8, 6, 2, 7, 4, 2, 6, 5, 9, 5, 1, 2, 3, 4, 5, 6, 7, 8, 9, 1, 4, 7, 1, 5, 8, 1, 2, 3, 4, 6, 7, 4, 6, 1, 3, 5, 7, 8, 2, 3, 1, 1, 2, 9, 2, 1, 3, 4, 5, 6, 7, 8, 4, 9, 2, 3, 1, 1, 5, 8, 1, 2, 3, 5, 8, 9, 8, 5, 7, 1, 9, 5, 5, 8, 3, 1, 7, 2, 7, 8, 1, 2, 6, 7, 8, 1, 8, 4, 9, 4, 9, 5, 9, 1, 3, 7, 9, 6, 1, 1, 3, 4, 7, 8, 8, 1, 2, 8, 6, 1, 1, 8, 6, 3, 7, 1, 2, 5, 5, 4, 7, 7, 3, 5, 1, 1, 7, 9, 6, 7, 8, 9, 7, 8, 1, 2, 3, 4, 5, 4, 1, 1, 1, 2, 3, 2, 5, 3, 4, 2, 2, 4, 8, 1, 7, 1, 4, 6, 6, 6, 1, 6, 8, 2, 3, 4, 5, 7, 6, 1, 2, 4, 5, 6, 7, 7, 3, 2, 2, 2, 8, 1, 1, 3, 4, 5, 7, 9, 5, 2, 5, 1, 2, 3, 4, 5, 6, 7, 8, 1, 4, 5, 6, 8, 9, 5, 1, 3, 6, 7, 1, 8, 8, 3, 4, 6, 8, 1, 2, 3, 9, 6, 5, 2, 9, 5, 1, 9, 3, 1, 5, 1, 6, 9, 5, 6, 4, 6, 5, 9, 5, 3, 5, 1, 5, 7, 2, 8, 7, 4, 1, 3, 7, 1, 2, 3, 4, 5, 6, 1, 2, 1, 2, 3, 4, 5, 8, 1, 4, 9, 1, 2, 5, 3, 9, 1, 2, 9, 10, 8, 1, 2, 3, 4, 5, 6, 7, 9, 10, 1, 1, 8, 3, 7, 1, 2, 5, 8, 1, 5, 6, 8, 2, 9, 4, 1, 2, 8, 2, 3, 6, 7, 9, 1, 3, 4, 8, 1, 6, 5, 7, 9, 6, 2, 5, 5, 1, 2, 3, 7, 6, 8, 1, 8, 1, 3, 3, 1, 4, 5, 7, 4, 5, 5, 2, 3, 4, 3, 1, 3, 6, 4, 5, 4, 6, 6, 4, 7, 1, 3, 3, 5, 4, 6, 5, 1, 4, 1, 7, 1, 2, 3, 4, 5, 6, 7, 8, 9, 7, 3, 7, 8, 1, 1, 1, 2, 3, 4, 5, 1, 1, 2, 9, 8, 1, 2, 3, 4, 5, 8, 9, 3, 1, 9, 5, 2, 9, 1, 1, 1, 2, 3, 6, 8, 9, 2, 5, 1, 2, 4, 3, 4, 6, 4, 3, 4, 5, 2, 5, 1, 3, 8, 1, 5, 6, 8, 9, 4, 7, 3, 5, 8, 9, 4, 2, 2], \"Freq\": [0.7326614856719971, 0.7407394051551819, 0.6999849081039429, 0.7407394051551819, 0.8817596435546875, 0.7529691457748413, 0.517525851726532, 0.517525851726532, 0.3743991553783417, 0.3743991553783417, 0.7089846730232239, 0.35449233651161194, 0.8045448064804077, 0.7737990617752075, 0.3762377202510834, 0.3762377202510834, 0.41651174426078796, 0.41651174426078796, 0.20825587213039398, 0.7303803563117981, 0.3888993561267853, 0.3888993561267853, 0.3888993561267853, 0.7529691457748413, 0.6999849081039429, 0.5274530053138733, 0.5274530053138733, 0.6999849081039429, 0.881759762763977, 0.6999850273132324, 0.7303802967071533, 0.7407394647598267, 0.8817596435546875, 0.7407394051551819, 0.8045446872711182, 0.7326614856719971, 0.5972623229026794, 0.2986311614513397, 0.2986311614513397, 0.7737991213798523, 0.7407394051551819, 0.8046265244483948, 0.6999849677085876, 0.881759762763977, 0.5484241247177124, 0.5484241247177124, 0.7737990617752075, 0.881759762763977, 0.7326614856719971, 0.828561544418335, 0.8046428561210632, 0.5593917965888977, 0.5593917965888977, 0.7407394647598267, 0.7407395243644714, 0.8045448660850525, 0.7737990617752075, 0.7303802967071533, 0.8046313524246216, 0.8817596435546875, 0.37712982296943665, 0.2155027687549591, 0.10775138437747955, 0.10775138437747955, 0.10775138437747955, 0.7303803563117981, 0.5137732625007629, 0.881759762763977, 0.304351806640625, 0.304351806640625, 0.304351806640625, 0.7529692053794861, 0.394252747297287, 0.394252747297287, 0.10946378111839294, 0.2189275622367859, 0.10946378111839294, 0.10946378111839294, 0.32839134335517883, 0.10946378111839294, 0.10946378111839294, 0.5363423824310303, 0.5363423824310303, 0.16009147465229034, 0.16009147465229034, 0.16009147465229034, 0.16009147465229034, 0.16009147465229034, 0.16009147465229034, 0.16009147465229034, 0.16009147465229034, 0.16009147465229034, 0.7737991213798523, 0.5526407957077026, 0.2763203978538513, 0.2763203978538513, 0.7326614856719971, 0.7326618432998657, 0.740739643573761, 0.8045448660850525, 0.7326618432998657, 0.7303802967071533, 0.8045448660850525, 0.2940596640110016, 0.2940596640110016, 0.2940596640110016, 0.7736179828643799, 0.7529691457748413, 0.8045448660850525, 0.6999849081039429, 0.8045448660850525, 0.8817596435546875, 0.8045448064804077, 0.5521689653396606, 0.5521689653396606, 0.7529692053794861, 0.35876235365867615, 0.35876235365867615, 0.2569432258605957, 0.2569432258605957, 0.2569432258605957, 0.2569432258605957, 0.2569432258605957, 0.7326616048812866, 0.881759524345398, 0.7529692053794861, 0.7303802967071533, 0.7407394647598267, 0.8287797570228577, 0.3774092197418213, 0.3774092197418213, 0.3774092197418213, 0.17002610862255096, 0.34005221724510193, 0.34005221724510193, 0.17002610862255096, 0.7529691457748413, 0.7326614856719971, 0.7303802967071533, 0.8045448660850525, 0.8046359419822693, 0.7407393455505371, 0.8287797570228577, 0.6999850273132324, 0.8045448064804077, 0.7737610936164856, 0.8817596435546875, 0.7303803563117981, 0.7737990617752075, 0.8287797570228577, 0.7737990617752075, 0.19264976680278778, 0.19264976680278778, 0.09632488340139389, 0.09632488340139389, 0.09632488340139389, 0.09632488340139389, 0.09632488340139389, 0.7529692053794861, 0.1794029325246811, 0.1794029325246811, 0.1794029325246811, 0.1794029325246811, 0.1794029325246811, 0.7303803563117981, 0.5814688801765442, 0.2907344400882721, 0.2907344400882721, 0.8045448064804077, 0.7407394647598267, 0.7303802967071533, 0.881759762763977, 0.8287797570228577, 0.7737990617752075, 0.5067593455314636, 0.5067593455314636, 0.7407394051551819, 0.7303802967071533, 0.7737306356430054, 0.4457740783691406, 0.4457740783691406, 0.7529691457748413, 0.15434300899505615, 0.11575725674629211, 0.1929287612438202, 0.15434300899505615, 0.11575725674629211, 0.11575725674629211, 0.03858575224876404, 0.07717150449752808, 0.03858575224876404, 0.24634020030498505, 0.24634020030498505, 0.24634020030498505, 0.6999849081039429, 0.7529692053794861, 0.8287797570228577, 0.14510998129844666, 0.2902199625968933, 0.14510998129844666, 0.14510998129844666, 0.2902199625968933, 0.14510998129844666, 0.3682752847671509, 0.3682752847671509, 0.6999849081039429, 0.5059929490089417, 0.2529964745044708, 0.2529964745044708, 0.2529964745044708, 0.7303802967071533, 0.9564767479896545, 0.6999849081039429, 0.47909480333328247, 0.47909480333328247, 0.23954740166664124, 0.7303802967071533, 0.4255453050136566, 0.07737187296152115, 0.1547437459230423, 0.11605781316757202, 0.1547437459230423, 0.038685936480760574, 0.038685936480760574, 0.7407491207122803, 0.8817596435546875, 0.7303802967071533, 0.7326656579971313, 0.6999849081039429, 0.6999849081039429, 0.7529692053794861, 0.8287797570228577, 0.14674754440784454, 0.2934950888156891, 0.2934950888156891, 0.14674754440784454, 0.14674754440784454, 0.14674754440784454, 0.82856285572052, 0.7529692053794861, 0.8045448660850525, 0.6999849081039429, 0.881759762763977, 0.7529692053794861, 0.5273681282997131, 0.5273681282997131, 0.7326618432998657, 0.6999849081039429, 0.8045448660850525, 0.26669713854789734, 0.5333942770957947, 0.26669713854789734, 0.3577496409416199, 0.3577496409416199, 0.17887482047080994, 0.17887482047080994, 0.8287797570228577, 0.6999849081039429, 0.8287797570228577, 0.5418607592582703, 0.5418607592582703, 0.7407394051551819, 0.881759762763977, 0.7529692053794861, 0.8817596435546875, 0.6999848484992981, 0.7326664924621582, 0.8045446872711182, 0.8817596435546875, 0.7737990617752075, 0.6999849081039429, 0.6999849081039429, 0.3730633556842804, 0.3730633556842804, 0.3730633556842804, 0.8287797570228577, 0.828576922416687, 0.6999849081039429, 0.7303803563117981, 0.8287797570228577, 0.773567259311676, 0.6999849081039429, 0.6999849081039429, 0.8286224007606506, 0.7737990617752075, 0.7326614856719971, 0.8045446872711182, 0.6999850273132324, 0.7303802967071533, 0.4956909716129303, 0.7529692053794861, 0.3751763701438904, 0.3751763701438904, 0.8045448660850525, 0.7326614856719971, 0.7529691457748413, 0.6999849081039429, 0.6999849081039429, 0.8045448660850525, 0.881759524345398, 0.27673405408859253, 0.27673405408859253, 0.27673405408859253, 0.27673405408859253, 0.8045448660850525, 0.8285732269287109, 0.1906166970729828, 0.1906166970729828, 0.1906166970729828, 0.0953083485364914, 0.1906166970729828, 0.7407394647598267, 0.6999849081039429, 0.6999849677085876, 0.6999849081039429, 0.7078003287315369, 0.35390016436576843, 0.9526315927505493, 0.7529692649841309, 0.7326619029045105, 0.7407394647598267, 0.7303802967071533, 0.5918946266174316, 0.2959473133087158, 0.2959473133087158, 0.49193814396858215, 0.49193814396858215, 0.5581772923469543, 0.2790886461734772, 0.2790886461734772, 0.5139049291610718, 0.7737990617752075, 0.6999849081039429, 0.7736023664474487, 0.8285859227180481, 0.7303802967071533, 0.24503742158412933, 0.24503742158412933, 0.24503742158412933, 0.24503742158412933, 0.7736046314239502, 0.17510516941547394, 0.3502103388309479, 0.3502103388309479, 0.17510516941547394, 0.7737990617752075, 0.8045448660850525, 0.8045448660850525, 0.7965416312217712, 0.7303802967071533, 0.7303802967071533, 0.7303802967071533, 0.8287797570228577, 0.6999849081039429, 0.12673573195934296, 0.2534714639186859, 0.12673573195934296, 0.2534714639186859, 0.12673573195934296, 0.12673573195934296, 0.7529692053794861, 0.7303802967071533, 0.7529691457748413, 0.10372482985258102, 0.10372482985258102, 0.10372482985258102, 0.20744965970516205, 0.20744965970516205, 0.15558724105358124, 0.05186241492629051, 0.05186241492629051, 0.26652541756629944, 0.13326270878314972, 0.26652541756629944, 0.13326270878314972, 0.13326270878314972, 0.13326270878314972, 0.4956832230091095, 0.24591787159442902, 0.24591787159442902, 0.24591787159442902, 0.24591787159442902, 0.6999849081039429, 0.8287797570228577, 0.828583300113678, 0.7326616048812866, 0.3342992961406708, 0.3342992961406708, 0.3342992961406708, 0.4085195064544678, 0.2042597532272339, 0.4085195064544678, 0.2042597532272339, 0.7735682129859924, 0.4956909120082855, 0.7303802967071533, 0.8817596435546875, 0.7529692053794861, 0.758062481880188, 0.8817596435546875, 0.7326616048812866, 0.6999849081039429, 0.7529691457748413, 0.48033544421195984, 0.48033544421195984, 0.881759762763977, 0.5046336650848389, 0.5046336650848389, 0.7407394051551819, 0.7737990617752075, 0.7529692053794861, 0.881759762763977, 0.7529692053794861, 0.7326614856719971, 0.7529692649841309, 0.6999849081039429, 0.7529691457748413, 0.8045448660850525, 0.7303802967071533, 0.8287797570228577, 0.8045448660850525, 0.7407394051551819, 0.6999849081039429, 0.5078606009483337, 0.5078606009483337, 0.18179099261760712, 0.06059699505567551, 0.24238798022270203, 0.24238798022270203, 0.24238798022270203, 0.06059699505567551, 0.6999849081039429, 0.7303802967071533, 0.20601539313793182, 0.20601539313793182, 0.20601539313793182, 0.20601539313793182, 0.20601539313793182, 0.20601539313793182, 0.30572229623794556, 0.30572229623794556, 0.8817596435546875, 0.6999849081039429, 0.9526835083961487, 0.4956909716129303, 0.7326614856719971, 0.881759762763977, 0.3301227390766144, 0.3301227390766144, 0.3301227390766144, 0.3301227390766144, 0.8285661339759827, 0.31644201278686523, 0.23733150959014893, 0.07911050319671631, 0.11866575479507446, 0.039555251598358154, 0.07911050319671631, 0.039555251598358154, 0.039555251598358154, 0.039555251598358154, 0.9015348553657532, 0.9015348553657532, 0.8287797570228577, 0.7326619029045105, 0.8045448660850525, 0.6783006191253662, 0.3391503095626831, 0.7529692053794861, 0.8285872340202332, 0.6999850273132324, 0.7529692053794861, 0.7737990617752075, 0.8287797570228577, 0.7303802967071533, 0.881759762763977, 0.7407394051551819, 0.6782366037368774, 0.3391183018684387, 0.8287797570228577, 0.2599996030330658, 0.2599996030330658, 0.2599996030330658, 0.2599996030330658, 0.2599996030330658, 0.3471217155456543, 0.6942434310913086, 0.7407394051551819, 0.8287797570228577, 0.6999849081039429, 0.7737990617752075, 0.7529691457748413, 0.8046364188194275, 0.8817596435546875, 0.7737990617752075, 0.48579567670822144, 0.48579567670822144, 0.7529691457748413, 0.6999849677085876, 0.7303802967071533, 0.5078566074371338, 0.5078566074371338, 0.7735851407051086, 0.8286041617393494, 0.5008940696716309, 0.5008940696716309, 0.6999849081039429, 0.7326614856719971, 0.7326616048812866, 0.24127903580665588, 0.24127903580665588, 0.24127903580665588, 0.24127903580665588, 0.7407393455505371, 0.7529692053794861, 0.7529692053794861, 0.7303803563117981, 0.9564768671989441, 0.7407492995262146, 0.7326616048812866, 0.4703536033630371, 0.23517680168151855, 0.23517680168151855, 0.48509758710861206, 0.7529692053794861, 0.7407394051551819, 0.7735649347305298, 0.7737990617752075, 0.5116686224937439, 0.5116686224937439, 0.6999848484992981, 0.7326614856719971, 0.7326618432998657, 0.7529691457748413, 0.7407498955726624, 0.7737990617752075, 0.7529692053794861, 0.6999849081039429, 0.7407394051551819, 0.6999849081039429, 0.8045448064804077, 0.3145320415496826, 0.1572660207748413, 0.1572660207748413, 0.1258128136396408, 0.0314532034099102, 0.0314532034099102, 0.09435960650444031, 0.0629064068198204, 0.0314532034099102, 0.8045448660850525, 0.5078564286231995, 0.5078564286231995, 0.8287797570228577, 0.6999849081039429, 0.6999848484992981, 0.27492058277130127, 0.27492058277130127, 0.09164019674062729, 0.09164019674062729, 0.27492058277130127, 0.6999849677085876, 0.5806940197944641, 0.29034700989723206, 0.29034700989723206, 0.8287797570228577, 0.17821095883846283, 0.17821095883846283, 0.26731643080711365, 0.08910547941923141, 0.08910547941923141, 0.08910547941923141, 0.17821095883846283, 0.7326614856719971, 0.6999848484992981, 0.8817596435546875, 0.4956910312175751, 0.7303803563117981, 0.881759762763977, 0.6999849081039429, 0.6999849677085876, 0.4209257662296295, 0.0841851532459259, 0.1683703064918518, 0.1683703064918518, 0.0841851532459259, 0.0841851532459259, 0.7303802967071533, 0.7529692649841309, 0.6999848484992981, 0.4811297059059143, 0.4811297059059143, 0.796552300453186, 0.7407501935958862, 0.7737990617752075, 0.7407394051551819, 0.4106636345386505, 0.20533181726932526, 0.4106636345386505, 0.7303802967071533, 0.7529692053794861, 0.679218590259552, 0.339609295129776, 0.6148327589035034, 0.31919190287590027, 0.15959595143795013, 0.15959595143795013, 0.15959595143795013, 0.15959595143795013, 0.5923028588294983, 0.29615142941474915, 0.7326619029045105, 0.7529692053794861, 0.8287797570228577, 0.881759524345398, 0.7407394051551819, 0.7303804755210876, 0.7303802967071533], \"Term\": [\"!!!\", \"\\\"arts\\\"\", \"\\\"everyone\", \"&\", \"(mother)\", \"*Movie\", \",\", \",\", \"-\", \"-\", \".\", \".\", \"10\", \"10s.\", \"5\", \"5\", \"A\", \"A\", \"A\", \"About\", \"Absolutely\", \"Absolutely\", \"Absolutely\", \"Actor\", \"Am\", \"And\", \"And\", \"Artistic,\", \"Average,\", \"Badly\", \"Be\", \"Beautiful.\", \"Below\", \"Creams\", \"Creative\", \"DC\", \"Dark\", \"Dark\", \"Dark\", \"Depressive\", \"Director\", \"Disturbing\", \"Disturbing.\", \"Do\", \"Dont\", \"Dont\", \"Emotions\", \"Endgame\", \"Extraordinary\", \"Film\", \"Gloomy\", \"Great\", \"Great\", \"Hard-hitting.\", \"Haunting.\", \"Heath\", \"His\", \"Hopefully\", \"Horrible\", \"Hyped\", \"I\", \"I\", \"I\", \"I\", \"I\", \"Im\", \"Incredible\", \"Insult\", \"It\", \"It\", \"It\", \"Its\", \"Ive\", \"Ive\", \"Joaquin\", \"Joaquin\", \"Joaquin\", \"Joaquin\", \"Joaquin\", \"Joaquin\", \"Joaquin\", \"Joaquins\", \"Joaquins\", \"Joker\", \"Joker\", \"Joker\", \"Joker\", \"Joker\", \"Joker\", \"Joker\", \"Joker\", \"Joker\", \"Joker.\", \"Just\", \"Just\", \"Just\", \"Knight\", \"Knight.\", \"Lame\", \"Ledger\", \"Ledger.\", \"Long\", \"Loved\", \"Masterpiece\", \"Masterpiece\", \"Masterpiece\", \"Mental\", \"Millennial\", \"Miserable\", \"Morally,\", \"Movie\", \"Movie!!\", \"Nice\", \"Nothing\", \"Nothing\", \"Of\", \"One\", \"One\", \"Oscar\", \"Oscar\", \"Oscar\", \"Oscar\", \"Oscar\", \"Oscar.\", \"Over\", \"Over-hyped,\", \"Overacting\", \"Overly\", \"Overrated\", \"Phillips\", \"Phillips\", \"Phillips\", \"Phoenix\", \"Phoenix\", \"Phoenix\", \"Phoenix\", \"Phoenix*\", \"Phoenix,\", \"Poor\", \"Possibly\", \"R\", \"Room.\", \"SEQUELS!\", \"Shelf\", \"Slog\", \"Standalone\", \"Stop\", \"Talked\", \"Terrible\", \"That\", \"Thats\", \"The\", \"The\", \"The\", \"The\", \"The\", \"The\", \"The\", \"There\", \"This\", \"This\", \"This\", \"This\", \"This\", \"Time\", \"Todd\", \"Todd\", \"Todd\", \"Unpleasant\", \"Unreasonable\", \"Very\", \"Visionary.\", \"WANT\", \"Way\", \"What\", \"What\", \"White\", \"Will\", \"Worthy.\", \"Wow\", \"Wow\", \"Year*\", \"a\", \"a\", \"a\", \"a\", \"a\", \"a\", \"a\", \"a\", \"a\", \"about\", \"about\", \"about\", \"absolutely\", \"achievement\", \"acted.\", \"acting\", \"acting\", \"acting\", \"acting\", \"acting\", \"acting\", \"acting,\", \"acting,\", \"acting,the\", \"actor\", \"actor\", \"actor\", \"actor\", \"actors.\", \"after\", \"again\", \"all\", \"all\", \"all\", \"amazed.\", \"and\", \"and\", \"and\", \"and\", \"and\", \"and\", \"and\", \"are\", \"asleep\", \"at\", \"award\", \"away\", \"awesome\", \"bad!\", \"badly\", \"best\", \"best\", \"best\", \"best\", \"best\", \"best\", \"better.\", \"between\", \"blowing!\", \"blown\", \"book\", \"borders\", \"boring\", \"boring\", \"born\", \"brilliant.\", \"build\", \"but\", \"but\", \"but\", \"by\", \"by\", \"by\", \"by\", \"can\", \"case\", \"change\", \"children\", \"children\", \"cinematography.\", \"comic\", \"comments.....\", \"comparing\", \"complete\", \"couldve\", \"creativity\", \"critics.\", \"dealt\", \"definitely\", \"depiction\", \"deserves\", \"deserves\", \"deserves\", \"dialogued\", \"did\", \"didnt\", \"different\", \"directed\", \"directing\", \"dislike\", \"disturbances\", \"do\", \"does\", \"done\", \"embodied\", \"end\", \"end.\", \"ending\", \"entertainment\", \"ever\", \"ever\", \"everybody\", \"everyone\", \"fall\", \"family\", \"feel\", \"feelings\", \"fell\", \"film\", \"film\", \"film\", \"film\", \"film,\", \"first\", \"for\", \"for\", \"for\", \"for\", \"for\", \"forced\", \"forward\", \"free\", \"friends\", \"from\", \"from\", \"garbage\", \"garbage.\", \"genre\", \"gloomy\", \"going\", \"good\", \"good\", \"good\", \"got\", \"got\", \"great\", \"great\", \"great\", \"great.\", \"gripping.\", \"gritty,\", \"guys!!!\", \"half\", \"happen\", \"has\", \"has\", \"has\", \"has\", \"haunting\", \"have\", \"have\", \"have\", \"have\", \"he\", \"here\", \"him\", \"his\", \"horrible\", \"how\", \"hype\", \"i\", \"impressed.\", \"in\", \"in\", \"in\", \"in\", \"in\", \"in\", \"indeed\", \"interpretations\", \"irritating.\", \"is\", \"is\", \"is\", \"is\", \"is\", \"is\", \"is\", \"is\", \"it\", \"it\", \"it\", \"it\", \"it\", \"it\", \"it,\", \"it.\", \"it.\", \"it.\", \"it.\", \"its\", \"joaquin\", \"job,\", \"joke,the\", \"joker\", \"joker\", \"joker\", \"just\", \"just\", \"just\", \"just\", \"killed\", \"kind\", \"knew\", \"lead\", \"leave\", \"like\", \"listen\", \"living\", \"looking\", \"made.\", \"makes\", \"makes\", \"making..from\", \"many\", \"many\", \"masterclass\", \"masterpiece\", \"masterpiece:)\", \"mastery\", \"matters\", \"maybe\", \"me\", \"mental\", \"message\", \"mind\", \"minute\", \"misleading\", \"mixed\", \"mixing\", \"money.\", \"more\", \"more\", \"movie\", \"movie\", \"movie\", \"movie\", \"movie\", \"movie\", \"movie!?!?\", \"movie,\", \"movie.\", \"movie.\", \"movie.\", \"movie.\", \"movie.\", \"movie.\", \"movies\", \"movies\", \"murdering\", \"music,\", \"my\", \"no\", \"nomination\", \"nor\", \"not\", \"not\", \"not\", \"not\", \"nothing\", \"of\", \"of\", \"of\", \"of\", \"of\", \"of\", \"of\", \"of\", \"of\", \"one\", \"only\", \"oscar\", \"oscar.\", \"outdone\", \"over\", \"over\", \"overacted\", \"overall\", \"overhyped\", \"overhyped,\", \"overload.\", \"paced,\", \"past\", \"people.\", \"perception\", \"perfect\", \"perfect\", \"perfectly\", \"performance\", \"performance\", \"performance\", \"performance\", \"performance\", \"performance.\", \"performance.\", \"performing\", \"phoenix\", \"poorly\", \"portrayal\", \"proper\", \"rated\", \"real\", \"realistic\", \"really\", \"really\", \"reason\", \"relating\", \"rest\", \"role\", \"role\", \"score.\", \"second\", \"see\", \"see\", \"seeing\", \"seeing.\", \"seems\", \"seen\", \"seen\", \"seen\", \"seen\", \"seen.\", \"send.\", \"serious,\", \"shocked\", \"since\", \"skills\", \"slow\", \"so\", \"so\", \"so\", \"sound\", \"speechless.\", \"stars\", \"stars!\", \"stellar\", \"story\", \"story\", \"story,the\", \"stunned\", \"superhero\", \"supposed\", \"talking\", \"technical\", \"tense...\", \"terrible\", \"terrible.\", \"tge\", \"than\", \"the\", \"the\", \"the\", \"the\", \"the\", \"the\", \"the\", \"the\", \"the\", \"they\", \"thing\", \"thing\", \"thing.\", \"think\", \"thinks\", \"this\", \"this\", \"this\", \"this\", \"this\", \"ticket\", \"time\", \"time\", \"time\", \"title\", \"to\", \"to\", \"to\", \"to\", \"to\", \"to\", \"to\", \"today,\", \"too\\\".\", \"torturing\", \"totally\", \"understand\", \"villain\", \"violence.\", \"waist\", \"was\", \"was\", \"was\", \"was\", \"was\", \"was\", \"was.\", \"wasnt\", \"waste\", \"watched\", \"watched\", \"watching\", \"we\", \"well.\", \"went\", \"what\", \"what\", \"what\", \"whats\", \"which\", \"who\", \"who\", \"will\", \"with\", \"with\", \"with\", \"with\", \"with\", \"worst\", \"worst\", \"worthy\", \"would\", \"wouldnt\", \"wow\", \"years.\", \"yet\", \"you\"]}, \"R\": 30, \"lambda.step\": 0.01, \"plot.opts\": {\"xlab\": \"PC1\", \"ylab\": \"PC2\"}, \"topic.order\": [1, 5, 10, 6, 9, 2, 3, 4, 8, 7]};\n",
              "\n",
              "function LDAvis_load_lib(url, callback){\n",
              "  var s = document.createElement('script');\n",
              "  s.src = url;\n",
              "  s.async = true;\n",
              "  s.onreadystatechange = s.onload = callback;\n",
              "  s.onerror = function(){console.warn(\"failed to load library \" + url);};\n",
              "  document.getElementsByTagName(\"head\")[0].appendChild(s);\n",
              "}\n",
              "\n",
              "if(typeof(LDAvis) !== \"undefined\"){\n",
              "   // already loaded: just create the visualization\n",
              "   !function(LDAvis){\n",
              "       new LDAvis(\"#\" + \"ldavis_el1231403166000084005738712701\", ldavis_el1231403166000084005738712701_data);\n",
              "   }(LDAvis);\n",
              "}else if(typeof define === \"function\" && define.amd){\n",
              "   // require.js is available: use it to load d3/LDAvis\n",
              "   require.config({paths: {d3: \"https://cdnjs.cloudflare.com/ajax/libs/d3/3.5.5/d3.min\"}});\n",
              "   require([\"d3\"], function(d3){\n",
              "      window.d3 = d3;\n",
              "      LDAvis_load_lib(\"https://cdn.rawgit.com/bmabey/pyLDAvis/files/ldavis.v1.0.0.js\", function(){\n",
              "        new LDAvis(\"#\" + \"ldavis_el1231403166000084005738712701\", ldavis_el1231403166000084005738712701_data);\n",
              "      });\n",
              "    });\n",
              "}else{\n",
              "    // require.js not available: dynamically load d3 & LDAvis\n",
              "    LDAvis_load_lib(\"https://cdnjs.cloudflare.com/ajax/libs/d3/3.5.5/d3.min.js\", function(){\n",
              "         LDAvis_load_lib(\"https://cdn.rawgit.com/bmabey/pyLDAvis/files/ldavis.v1.0.0.js\", function(){\n",
              "                 new LDAvis(\"#\" + \"ldavis_el1231403166000084005738712701\", ldavis_el1231403166000084005738712701_data);\n",
              "            })\n",
              "         });\n",
              "}\n",
              "</script>"
            ],
            "text/plain": [
              "PreparedData(topic_coordinates=              x         y  topics  cluster       Freq\n",
              "topic                                                \n",
              "0      0.021301  0.124169       1        1  19.373741\n",
              "4     -0.095971  0.099259       2        1  13.169828\n",
              "9      0.050569  0.030897       3        1  13.028717\n",
              "5      0.090044  0.021201       4        1  12.163542\n",
              "8      0.104465 -0.042661       5        1  11.026730\n",
              "1      0.027673 -0.040980       6        1   9.225364\n",
              "2     -0.029421 -0.078841       7        1   7.399116\n",
              "3     -0.038638 -0.034424       8        1   6.320013\n",
              "7     -0.089122 -0.044276       9        1   4.797065\n",
              "6     -0.040898 -0.034344      10        1   3.495882, topic_info=       Term       Freq      Total Category  logprob  loglift\n",
              "24        I  18.000000  18.000000  Default  30.0000  30.0000\n",
              "75       to  11.000000  11.000000  Default  29.0000  29.0000\n",
              "8       and  25.000000  25.000000  Default  28.0000  28.0000\n",
              "15    movie  16.000000  16.000000  Default  27.0000  27.0000\n",
              "25  Phoenix   5.000000   5.000000  Default  26.0000  26.0000\n",
              "..      ...        ...        ...      ...      ...      ...\n",
              "12      for   0.470432  10.492260  Topic10  -4.4678   0.2488\n",
              "24        I   0.466407  18.561247  Topic10  -4.4764  -0.3302\n",
              "5         a   0.461852  25.916302  Topic10  -4.4862  -0.6738\n",
              "94       in   0.461852   7.890435  Topic10  -4.4862   0.5154\n",
              "49     with   0.461852   6.265823  Topic10  -4.4862   0.7460\n",
              "\n",
              "[565 rows x 6 columns], token_table=      Topic      Freq       Term\n",
              "term                            \n",
              "518       3  0.732661        !!!\n",
              "371       4  0.740739     \"arts\"\n",
              "337       1  0.699985  \"everyone\n",
              "406       4  0.740739          &\n",
              "329       9  0.881760   (mother)\n",
              "...     ...       ...        ...\n",
              "541       8  0.828780    wouldnt\n",
              "419       9  0.881760        wow\n",
              "248       4  0.740739     years.\n",
              "447       2  0.730380        yet\n",
              "444       2  0.730380        you\n",
              "\n",
              "[618 rows x 3 columns], R=30, lambda_step=0.01, plot_opts={'xlab': 'PC1', 'ylab': 'PC2'}, topic_order=[1, 5, 10, 6, 9, 2, 3, 4, 8, 7])"
            ]
          },
          "metadata": {
            "tags": []
          },
          "execution_count": 27
        }
      ]
    },
    {
      "cell_type": "markdown",
      "metadata": {
        "id": "AfpMRCrRwN6Z",
        "colab_type": "text"
      },
      "source": [
        "# **Question 2: Sentiment Analysis**"
      ]
    },
    {
      "cell_type": "markdown",
      "metadata": {
        "id": "1dCQEbDawWCw",
        "colab_type": "text"
      },
      "source": [
        "(30 points). Sentiment analysis also known as opinion mining is a sub field within Natural Language Processing (NLP) that builds machine learning algorithms to classify a text according to the sentimental polarities of opinions it contains, e.g., positive, negative, neutral. The purpose of this question is to develop a machine learning classifier for sentiment analysis. Based on the dataset from assignment three, write a python program to implement a sentiment classifier and evaluate its performance. Notice: **80% data for training and 20% data for testing**.  \n",
        "\n",
        "(1) Features used for sentiment classification and explain why you select these features.\n",
        "\n",
        "(2) Select two of the supervised learning algorithm from scikit-learn library: https://scikit-learn.org/stable/supervised_learning.html#supervised-learning, to build a sentiment classifier respectively. \n",
        "\n",
        "(3) Compare the performance over accuracy, precision, recall, and F1 score for the two algorithms you selected. Here is the reference of how to calculate these metrics: https://towardsdatascience.com/accuracy-precision-recall-or-f1-331fb37c5cb9. "
      ]
    },
    {
      "cell_type": "code",
      "metadata": {
        "id": "vATjQNTY8buA",
        "colab_type": "code",
        "colab": {}
      },
      "source": [
        "Data = df.drop(columns=['DOCID'])\n",
        "data1 = Data['REVIEW'].tolist()\n",
        "\n",
        "\n",
        "\n"
      ],
      "execution_count": 0,
      "outputs": []
    },
    {
      "cell_type": "code",
      "metadata": {
        "id": "QGBr9a9JyrEo",
        "colab_type": "code",
        "colab": {}
      },
      "source": [
        "from sklearn.model_selection import train_test_split\n",
        "X_train, X_test, y_train, y_test = train_test_split(Data['REVIEW'], Data['SENTIMENT'], random_state=1)"
      ],
      "execution_count": 0,
      "outputs": []
    },
    {
      "cell_type": "code",
      "metadata": {
        "id": "5yDoyFR6yxq7",
        "colab_type": "code",
        "colab": {}
      },
      "source": [
        "from sklearn.feature_extraction.text import TfidfVectorizer\n",
        "corpus = data1\n",
        "vectorizer = TfidfVectorizer(max_features=100)\n",
        "X_train_vectorizer = vectorizer.fit_transform(X_train)\n",
        "X_test_vectorizer = vectorizer.fit_transform(X_test)"
      ],
      "execution_count": 0,
      "outputs": []
    },
    {
      "cell_type": "code",
      "metadata": {
        "id": "03zA0VG5y0-j",
        "colab_type": "code",
        "colab": {}
      },
      "source": [
        "from sklearn.naive_bayes import MultinomialNB\n",
        "naive_bayes = MultinomialNB()\n",
        "naive_bayes.fit(X_train_vectorizer, y_train) \n",
        "predictions = naive_bayes.predict(X_test_vectorizer)"
      ],
      "execution_count": 0,
      "outputs": []
    },
    {
      "cell_type": "code",
      "metadata": {
        "id": "4v_GNGVrzHM1",
        "colab_type": "code",
        "outputId": "18d8a3ce-5013-4c0e-da09-359b45727ac2",
        "colab": {
          "base_uri": "https://localhost:8080/",
          "height": 255
        }
      },
      "source": [
        "from sklearn.metrics import accuracy_score, precision_score, recall_score,classification_report\n",
        "\n",
        "print(classification_report(y_test, predictions, target_names=['Neutral','Positive','Negative','Po']))"
      ],
      "execution_count": 0,
      "outputs": [
        {
          "output_type": "stream",
          "text": [
            "              precision    recall  f1-score   support\n",
            "\n",
            "     Neutral       0.33      0.29      0.31         7\n",
            "    Positive       0.50      0.25      0.33         8\n",
            "    Negative       0.00      0.00      0.00         1\n",
            "          Po       0.47      0.78      0.58         9\n",
            "\n",
            "    accuracy                           0.44        25\n",
            "   macro avg       0.32      0.33      0.31        25\n",
            "weighted avg       0.42      0.44      0.40        25\n",
            "\n"
          ],
          "name": "stdout"
        },
        {
          "output_type": "stream",
          "text": [
            "/usr/local/lib/python3.6/dist-packages/sklearn/metrics/_classification.py:1272: UndefinedMetricWarning: Precision and F-score are ill-defined and being set to 0.0 in labels with no predicted samples. Use `zero_division` parameter to control this behavior.\n",
            "  _warn_prf(average, modifier, msg_start, len(result))\n"
          ],
          "name": "stderr"
        }
      ]
    },
    {
      "cell_type": "code",
      "metadata": {
        "id": "_H-K7sv9ztAP",
        "colab_type": "code",
        "outputId": "f9bcd5de-646e-401d-894a-bee858e5c0d9",
        "colab": {
          "base_uri": "https://localhost:8080/",
          "height": 34
        }
      },
      "source": [
        "#SVM\n",
        "from sklearn import model_selection, naive_bayes, svm\n",
        "\n",
        "SVM = svm.SVC(C=1.0, kernel='linear', degree=3, gamma='auto')\n",
        "SVM.fit(X_train_vectorizer,y_train)\n",
        "predictions_SVM = SVM.predict(X_test_vectorizer)\n",
        "print(\"SVM Accuracy Score -> \",accuracy_score(predictions_SVM, y_test)*100)"
      ],
      "execution_count": 0,
      "outputs": [
        {
          "output_type": "stream",
          "text": [
            "SVM Accuracy Score ->  32.0\n"
          ],
          "name": "stdout"
        }
      ]
    },
    {
      "cell_type": "code",
      "metadata": {
        "id": "2mNH4P74zwyt",
        "colab_type": "code",
        "outputId": "e77cd4c9-4665-4a60-9bd6-e200676b37f4",
        "colab": {
          "base_uri": "https://localhost:8080/",
          "height": 121
        }
      },
      "source": [
        "from sklearn.datasets import make_classification\n",
        "from sklearn.metrics import f1_score\n",
        "print(\"precision_score:\", precision_score(y_test, predictions_SVM, average='macro'))\n",
        "print(\"recall_score:\", recall_score(y_test, predictions_SVM, average='macro'))\n",
        "print(\"f1_score:\", f1_score(y_test, predictions_SVM, average='macro'))"
      ],
      "execution_count": 0,
      "outputs": [
        {
          "output_type": "stream",
          "text": [
            "precision_score: 0.16964285714285715\n",
            "recall_score: 0.23809523809523808\n",
            "f1_score: 0.19710144927536233\n"
          ],
          "name": "stdout"
        },
        {
          "output_type": "stream",
          "text": [
            "/usr/local/lib/python3.6/dist-packages/sklearn/metrics/_classification.py:1272: UndefinedMetricWarning: Precision is ill-defined and being set to 0.0 in labels with no predicted samples. Use `zero_division` parameter to control this behavior.\n",
            "  _warn_prf(average, modifier, msg_start, len(result))\n"
          ],
          "name": "stderr"
        }
      ]
    },
    {
      "cell_type": "markdown",
      "metadata": {
        "id": "E5mmYIfN8eYV",
        "colab_type": "text"
      },
      "source": [
        "# **Question 3: House price prediction**"
      ]
    },
    {
      "cell_type": "markdown",
      "metadata": {
        "id": "hsi2y4z88ngX",
        "colab_type": "text"
      },
      "source": [
        "(40 points). You are required to build a **regression** model to predict the house price with 79 explanatory variables describing (almost) every aspect of residential homes. The purpose of this question is to practice regression analysis, an supervised learning model. The training data, testing data, and data description files can be download here: https://github.com/unt-iialab/INFO5731_Spring2020/blob/master/Assignments/assignment4-question3-data.zip. Here is an axample for implementation: https://towardsdatascience.com/linear-regression-in-python-predict-the-bay-areas-home-price-5c91c8378878. \n"
      ]
    },
    {
      "cell_type": "code",
      "metadata": {
        "id": "XfvMKJjIXS5G",
        "colab_type": "code",
        "colab": {}
      },
      "source": [
        "import pandas as pd\n",
        "sf_train = pd.read_csv('/content/train.csv')\n",
        "sf_test = pd.read_csv('/content/test.csv')"
      ],
      "execution_count": 0,
      "outputs": []
    },
    {
      "cell_type": "code",
      "metadata": {
        "id": "T-CTTfJ-0Td_",
        "colab_type": "code",
        "outputId": "8d0fe63a-fb9c-4e02-a38f-02d5abf7a30c",
        "colab": {
          "base_uri": "https://localhost:8080/",
          "height": 836
        }
      },
      "source": [
        "%matplotlib inline\n",
        "import matplotlib.pyplot as plt\n",
        "sf_train.hist(bins=50, figsize=(20,15))\n",
        "plt.savefig(\"Plots_Picture\")\n",
        "plt.show()"
      ],
      "execution_count": 4,
      "outputs": [
        {
          "output_type": "display_data",
          "data": {
            "image/png": "[encoded data removed]",
            "text/plain": [
              "<Figure size 1440x1080 with 42 Axes>"
            ]
          },
          "metadata": {
            "tags": [],
            "needs_background": "light"
          }
        }
      ]
    },
    {
      "cell_type": "code",
      "metadata": {
        "id": "HU-st04n0myC",
        "colab_type": "code",
        "colab": {
          "base_uri": "https://localhost:8080/",
          "height": 672
        },
        "outputId": "acea9aa5-88f3-4415-c25c-72ffbb1e576a"
      },
      "source": [
        "corr_matrix = sf_train.corr()\n",
        "corr_matrix[\"SalePrice\"].sort_values(ascending=False)"
      ],
      "execution_count": 5,
      "outputs": [
        {
          "output_type": "execute_result",
          "data": {
            "text/plain": [
              "SalePrice        1.000000\n",
              "OverallQual      0.790982\n",
              "GrLivArea        0.708624\n",
              "GarageCars       0.640409\n",
              "GarageArea       0.623431\n",
              "TotalBsmtSF      0.613581\n",
              "1stFlrSF         0.605852\n",
              "FullBath         0.560664\n",
              "TotRmsAbvGrd     0.533723\n",
              "YearBuilt        0.522897\n",
              "YearRemodAdd     0.507101\n",
              "GarageYrBlt      0.486362\n",
              "MasVnrArea       0.477493\n",
              "Fireplaces       0.466929\n",
              "BsmtFinSF1       0.386420\n",
              "LotFrontage      0.351799\n",
              "WoodDeckSF       0.324413\n",
              "2ndFlrSF         0.319334\n",
              "OpenPorchSF      0.315856\n",
              "HalfBath         0.284108\n",
              "LotArea          0.263843\n",
              "BsmtFullBath     0.227122\n",
              "BsmtUnfSF        0.214479\n",
              "BedroomAbvGr     0.168213\n",
              "ScreenPorch      0.111447\n",
              "PoolArea         0.092404\n",
              "MoSold           0.046432\n",
              "3SsnPorch        0.044584\n",
              "BsmtFinSF2      -0.011378\n",
              "BsmtHalfBath    -0.016844\n",
              "MiscVal         -0.021190\n",
              "Id              -0.021917\n",
              "LowQualFinSF    -0.025606\n",
              "YrSold          -0.028923\n",
              "OverallCond     -0.077856\n",
              "MSSubClass      -0.084284\n",
              "EnclosedPorch   -0.128578\n",
              "KitchenAbvGr    -0.135907\n",
              "Name: SalePrice, dtype: float64"
            ]
          },
          "metadata": {
            "tags": []
          },
          "execution_count": 5
        }
      ]
    },
    {
      "cell_type": "code",
      "metadata": {
        "id": "oB37Dex606u6",
        "colab_type": "code",
        "colab": {
          "base_uri": "https://localhost:8080/",
          "height": 519
        },
        "outputId": "259f40e1-ecd9-45f0-b308-726bbedf1270"
      },
      "source": [
        "from pandas.plotting import scatter_matrix\n",
        "attributes = [\"SalePrice\", \"OverallQual\", \"GrLivArea\", \"GarageCars\", \"GarageArea\", \"TotalBsmtSF\", \"1stFlrSF\"]\n",
        "scatter_matrix(sf_train[attributes], figsize=(12, 8))\n",
        "plt.savefig('matrix.png')"
      ],
      "execution_count": 6,
      "outputs": [
        {
          "output_type": "display_data",
          "data": {
            "image/png": "[encoded data removed]",
            "text/plain": [
              "<Figure size 864x576 with 49 Axes>"
            ]
          },
          "metadata": {
            "tags": [],
            "needs_background": "light"
          }
        }
      ]
    },
    {
      "cell_type": "code",
      "metadata": {
        "id": "R9OHbkEl1Cee",
        "colab_type": "code",
        "colab": {
          "base_uri": "https://localhost:8080/",
          "height": 279
        },
        "outputId": "52858d4c-1ea1-4aae-c9d9-335745200b4c"
      },
      "source": [
        "sf_train.plot(kind=\"scatter\", x=\"OverallQual\", y=\"SalePrice\", alpha=0.5)\n",
        "plt.savefig('scatter.png')"
      ],
      "execution_count": 7,
      "outputs": [
        {
          "output_type": "display_data",
          "data": {
            "image/png": "[encoded data removed]",
            "text/plain": [
              "<Figure size 432x288 with 1 Axes>"
            ]
          },
          "metadata": {
            "tags": [],
            "needs_background": "light"
          }
        }
      ]
    },
    {
      "cell_type": "code",
      "metadata": {
        "id": "pH_vm-Tg1Fde",
        "colab_type": "code",
        "colab": {}
      },
      "source": [
        "X_Train = sf_train[['OverallQual','GrLivArea','GarageCars','GarageArea','TotalBsmtSF','1stFlrSF','FullBath','TotRmsAbvGrd','YearBuilt','YearRemodAdd','GarageYrBlt','MasVnrArea','Fireplaces','BsmtFinSF1','LotFrontage','WoodDeckSF','2ndFlrSF','OpenPorchSF','HalfBath','LotArea','BsmtFullBath','BsmtUnfSF','BedroomAbvGr','ScreenPorch','PoolArea','MoSold','3SsnPorch']]\n",
        "X_Train=X_Train.fillna(X_Train.mean())\n",
        "Y_Train = sf_train['SalePrice']\n",
        "Y_Train=Y_Train.fillna(Y_Train.mean())\n",
        "X_Test = sf_test[['OverallQual','GrLivArea','GarageCars','GarageArea','TotalBsmtSF','1stFlrSF','FullBath','TotRmsAbvGrd','YearBuilt','YearRemodAdd','GarageYrBlt','MasVnrArea','Fireplaces','BsmtFinSF1','LotFrontage','WoodDeckSF','2ndFlrSF','OpenPorchSF','HalfBath','LotArea','BsmtFullBath','BsmtUnfSF','BedroomAbvGr','ScreenPorch','PoolArea','MoSold','3SsnPorch']]\n",
        "X_Test = X_Test.fillna(X_Test.mean())"
      ],
      "execution_count": 0,
      "outputs": []
    },
    {
      "cell_type": "code",
      "metadata": {
        "id": "7FPekCYr1Nsg",
        "colab_type": "code",
        "colab": {
          "base_uri": "https://localhost:8080/",
          "height": 34
        },
        "outputId": "bb3f0b6d-081d-4cd6-ea88-7c3c6a43eb49"
      },
      "source": [
        "from sklearn.linear_model import LinearRegression\n",
        "regressor = LinearRegression()\n",
        "regressor.fit(X_Train, Y_Train)"
      ],
      "execution_count": 9,
      "outputs": [
        {
          "output_type": "execute_result",
          "data": {
            "text/plain": [
              "LinearRegression(copy_X=True, fit_intercept=True, n_jobs=None, normalize=False)"
            ]
          },
          "metadata": {
            "tags": []
          },
          "execution_count": 9
        }
      ]
    },
    {
      "cell_type": "code",
      "metadata": {
        "id": "eQWk7O6a1PSp",
        "colab_type": "code",
        "colab": {
          "base_uri": "https://localhost:8080/",
          "height": 34
        },
        "outputId": "0ac5bf29-f713-41e5-bdb8-60d6ea6516ae"
      },
      "source": [
        "print('Linear Regression R squared is :\": %.4f' % regressor.score(X_Train, Y_Train))"
      ],
      "execution_count": 11,
      "outputs": [
        {
          "output_type": "stream",
          "text": [
            "Linear Regression R squared is :\": 0.8005\n"
          ],
          "name": "stdout"
        }
      ]
    }
  ]
}