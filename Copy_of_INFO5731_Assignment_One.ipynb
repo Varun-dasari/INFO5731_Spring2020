{
  "nbformat": 4,
  "nbformat_minor": 0,
  "metadata": {
    "colab": {
      "name": "Copy of INFO5731_Assignment_One.ipynb",
      "provenance": [],
      "collapsed_sections": [],
      "include_colab_link": true
    },
    "kernelspec": {
      "name": "python3",
      "display_name": "Python 3"
    }
  },
  "cells": [
    {
      "cell_type": "markdown",
      "metadata": {
        "id": "view-in-github",
        "colab_type": "text"
      },
      "source": [
        "<a href=\"https://colab.research.google.com/github/Varun-dasari/INFO5731_Spring2020/blob/master/Copy_of_INFO5731_Assignment_One.ipynb\" target=\"_parent\"><img src=\"https://colab.research.google.com/assets/colab-badge.svg\" alt=\"Open In Colab\"/></a>"
      ]
    },
    {
      "cell_type": "markdown",
      "metadata": {
        "id": "Ryk8D1Q4Wsrp",
        "colab_type": "text"
      },
      "source": [
        "# **INFO5731 Assignment One**"
      ]
    },
    {
      "cell_type": "markdown",
      "metadata": {
        "id": "90_NR8c5XGWc",
        "colab_type": "text"
      },
      "source": [
        "# Question 1\n",
        "\n",
        "(20 points). Write a Python program to generate 12 random numbers between 1 and 100. Sort the list of numbers in ascending order and print it out. Sort the list of numbers in descending order and print it out. Calculate the average for the group and print it out."
      ]
    },
    {
      "cell_type": "code",
      "metadata": {
        "id": "5QX6bJjGWXY9",
        "colab_type": "code",
        "outputId": "8cd4cb6f-1037-4d61-908c-1bf84d9a9e03",
        "colab": {
          "base_uri": "https://localhost:8080/",
          "height": 84
        }
      },
      "source": [
        "import random \n",
        "def Average(a): \n",
        "    return sum(a) / len(a) \n",
        "\n",
        "def Rand(start, end, num): \n",
        "    res = [] \n",
        "  \n",
        "    for j in range(num): \n",
        "        res.append(random.randint(start, end)) \n",
        "  \n",
        "    return res \n",
        "   \n",
        "num = 12\n",
        "start = 1\n",
        "end = 100\n",
        "a = (Rand(start, end, num)) \n",
        "print(\"Random list:\", a)\n",
        "a.sort()\n",
        "print(\"Ascending Order:\", a)\n",
        "a.sort(reverse = True)\n",
        "print(\"Descending Order:\", a)\n",
        "\n",
        "avg = Average(a) \n",
        "print(\"Average of the list =\", round(avg, 2)) \n",
        "\n"
      ],
      "execution_count": 3,
      "outputs": [
        {
          "output_type": "stream",
          "text": [
            "Random list: [14, 59, 85, 58, 30, 3, 80, 59, 100, 48, 46, 35]\n",
            "Ascending Order: [3, 14, 30, 35, 46, 48, 58, 59, 59, 80, 85, 100]\n",
            "Descending Order: [100, 85, 80, 59, 59, 58, 48, 46, 35, 30, 14, 3]\n",
            "Average of the list = 51.42\n"
          ],
          "name": "stdout"
        }
      ]
    },
    {
      "cell_type": "markdown",
      "metadata": {
        "id": "1F_PZdH9Sh49",
        "colab_type": "text"
      },
      "source": [
        "# Question 2\n",
        "(25 points). Write a program that will do the following string formatting tasks:\n",
        "\n",
        "(1) Ask the user to enter two sentences.\n",
        "\n",
        "(2) Make each sentence into a list. Each element in the list should correspond to a word in the sentence. For example, if the sentence is \"Alas! Am I alive? This is my first python program\", the program should print out ['Alas, '!', 'Am', 'I', 'alive, '?', 'This', 'is', 'my', 'first', 'python', 'program'].\n",
        "\n",
        "(3) Compare the two sentences. Print out a list of words that occur in both sentences.\n",
        "\n",
        "(4) Remove any punctuation from the sentence and print it back out. It should remove at least the following characters, but it can remove more: period(“.”), comma (“,”), semicolon (“;”), and colon (“:”)\n",
        "\n",
        "(5) Count the number of vowels in the sentences. Print out each vowel and the number of times it appears in the sentences, such as: a:2, e:1, i:0, etc"
      ]
    },
    {
      "cell_type": "code",
      "metadata": {
        "id": "Y0oOSlsOS0cq",
        "colab_type": "code",
        "colab": {
          "base_uri": "https://localhost:8080/",
          "height": 134
        },
        "outputId": "09344e83-64d4-4694-ec49-f42dec855c49"
      },
      "source": [
        "#Convertion Function\n",
        "def cnv(l):\n",
        "  return l.split()\n",
        "\n",
        "#Common Words Function\n",
        "def comwords(l1, l2):\n",
        "\n",
        "  for i in range(len(l1)):\n",
        "    for j in range(len(l2)):\n",
        "      if l2[j]==l1[i]:\n",
        "        print(l2[j]) \n",
        "      else:\n",
        "        continue\n",
        "\n",
        "#Function for Punctuations\n",
        "def Punct(string):\n",
        "\n",
        "    punctuations = '''!()-[]{};:'\"\\,<>./?@#$%^&*'''\n",
        "\n",
        "    for x in string.lower():\n",
        "        if x in punctuations:\n",
        "            string = string.replace(x, \"\")\n",
        "    print(string)\n",
        "\n",
        "l1 = []\n",
        "l2 = []\n",
        "S1 = input('Enter the First Sentence: ')\n",
        "S2 = input('Enter the second Sentence:')\n",
        "\n",
        "l1 = cnv(S1)\n",
        "print(l1)\n",
        "l2 = cnv(S2)\n",
        "print(l2)\n",
        "comwords(l1, l2)\n",
        "Punct(S1)\n",
        "Punct(S2)\n",
        "\n",
        "vowels = 'aeiou'\n",
        "S1 = S1.casefold()\n",
        "S2 = S2.casefold()\n",
        "\n",
        "count = {}.fromkeys(vowels,0)\n",
        "\n",
        "for char in S1:\n",
        "  if char in count:\n",
        "    count[char] += 1\n",
        "\n",
        "for char in S2:\n",
        "  if char in count:\n",
        "    count[char] += 1   \n",
        "\n",
        "print(count)\n",
        "\n"
      ],
      "execution_count": 2,
      "outputs": [
        {
          "output_type": "stream",
          "text": [
            "Enter the First Sentence: University %b= @ )( o& * ! Nor^ ^%^&&*%$\n",
            "Enter the second Sentence:T)(e3x % &^ A *m$#$# ric!@! !{ }? \\ ?//\n",
            "['University', '%b=', '@', ')(', 'o&', '*', '!', 'Nor^', '^%^&&*%$']\n",
            "['T)(e3x', '%', '&^', 'A', '*m$#$#', 'ric!@!', '!{', '}?', '\\\\', '?//']\n",
            "University b=   o   Nor \n",
            "Te3x   A m ric    \n",
            "{'a': 1, 'e': 2, 'i': 3, 'o': 2, 'u': 1}\n"
          ],
          "name": "stdout"
        }
      ]
    },
    {
      "cell_type": "markdown",
      "metadata": {
        "id": "CmFoI4jDS9nx",
        "colab_type": "text"
      },
      "source": [
        "# Question 3 \n",
        "\n",
        "(15 points). The formula that describes the volume V of a sphere with radius r is the following:\n",
        "\n",
        "$ V=\\frac{4}{3}\\ast\\ \\pi\\ast\\ r^3 $\n",
        "\n",
        "Write a program to calculate the value of V when r is in the range of 1–10. Output the result in the following format:\n",
        "\n",
        "\tr\tV\n",
        "\t1\t…\n",
        "\t2\t…\n",
        "\t3\t…\n"
      ]
    },
    {
      "cell_type": "code",
      "metadata": {
        "id": "pEyqeioAT95b",
        "colab_type": "code",
        "colab": {
          "base_uri": "https://localhost:8080/",
          "height": 202
        },
        "outputId": "88175286-94ca-4c74-da9e-444bcb2261f8"
      },
      "source": [
        "# Your code here\n",
        "pi=3.14\n",
        "print('r' + '    ' + 'v')\n",
        "for r in range(1,11):\n",
        "  v = (4/3) * pi * (r)**3\n",
        "  print(str(r) + '    ' + str(v))\n"
      ],
      "execution_count": 1,
      "outputs": [
        {
          "output_type": "stream",
          "text": [
            "r    v\n",
            "1    4.1866666666666665\n",
            "2    33.49333333333333\n",
            "3    113.03999999999999\n",
            "4    267.94666666666666\n",
            "5    523.3333333333334\n",
            "6    904.3199999999999\n",
            "7    1436.0266666666666\n",
            "8    2143.5733333333333\n",
            "9    3052.08\n",
            "10    4186.666666666667\n"
          ],
          "name": "stdout"
        }
      ]
    },
    {
      "cell_type": "code",
      "metadata": {
        "id": "pMCr3l8tnu0j",
        "colab_type": "code",
        "colab": {}
      },
      "source": [
        ""
      ],
      "execution_count": 0,
      "outputs": []
    },
    {
      "cell_type": "markdown",
      "metadata": {
        "id": "z3tBE7E-Xn5X",
        "colab_type": "text"
      },
      "source": [
        "# Question 4\n",
        "\n",
        "(40 points). In the field of Data Science, data is often formatted as a comma-delimited (CSV) file, where each line in a file corresponds to a field's value. Refer to Chapter 9 (p. 106) for more information on comma-delimited files. To answer this question, you will need to download the file [Assignment1_denton_housing.csv](https://github.com/unt-iialab/INFO5731_Spring2020/blob/master/Assignments/Assignment1_denton_housing.csv) included with this assignment. The [file Assignment1_denton_housing.csv](https://github.com/unt-iialab/INFO5731_Spring2020/blob/master/Assignments/Assignment1_denton_housing.csv) contains statistics about housing in the city of Denton from 2008 to 2014. Write a program to implement the following questions.\n",
        "\n",
        "(1) (10 pts) Calculate the difference in the number of Occupied Housing Units from year to year and print it. The difference must be calculated for the consecutive years such as 2008-2009, 2009-2010 etc. Finally, print the values in the ascending order.\n",
        "\n",
        "(2) (10 pts) For all the years, calculate the percentage of housing units which are vacant an occupied. Print the results in the following format:\n",
        "\n",
        "Year Vacant Housing Units Occupied Housing Units\n",
        "\n",
        "    2008  30%   70%                          \n",
        "\t2009 ----- -----\n",
        "\t2010 ----- -----\n",
        "    2011 ----- -----\n",
        "\t2012 ----- -----\n",
        "    2013 ----- -----\n",
        "\t2014 ----- -----\n",
        "  \n",
        "  \n",
        "\n",
        "(3) (10 pts) Calculate and print the valued and years in which the highest number of housing units were vacant and occupied. Print the results in the following format:  \n",
        "\n",
        "                              Year\tValue\n",
        "\tVacant Housing Units\t  -----   -----\n",
        "\tOccupied Housing Units\t-----   -----\n",
        "\n",
        "(4) (10 pts) Calculate the harmonic mean of the total housing units and print it out. You can find the information about harmonic mean here: https://ncalculators.com/statistics/harmonic-mean-calculator.htm"
      ]
    },
    {
      "cell_type": "code",
      "metadata": {
        "id": "lqGYuHBhcsRH",
        "colab_type": "code",
        "colab": {
          "base_uri": "https://localhost:8080/",
          "height": 134
        },
        "outputId": "44f0ef19-e804-4d9e-fdaa-ff10359711c2"
      },
      "source": [
        "#1\n",
        "import pandas as pd\n",
        "url = \"https://raw.githubusercontent.com/unt-iialab/INFO5731_Spring2020/master/Assignments/Assignment1_denton_housing.csv\"\n",
        "\n",
        "df = pd.read_csv(url)\n",
        "\n",
        "df = df[df['title_field'] == 'Occupied Housing Units']\n",
        "df = df['value']\n",
        "df.diff().sort_values().dropna()\n",
        "\n"
      ],
      "execution_count": 7,
      "outputs": [
        {
          "output_type": "execute_result",
          "data": {
            "text/plain": [
              "17   -5091.0\n",
              "5    -2622.0\n",
              "8    -1565.0\n",
              "11   -1404.0\n",
              "14     303.0\n",
              "20     795.0\n",
              "Name: value, dtype: float64"
            ]
          },
          "metadata": {
            "tags": []
          },
          "execution_count": 7
        }
      ]
    },
    {
      "cell_type": "code",
      "metadata": {
        "id": "WQzjFwUb0ATI",
        "colab_type": "code",
        "colab": {
          "base_uri": "https://localhost:8080/",
          "height": 151
        },
        "outputId": "c7688c93-23ca-4074-b745-5ccb80af1043"
      },
      "source": [
        "#2\n",
        "df = pd.read_csv(url)\n",
        "\n",
        "occH = df.loc[df['title_field'] == 'Occupied Housing Units'].sort_values(by = ['year'])['value'].values.tolist()\n",
        "vacH = df.loc[df['title_field'] == 'Vacant Housing Units'].sort_values(by = ['year'])['value'].values.tolist()\n",
        "total = df.loc[df['title_field'] == 'Total Housing Units'].sort_values(by=['year'])['value'].values.tolist()\n",
        "\n",
        "vacPercent = [str((i/j)*100)+' %' for i,j in zip(vacH,total)]\n",
        "occPercent = [str((i/j)*100)+' %' for i,j in zip(occH,total)]\n",
        "\n",
        "df = pd.concat([pd.DataFrame(df.loc[df['title_field'] == 'Occupied Housing Units'].sort_values(by = ['year'])['year'].values.tolist(),\n",
        "                             columns=['Year']),\n",
        "                pd.DataFrame(vacPercent,columns =['vacant housing units']),\n",
        "                pd.DataFrame(occPercent,columns =['occupied housing units'])],axis=1)\n",
        "print(df)\n"
      ],
      "execution_count": 13,
      "outputs": [
        {
          "output_type": "stream",
          "text": [
            "   Year vacant housing units occupied housing units\n",
            "0  2008  10.88265281351653 %    89.11734718648347 %\n",
            "1  2009   9.07111572444872 %    90.92888427555128 %\n",
            "2  2010  8.142556337081672 %    91.85744366291833 %\n",
            "3  2011  9.379522229890688 %     90.6204777701093 %\n",
            "4  2012  6.677600230491346 %    93.32239976950866 %\n",
            "5  2013  8.801787504176412 %    91.19821249582358 %\n",
            "6  2014  5.730110570363885 %    94.26988942963611 %\n"
          ],
          "name": "stdout"
        }
      ]
    },
    {
      "cell_type": "code",
      "metadata": {
        "id": "BNGFEPG50KKO",
        "colab_type": "code",
        "colab": {
          "base_uri": "https://localhost:8080/",
          "height": 67
        },
        "outputId": "4ab6bd99-2804-4524-906a-aeb26f7f90c0"
      },
      "source": [
        "#3\n",
        "df = pd.read_csv(url)\n",
        "df = df.sort_values(by = ['year'])\n",
        "maxOcc = df.loc[df['title_field'] == 'Occupied Housing Units','value'].max()\n",
        "maxVac = df.loc[df['title_field'] == 'Vacant Housing Units','value'].max()\n",
        "occdf = df.loc[(df['title_field'] == 'Occupied Housing Units') & (df['value'] == maxOcc)]\n",
        "vacdf = df.loc[(df['title_field'] == 'Vacant Housing Units') & (df['value'] == maxVac)]\n",
        "df = pd.concat([vacdf,occdf])\n",
        "print(df[['title_field','year','value']])"
      ],
      "execution_count": 14,
      "outputs": [
        {
          "output_type": "stream",
          "text": [
            "               title_field  year  value\n",
            "19    Vacant Housing Units  2008   4483\n",
            "2   Occupied Housing Units  2014  46295\n"
          ],
          "name": "stdout"
        }
      ]
    },
    {
      "cell_type": "code",
      "metadata": {
        "id": "qHPiwZZc0M0q",
        "colab_type": "code",
        "colab": {
          "base_uri": "https://localhost:8080/",
          "height": 34
        },
        "outputId": "f5ce7b3b-2399-4d3b-d3de-6c0f3fae7018"
      },
      "source": [
        "#4\n",
        "from scipy import stats\n",
        "df = pd.read_csv(url)\n",
        "total = df.loc[df['title_field'] == 'Total Housing Units','value'].values\n",
        "print (\"harmonic mean of total housing units=  %f\"%stats.hmean(total))"
      ],
      "execution_count": 10,
      "outputs": [
        {
          "output_type": "stream",
          "text": [
            "harmonic mean of total housing units=  44398.285440\n"
          ],
          "name": "stdout"
        }
      ]
    }
  ]
}