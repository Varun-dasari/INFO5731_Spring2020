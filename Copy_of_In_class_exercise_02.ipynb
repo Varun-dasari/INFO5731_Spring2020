{
  "nbformat": 4,
  "nbformat_minor": 0,
  "metadata": {
    "colab": {
      "name": "Copy of In_class_exercise_02.ipynb",
      "provenance": [],
      "collapsed_sections": [],
      "toc_visible": true,
      "include_colab_link": true
    },
    "kernelspec": {
      "name": "python3",
      "display_name": "Python 3"
    }
  },
  "cells": [
    {
      "cell_type": "markdown",
      "metadata": {
        "id": "view-in-github",
        "colab_type": "text"
      },
      "source": [
        "<a href=\"https://colab.research.google.com/github/Varun-dasari/INFO5731_Spring2020/blob/master/Copy_of_In_class_exercise_02.ipynb\" target=\"_parent\"><img src=\"https://colab.research.google.com/assets/colab-badge.svg\" alt=\"Open In Colab\"/></a>"
      ]
    },
    {
      "cell_type": "markdown",
      "metadata": {
        "id": "oo5bsEh2eeWi",
        "colab_type": "text"
      },
      "source": [
        "# **The second In-class-exercise**\n"
      ]
    },
    {
      "cell_type": "markdown",
      "metadata": {
        "id": "2sPQ58dIeqgp",
        "colab_type": "text"
      },
      "source": [
        "(1) Write a Python program to find the duplicate elements in a given array of integers. Return -1 If there are no such elements."
      ]
    },
    {
      "cell_type": "code",
      "metadata": {
        "id": "mnrvKMFTeoJR",
        "colab_type": "code",
        "outputId": "e59debf3-5a35-43cf-d264-cf190c2207c9",
        "colab": {
          "base_uri": "https://localhost:8080/",
          "height": 34
        }
      },
      "source": [
        "# write your answer here\n",
        "\n",
        "import array as arr\n",
        "\n",
        "def Repeat(x): \n",
        "    _size = len(x) \n",
        "    repeated = [] \n",
        "    for i in range(_size): \n",
        "        k = i + 1\n",
        "        for j in range(k, _size): \n",
        "            if x[i] == x[j] and x[i] not in repeated: \n",
        "                repeated.append(x[i]) \n",
        "    return repeated \n",
        "             \n",
        "a = arr.array('i', [ 10, 20, 30, 30, 40])\n",
        "\n",
        "print(Repeat(a))"
      ],
      "execution_count": 3,
      "outputs": [
        {
          "output_type": "stream",
          "text": [
            "[30]\n"
          ],
          "name": "stdout"
        }
      ]
    },
    {
      "cell_type": "markdown",
      "metadata": {
        "id": "YYrH6n6IhZoQ",
        "colab_type": "text"
      },
      "source": [
        "(2) Write a Python program to select all the Sundays of a specified year.\n",
        "\n"
      ]
    },
    {
      "cell_type": "code",
      "metadata": {
        "id": "OSfPLd23eLpX",
        "colab_type": "code",
        "outputId": "151340a9-cdc4-4ca9-d4ce-61555717515d",
        "colab": {
          "base_uri": "https://localhost:8080/",
          "height": 890
        }
      },
      "source": [
        "from datetime import date, timedelta\n",
        "\n",
        "def all_sundays(year):\n",
        "# January 1st of the given year\n",
        "       dt = date(year, 1, 1)\n",
        "# First Sunday of the given year       \n",
        "       dt += timedelta(days = 6 - dt.weekday())  \n",
        "       while dt.year == year:\n",
        "          yield dt\n",
        "          dt += timedelta(days = 7)\n",
        "          \n",
        "for s in all_sundays(2020):\n",
        "   print(s)\n",
        "   \n",
        "\n",
        "\n"
      ],
      "execution_count": 0,
      "outputs": [
        {
          "output_type": "stream",
          "text": [
            "2020-01-05\n",
            "2020-01-12\n",
            "2020-01-19\n",
            "2020-01-26\n",
            "2020-02-02\n",
            "2020-02-09\n",
            "2020-02-16\n",
            "2020-02-23\n",
            "2020-03-01\n",
            "2020-03-08\n",
            "2020-03-15\n",
            "2020-03-22\n",
            "2020-03-29\n",
            "2020-04-05\n",
            "2020-04-12\n",
            "2020-04-19\n",
            "2020-04-26\n",
            "2020-05-03\n",
            "2020-05-10\n",
            "2020-05-17\n",
            "2020-05-24\n",
            "2020-05-31\n",
            "2020-06-07\n",
            "2020-06-14\n",
            "2020-06-21\n",
            "2020-06-28\n",
            "2020-07-05\n",
            "2020-07-12\n",
            "2020-07-19\n",
            "2020-07-26\n",
            "2020-08-02\n",
            "2020-08-09\n",
            "2020-08-16\n",
            "2020-08-23\n",
            "2020-08-30\n",
            "2020-09-06\n",
            "2020-09-13\n",
            "2020-09-20\n",
            "2020-09-27\n",
            "2020-10-04\n",
            "2020-10-11\n",
            "2020-10-18\n",
            "2020-10-25\n",
            "2020-11-01\n",
            "2020-11-08\n",
            "2020-11-15\n",
            "2020-11-22\n",
            "2020-11-29\n",
            "2020-12-06\n",
            "2020-12-13\n",
            "2020-12-20\n",
            "2020-12-27\n"
          ],
          "name": "stdout"
        }
      ]
    },
    {
      "cell_type": "markdown",
      "metadata": {
        "id": "UIpziZ6Sjie-",
        "colab_type": "text"
      },
      "source": [
        "(3) Python files reading and writing. Download the “[exercise_02_data _collection.zip](https://github.com/unt-iialab/INFO5731_Spring2020/blob/master/In_class_exercise/exercise_02_data_collection.zip)” to your local and un-zip it.\n",
        "\n",
        "*   Write a program to read all the txt files and save the sentences in all the files into one csv file with two columns, the first column is sentence id (txt file name+sentence line number), the second column is the sentence text content.\n",
        "*   Remove all the punctuations from the sentences, save the processed sentences into a new column in the same csv file.\n",
        "*   Ask the user to enter a word, return all the sentences that include this word, three kinds of information should be returned: sentence id, sentence text content, the count that user input word appear in the sentence..\n",
        "\n"
      ]
    },
    {
      "cell_type": "code",
      "metadata": {
        "id": "f3CUsrWOj1Xy",
        "colab_type": "code",
        "outputId": "7437267c-92b8-4b01-be22-98cc5f249f64",
        "colab": {
          "base_uri": "https://localhost:8080/",
          "height": 128
        }
      },
      "source": [
        "# write your answer here\n",
        "text_file = open(\"ARTHROTEC\", \"r\")\n",
        "lines = text_file.readlines()\n",
        "print lines\n",
        "print len(lines)\n",
        "text_file.close()\n",
        "\n",
        "while i <= 100: # Loop to open and read all 100 files\n",
        "        input_file_name = \"Assign-two-data-collection//\"+\"ARTHROTEC.\"+str(i)+\".txt\" # File name changes with index value\n",
        "\n",
        "with open(\"output.csv\",\"w\") as output_file:\n",
        "    file_writer = csv.writer(output_file,delimiter=',') # Create file writing variable\n",
        "    file_writer.writerows(temp_data) # Add all temporary data to the file\n",
        "\n",
        "import csv\n",
        "import re\n",
        "user_input = input(\"Enter a word: \") # Ask the user for word input\n",
        "with open(\"output.csv\",'r') as input_file:\n",
        "    file_reader = csv.reader(input_file) # Create file reading variable\n",
        "    for row in file_reader: # Loop to read each row from the file\n",
        "        search_term = \" \"+user_input+\" \"\n",
        "        if search_term in row[2]:\n",
        "            found_words = re.findall(search_term,row[2])\n",
        "            print(row[0],row[1],len(found_words))\n",
        "\n"
      ],
      "execution_count": 0,
      "outputs": [
        {
          "output_type": "error",
          "ename": "SyntaxError",
          "evalue": "ignored",
          "traceback": [
            "\u001b[0;36m  File \u001b[0;32m\"<ipython-input-22-b617c6ec62d1>\"\u001b[0;36m, line \u001b[0;32m3\u001b[0m\n\u001b[0;31m    print lines\u001b[0m\n\u001b[0m              ^\u001b[0m\n\u001b[0;31mSyntaxError\u001b[0m\u001b[0;31m:\u001b[0m Missing parentheses in call to 'print'. Did you mean print(lines)?\n"
          ]
        }
      ]
    },
    {
      "cell_type": "markdown",
      "metadata": {
        "id": "-12cqmJEpZOh",
        "colab_type": "text"
      },
      "source": [
        "(4) Install packages nltk, numpy, scipy, pandas, and sklearn on Google Colab. Write a program to test whether they are installed successfully. "
      ]
    },
    {
      "cell_type": "code",
      "metadata": {
        "id": "f1pn1Zl2qK77",
        "colab_type": "code",
        "outputId": "92e4d97a-467c-4f16-c0fb-9300bec18155",
        "colab": {
          "base_uri": "https://localhost:8080/",
          "height": 101
        }
      },
      "source": [
        "# write your answer here\n",
        "\n",
        "import numpy as np \n",
        "  \n",
        "# Creating array object \n",
        "arr = np.array( [[ 1, 2, 3], \n",
        "                 [ 4, 2, 5]] ) \n",
        "  \n",
        "# Printing type of arr object \n",
        "print(\"Array is of type: \", type(arr)) \n",
        "  \n",
        "# Printing array dimensions (axes) \n",
        "print(\"No. of dimensions: \", arr.ndim) \n",
        "  \n",
        "# Printing shape of array \n",
        "print(\"Shape of array: \", arr.shape) \n",
        "  \n",
        "# Printing size (total number of elements) of array \n",
        "print(\"Size of array: \", arr.size) \n",
        "  \n",
        "# Printing type of elements in array \n",
        "print(\"Array stores elements of type: \", arr.dtype) \n",
        "\n",
        "\n",
        "\n",
        "import numpy as np\n",
        "\n",
        "a= np.array([[1,2,3],[2,3,4]])\n",
        "\n",
        "print(a)\n",
        "\n",
        "\n",
        "\n",
        "\n",
        "\n",
        "\n",
        "\n",
        "\n",
        "\n",
        "\n",
        "\n",
        "import pandas as pd\n",
        "\n",
        "data = [1,2,3,4,5]\n",
        "\n",
        "df = pd.DataFrame(data)\n",
        "\n",
        "print(df)\n",
        "\n",
        "\n",
        " \n",
        "\n",
        "\n",
        "\n",
        "\n",
        "\n",
        " \n",
        "\n",
        "import scipy\n",
        "\n",
        "from scipy.constants import pi\n",
        "\n",
        "print(\"sciPy - pi = %.16f\"%scipy.constants.pi)\n",
        "\n",
        "\n",
        "\n",
        "import nltk\n",
        "\n",
        "nltk.download()\n",
        "\n",
        "\n",
        "\n",
        "\n",
        "\n",
        "\n",
        "nltk.word_tokenize(\"Hello! I am Akshatha. How are you?\")\n",
        "\n",
        "\n",
        "\n",
        "\n",
        "\n",
        "\n",
        "\n",
        "\n",
        "\n",
        "\n",
        "\n",
        "\n",
        "\n",
        "\n",
        "\n",
        "import sklearn\n",
        "\n",
        "from sklearn import datasets\n",
        "\n",
        "digits = datasets.load_digits()\n",
        "\n",
        "print(digits)\n",
        "\n"
      ],
      "execution_count": 2,
      "outputs": [
        {
          "output_type": "stream",
          "text": [
            "Array is of type:  <class 'numpy.ndarray'>\n",
            "No. of dimensions:  2\n",
            "Shape of array:  (2, 3)\n",
            "Size of array:  6\n",
            "Array stores elements of type:  int64\n"
          ],
          "name": "stdout"
        }
      ]
    }
  ]
}